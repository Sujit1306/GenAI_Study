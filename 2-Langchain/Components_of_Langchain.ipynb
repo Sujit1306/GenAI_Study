{
 "cells": [
  {
   "cell_type": "markdown",
   "id": "a5dcc88c",
   "metadata": {},
   "source": [
    "<h1>Components of Langchain</h1>"
   ]
  },
  {
   "cell_type": "markdown",
   "id": "69951a93",
   "metadata": {},
   "source": [
    "<h2>RAG: Retrieval and Generation</h2>"
   ]
  },
  {
   "cell_type": "markdown",
   "id": "2751545f",
   "metadata": {},
   "source": [
    "<h3>Module 1:</h3>\n",
    "<ol style=\"font-weight: bold;\">\n",
    "  <li>Data Ingestion: <span style=\"font-weight: normal;\">loading the dataset from various data sources.</span></li>\n",
    "  <li>Data Transformation: <span style=\"font-weight: normal;\">splitting the data into smaller chunks.</span></li>\n",
    "  <li>Embedding: <span style=\"font-weight: normal;\">convert the data chunks into vectors.</span></li>\n",
    "  <li>Storing in VectorStoreDB: <span style=\"font-weight: normal;\">store the vectors in VectorStoreDB.</span></li>\n",
    "</ol>"
   ]
  },
  {
   "cell_type": "markdown",
   "id": "a671355e",
   "metadata": {},
   "source": [
    "<h3>Module 2:</h3>\n",
    "<ol style=\"font-weight: bold;\">\n",
    "  <li>Question: <span style=\"font-weight: normal;\">user asks any question.</span></li>\n",
    "  <li>Retrieval Chain: <span style=\"font-weight: normal;\">querying the VectorStoreDB and retrieve context.</span></li>\n",
    "  <li>Prompt: <span style=\"font-weight: normal;\">Context info and Question will be integrated in our prompt template and given to LLM.</span></li>\n",
    "  <li>Output: <span style=\"font-weight: normal;\">LLM will generate final output.</span></li>\n",
    "</ol>"
   ]
  }
 ],
 "metadata": {
  "language_info": {
   "name": "python"
  }
 },
 "nbformat": 4,
 "nbformat_minor": 5
}
