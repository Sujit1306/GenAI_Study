{
 "cells": [
  {
   "cell_type": "markdown",
   "id": "2a552531",
   "metadata": {},
   "source": [
    "# Vector Store DB"
   ]
  },
  {
   "cell_type": "code",
   "execution_count": 1,
   "id": "f250b78f",
   "metadata": {},
   "outputs": [],
   "source": [
    "import os \n",
    "from dotenv import load_dotenv\n",
    "load_dotenv()\n",
    "\n",
    "from langchain_community.document_loaders import TextLoader\n",
    "from langchain_text_splitters import RecursiveCharacterTextSplitter as RCTS \n",
    "from langchain_mistralai import MistralAIEmbeddings\n",
    "from langchain_community.vectorstores import FAISS\n",
    "\n",
    "os.environ[\"MISTRAL_API_KEY\"] = os.getenv(\"MISTRAL_API_KEY\")\n",
    "GROQ_API_KEY = os.getenv(\"GROQ_API_KEY\")"
   ]
  },
  {
   "cell_type": "code",
   "execution_count": 2,
   "id": "abe2fe76",
   "metadata": {},
   "outputs": [],
   "source": [
    "loader = TextLoader('speech.txt')\n",
    "docs = loader.load()"
   ]
  },
  {
   "cell_type": "code",
   "execution_count": 3,
   "id": "3c31ed64",
   "metadata": {},
   "outputs": [],
   "source": [
    "splitter = RCTS(chunk_size=500, chunk_overlap=50)\n",
    "final_docs = splitter.split_documents(docs)"
   ]
  },
  {
   "cell_type": "code",
   "execution_count": 9,
   "id": "3a1f8d4e",
   "metadata": {},
   "outputs": [],
   "source": [
    "embedding = MistralAIEmbeddings(model=\"mistral-embed\")\n",
    "db = FAISS.from_documents(final_docs, embedding)"
   ]
  },
  {
   "cell_type": "code",
   "execution_count": 11,
   "id": "c709683a",
   "metadata": {},
   "outputs": [
    {
     "data": {
      "text/plain": [
       "'In a coffee shop, a startup founder sketches out an architecture on a napkin, unsure whether it will disrupt an industry or crash on launch. Down the street, a graphic designer experiments with generative art, watching in awe as a diffusion model paints what she only dreamed. New languages emerge—not of grammar, but of instructions, tokens, and layers. New literacies are demanded not by institutions but by the pace of innovation.'"
      ]
     },
     "execution_count": 11,
     "metadata": {},
     "output_type": "execute_result"
    }
   ],
   "source": [
    "# querying\n",
    "query = \"what is the author talking about?\"\n",
    "query_result = db.similarity_search(query)\n",
    "query_result[0].page_content\n"
   ]
  },
  {
   "cell_type": "markdown",
   "id": "f0919ff0",
   "metadata": {},
   "source": [
    "## Retriever \n",
    "We can also convert db class to retriever class. <br>\n",
    "\n",
    "Allows us to easily use it in other LangChain methods. <br>\n",
    "\n",
    "LangChain largely works with retrievers."
   ]
  },
  {
   "cell_type": "code",
   "execution_count": 12,
   "id": "61894b14",
   "metadata": {},
   "outputs": [],
   "source": [
    "retriever = db.as_retriever()\n",
    "ret_docs = retriever.invoke(query)"
   ]
  },
  {
   "cell_type": "code",
   "execution_count": null,
   "id": "629dc678",
   "metadata": {},
   "outputs": [],
   "source": [
    "# saving and loading\n",
    "db.save_local(\"faiss_index\")\n",
    "new_db = FAISS.load_local(\"faiss_index\", embedding, allow_dangerous_deserialization=True)"
   ]
  }
 ],
 "metadata": {
  "kernelspec": {
   "display_name": "Python 3",
   "language": "python",
   "name": "python3"
  },
  "language_info": {
   "codemirror_mode": {
    "name": "ipython",
    "version": 3
   },
   "file_extension": ".py",
   "mimetype": "text/x-python",
   "name": "python",
   "nbconvert_exporter": "python",
   "pygments_lexer": "ipython3",
   "version": "3.12.0"
  }
 },
 "nbformat": 4,
 "nbformat_minor": 5
}
