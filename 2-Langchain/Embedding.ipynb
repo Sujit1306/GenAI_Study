{
 "cells": [
  {
   "cell_type": "markdown",
   "id": "97e64e13",
   "metadata": {},
   "source": [
    "# Embedding"
   ]
  },
  {
   "cell_type": "code",
   "execution_count": 2,
   "id": "c7d84700",
   "metadata": {},
   "outputs": [],
   "source": [
    "import os\n",
    "from dotenv import load_dotenv\n",
    "load_dotenv()\n",
    "os.environ[\"MISTRAL_API_KEY\"]=os.getenv(\"MISTRAL_API_KEY\")"
   ]
  },
  {
   "cell_type": "code",
   "execution_count": 3,
   "id": "f215253a",
   "metadata": {},
   "outputs": [
    {
     "name": "stderr",
     "output_type": "stream",
     "text": [
      "d:\\HCL Tech\\Udemy\\Gen AI\\venv\\Lib\\site-packages\\tqdm\\auto.py:21: TqdmWarning: IProgress not found. Please update jupyter and ipywidgets. See https://ipywidgets.readthedocs.io/en/stable/user_install.html\n",
      "  from .autonotebook import tqdm as notebook_tqdm\n",
      "d:\\HCL Tech\\Udemy\\Gen AI\\venv\\Lib\\site-packages\\langchain_mistralai\\embeddings.py:181: UserWarning: Could not download mistral tokenizer from Huggingface for calculating batch sizes. Set a Huggingface token via the HF_TOKEN environment variable to download the real tokenizer. Falling back to a dummy tokenizer that uses `len()`.\n",
      "  warnings.warn(\n"
     ]
    },
    {
     "data": {
      "text/plain": [
       "1024"
      ]
     },
     "execution_count": 3,
     "metadata": {},
     "output_type": "execute_result"
    }
   ],
   "source": [
    "from langchain_mistralai import MistralAIEmbeddings\n",
    "embedding = MistralAIEmbeddings(model=\"mistral-embed\")\n",
    "\n",
    "text = \"This is a tutorial for embeddings in langchain.\"\n",
    "query_result = embedding.embed_query(text)\n",
    "len(query_result)"
   ]
  },
  {
   "cell_type": "code",
   "execution_count": 4,
   "id": "2191cc42",
   "metadata": {},
   "outputs": [
    {
     "data": {
      "text/plain": [
       "[Document(metadata={'source': 'speech.txt'}, page_content='In a world where digital currents flow like rivers through silicon valleys, the convergence of ideas gives birth to innovations beyond imagination. The humming of servers replaces the songs of birds, and every keystroke echoes with the possibility of change. Amidst this backdrop, a quiet revolution brews—fueled not by steel and fire, but by code and thought. Language models whisper insights, data'),\n",
       " Document(metadata={'source': 'speech.txt'}, page_content='steel and fire, but by code and thought. Language models whisper insights, data dances in patterns unseen, and human curiosity dares to ask questions machines strive to answer.'),\n",
       " Document(metadata={'source': 'speech.txt'}, page_content='It all began on an ordinary morning, coffee brewing, tabs open, and a blinking cursor begging for purpose. From that humble spark came a whirlwind of prototypes and late-night debug sessions. Logic gates flickered like neurons; APIs formed bridges between abstract dreams and concrete functions. What once required rooms full of machines now fits inside your pocket, with capabilities expanding'),\n",
       " Document(metadata={'source': 'speech.txt'}, page_content='rooms full of machines now fits inside your pocket, with capabilities expanding exponentially every cycle.'),\n",
       " Document(metadata={'source': 'speech.txt'}, page_content='Yet, amidst the convenience, there is mystery. Who decides what questions matter? Who teaches machines what is truth and what is noise? As models grow more fluent, understanding the ethics of automation becomes crucial. With each line of code we write, we encode not just instruction but intention. Machines might learn to mimic us—but can they learn to care?'),\n",
       " Document(metadata={'source': 'speech.txt'}, page_content='Somewhere, a script scrapes a thousand websites for data to train a chatbot that will greet customers on a website no human touches. In another corner, a student learns to build a neural net, marveling at the math behind recognition. Meanwhile, algorithms predict the weather, recommend movies, and quietly flag suspicious bank transactions. The reach is invisible, yet omnipresent.'),\n",
       " Document(metadata={'source': 'speech.txt'}, page_content='In a coffee shop, a startup founder sketches out an architecture on a napkin, unsure whether it will disrupt an industry or crash on launch. Down the street, a graphic designer experiments with generative art, watching in awe as a diffusion model paints what she only dreamed. New languages emerge—not of grammar, but of instructions, tokens, and layers. New literacies are demanded not by'),\n",
       " Document(metadata={'source': 'speech.txt'}, page_content='but of instructions, tokens, and layers. New literacies are demanded not by institutions but by the pace of innovation.'),\n",
       " Document(metadata={'source': 'speech.txt'}, page_content='Still, humans remain at the center. For all our machines, it is emotion that drives us. It’s the desire to connect, to solve, to improve. The tools may evolve, but the questions remain: how do we live better? Work smarter? Understand more deeply?'),\n",
       " Document(metadata={'source': 'speech.txt'}, page_content='In the end, every revolution—digital or otherwise—is rooted in people. People who dare to dream, tinker, fail, and try again. Whether it’s through code, design, or dialogue, the future belongs to those who participate. The cursor blinks. The server waits. The idea lingers, waiting for you to give it shape.')]"
      ]
     },
     "execution_count": 4,
     "metadata": {},
     "output_type": "execute_result"
    }
   ],
   "source": [
    "from langchain_community.document_loaders import TextLoader\n",
    "from langchain_text_splitters import RecursiveCharacterTextSplitter as RCTS\n",
    "\n",
    "loader = TextLoader('speech.txt')\n",
    "docs = loader.load()\n",
    "\n",
    "splitter = RCTS(chunk_size=400, chunk_overlap=80)\n",
    "final_doc = splitter.split_documents(docs)\n",
    "final_doc"
   ]
  },
  {
   "cell_type": "code",
   "execution_count": 5,
   "id": "71471a50",
   "metadata": {},
   "outputs": [
    {
     "data": {
      "text/plain": [
       "<langchain_community.vectorstores.chroma.Chroma at 0x22ae9ce3aa0>"
      ]
     },
     "execution_count": 5,
     "metadata": {},
     "output_type": "execute_result"
    }
   ],
   "source": [
    "# combining Vector embedding and vector storing\n",
    "from langchain_community.vectorstores import Chroma\n",
    "\n",
    "db = Chroma.from_documents(final_doc, embedding)\n",
    "db"
   ]
  },
  {
   "cell_type": "code",
   "execution_count": 6,
   "id": "d39aa60d",
   "metadata": {},
   "outputs": [
    {
     "data": {
      "text/plain": [
       "[Document(metadata={'source': 'speech.txt'}, page_content='Still, humans remain at the center. For all our machines, it is emotion that drives us. It’s the desire to connect, to solve, to improve. The tools may evolve, but the questions remain: how do we live better? Work smarter? Understand more deeply?'),\n",
       " Document(metadata={'source': 'speech.txt'}, page_content='Yet, amidst the convenience, there is mystery. Who decides what questions matter? Who teaches machines what is truth and what is noise? As models grow more fluent, understanding the ethics of automation becomes crucial. With each line of code we write, we encode not just instruction but intention. Machines might learn to mimic us—but can they learn to care?'),\n",
       " Document(metadata={'source': 'speech.txt'}, page_content='In a coffee shop, a startup founder sketches out an architecture on a napkin, unsure whether it will disrupt an industry or crash on launch. Down the street, a graphic designer experiments with generative art, watching in awe as a diffusion model paints what she only dreamed. New languages emerge—not of grammar, but of instructions, tokens, and layers. New literacies are demanded not by'),\n",
       " Document(metadata={'source': 'speech.txt'}, page_content='In a world where digital currents flow like rivers through silicon valleys, the convergence of ideas gives birth to innovations beyond imagination. The humming of servers replaces the songs of birds, and every keystroke echoes with the possibility of change. Amidst this backdrop, a quiet revolution brews—fueled not by steel and fire, but by code and thought. Language models whisper insights, data')]"
      ]
     },
     "execution_count": 6,
     "metadata": {},
     "output_type": "execute_result"
    }
   ],
   "source": [
    "query = \"What are we watching in awe?\"\n",
    "retrieved_result = db.similarity_search(query)\n",
    "retrieved_result"
   ]
  }
 ],
 "metadata": {
  "kernelspec": {
   "display_name": "Python 3",
   "language": "python",
   "name": "python3"
  },
  "language_info": {
   "codemirror_mode": {
    "name": "ipython",
    "version": 3
   },
   "file_extension": ".py",
   "mimetype": "text/x-python",
   "name": "python",
   "nbconvert_exporter": "python",
   "pygments_lexer": "ipython3",
   "version": "3.12.0"
  }
 },
 "nbformat": 4,
 "nbformat_minor": 5
}
