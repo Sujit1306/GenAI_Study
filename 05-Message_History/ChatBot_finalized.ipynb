{
 "cells": [
  {
   "cell_type": "markdown",
   "id": "9dc340aa",
   "metadata": {},
   "source": [
    "# ChatBot "
   ]
  },
  {
   "cell_type": "code",
   "execution_count": 25,
   "id": "d6129298",
   "metadata": {},
   "outputs": [],
   "source": [
    "import os \n",
    "from dotenv import load_dotenv\n",
    "load_dotenv()\n",
    "\n",
    "os.environ[\"GROQ_API_KEY\"] = os.getenv(\"GROQ_API_KEY\")\n"
   ]
  },
  {
   "cell_type": "code",
   "execution_count": 26,
   "id": "aa274ea9",
   "metadata": {},
   "outputs": [],
   "source": [
    "from langchain_groq import ChatGroq\n",
    "llm = ChatGroq(model = \"gemma2-9b-it\")\n"
   ]
  },
  {
   "cell_type": "code",
   "execution_count": 27,
   "id": "edad7116",
   "metadata": {},
   "outputs": [],
   "source": [
    "# incorporating Message History\n",
    "\n",
    "from langchain_core.messages import HumanMessage, SystemMessage, AIMessage\n",
    "from langchain_core.chat_history import BaseChatMessageHistory\n",
    "from langchain_core.runnables.history import RunnableWithMessageHistory\n",
    "from langchain_community.chat_message_histories import ChatMessageHistory\n",
    "\n",
    "store = {}\n",
    "\n",
    "def get_session_history(session_id:str) -> BaseChatMessageHistory:\n",
    "    if session_id not in store:\n",
    "        store[session_id] = ChatMessageHistory()\n",
    "    return store[session_id]\n"
   ]
  },
  {
   "cell_type": "code",
   "execution_count": 28,
   "id": "c4952ee3",
   "metadata": {},
   "outputs": [],
   "source": [
    "# incorporating prompt template\n",
    "\n",
    "from langchain_core.prompts import ChatPromptTemplate, MessagesPlaceholder\n",
    "\n",
    "prompt = ChatPromptTemplate.from_messages(\n",
    "    [\n",
    "        (\"system\", \"You are a helpful assistant. Answer the questions in {language}\"),\n",
    "        MessagesPlaceholder(variable_name = \"messages\"),\n",
    "    ]\n",
    ")\n"
   ]
  },
  {
   "cell_type": "code",
   "execution_count": 36,
   "id": "7be632b4",
   "metadata": {},
   "outputs": [],
   "source": [
    "# managing Conversation History\n",
    "\n",
    "from langchain_core.messages import trim_messages\n",
    "from operator import itemgetter\n",
    "from langchain_core.runnables import RunnablePassthrough\n",
    "\n",
    "trimmer = trim_messages(\n",
    "    max_tokens = 70,\n",
    "    strategy = \"last\",\n",
    "    token_counter = llm,\n",
    "    include_system = True,\n",
    "    allow_partial = False,\n",
    "    start_on = \"human\"\n",
    ")\n"
   ]
  },
  {
   "cell_type": "code",
   "execution_count": 37,
   "id": "999de019",
   "metadata": {},
   "outputs": [],
   "source": [
    "# final chain and invokable \n",
    "\n",
    "chain = (\n",
    "    RunnablePassthrough.assign(messages = itemgetter(\"messages\")|trimmer)\n",
    "    | prompt\n",
    "    | llm\n",
    ")\n",
    "\n",
    "with_message_history = RunnableWithMessageHistory(\n",
    "    chain, \n",
    "    get_session_history,\n",
    "    input_messages_key = \"messages\"\n",
    ")\n",
    "\n",
    "config0 = {\"configurable\":{\"session_id\":\"Chat0\"}}"
   ]
  },
  {
   "cell_type": "code",
   "execution_count": 39,
   "id": "f7a99738",
   "metadata": {},
   "outputs": [
    {
     "data": {
      "text/plain": [
       "AIMessage(content='The last math question you asked me was \"what\\'s 2+2\". 😊  \\n\\n\\n\\nI\\'m ready for another one if you have it!\\n', additional_kwargs={}, response_metadata={'token_usage': {'completion_tokens': 35, 'prompt_tokens': 117, 'total_tokens': 152, 'completion_time': 0.063636364, 'prompt_time': 0.005099827, 'queue_time': 0.259787422, 'total_time': 0.068736191}, 'model_name': 'gemma2-9b-it', 'system_fingerprint': 'fp_10c08bf97d', 'finish_reason': 'stop', 'logprobs': None}, id='run--89562ee2-7f2c-496f-8a90-5be231927cea-0', usage_metadata={'input_tokens': 117, 'output_tokens': 35, 'total_tokens': 152})"
      ]
     },
     "execution_count": 39,
     "metadata": {},
     "output_type": "execute_result"
    }
   ],
   "source": [
    "messages = [\n",
    "    SystemMessage(content= \"You're a good assistant\"),\n",
    "    HumanMessage(content= \"Hi! I am Rob\"),\n",
    "    AIMessage(content= \"Hi!\"),\n",
    "    HumanMessage(content= \"I like Chocolate Ice cream\"),\n",
    "    AIMessage(content= \"nice\"),\n",
    "    HumanMessage(content= \"what's 2+2\"),\n",
    "    AIMessage(content= \"4\"),\n",
    "    HumanMessage(content= \"Thanks!\"),\n",
    "    AIMessage(content= \"no problem\"),\n",
    "    HumanMessage(content= \"Having fun?\"),\n",
    "    AIMessage(content= \"yes\"),\n",
    "]\n",
    "\n",
    "response = with_message_history.invoke(\n",
    "    {\n",
    "        \"messages\": messages + [HumanMessage(content= \"What is the last mathematic question i asked you?\")],\n",
    "        \"language\": \"English\",\n",
    "    },\n",
    "    config = config0,\n",
    ")\n",
    "\n",
    "response"
   ]
  }
 ],
 "metadata": {
  "kernelspec": {
   "display_name": "Python 3",
   "language": "python",
   "name": "python3"
  },
  "language_info": {
   "codemirror_mode": {
    "name": "ipython",
    "version": 3
   },
   "file_extension": ".py",
   "mimetype": "text/x-python",
   "name": "python",
   "nbconvert_exporter": "python",
   "pygments_lexer": "ipython3",
   "version": "3.12.0"
  }
 },
 "nbformat": 4,
 "nbformat_minor": 5
}
