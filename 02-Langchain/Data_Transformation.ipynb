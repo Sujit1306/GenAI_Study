{
 "cells": [
  {
   "cell_type": "markdown",
   "id": "da1188b7",
   "metadata": {},
   "source": [
    "<h1>Data Transformation</h1>"
   ]
  },
  {
   "cell_type": "markdown",
   "id": "f27ce5c2",
   "metadata": {},
   "source": [
    "<h2>Recursive Character Text Splitting</h2>"
   ]
  },
  {
   "cell_type": "code",
   "execution_count": null,
   "id": "cff5dc47",
   "metadata": {},
   "outputs": [
    {
     "data": {
      "text/plain": [
       "[Document(metadata={'producer': 'Microsoft® Word 2013', 'creator': 'Microsoft® Word 2013', 'creationdate': '2025-07-05T03:26:12-07:00', 'author': 'Sujit Khare', 'moddate': '2025-07-05T03:26:12-07:00', 'source': 'attention.pdf', 'total_pages': 1, 'page': 0, 'page_label': '1'}, page_content='In a world where digital currents flow like rivers through silicon valleys, the convergence of \\nideas gives birth to innovations beyond imagination. The humming of servers replaces the songs \\nof birds, and every keystroke echoes with the possibility of change. Amidst this backdrop, a quiet \\nrevolution brews—fueled not by steel and fire, but by code and thought. Language models \\nwhisper insights, data dances in patterns unseen, and human curiosity dares to ask questions'),\n",
       " Document(metadata={'producer': 'Microsoft® Word 2013', 'creator': 'Microsoft® Word 2013', 'creationdate': '2025-07-05T03:26:12-07:00', 'author': 'Sujit Khare', 'moddate': '2025-07-05T03:26:12-07:00', 'source': 'attention.pdf', 'total_pages': 1, 'page': 0, 'page_label': '1'}, page_content='machines strive to answer. \\nIt all began on an ordinary morning, coffee brewing, tabs open, and a blinking cursor begging for \\npurpose. From that humble spark came a whirlwind of prototypes and late-night debug sessions. \\nLogic gates flickered like neurons; APIs formed bridges between abstract dreams and concrete \\nfunctions. What once required rooms full of machines now fits inside your pocket, with \\ncapabilities expanding exponentially every cycle.'),\n",
       " Document(metadata={'producer': 'Microsoft® Word 2013', 'creator': 'Microsoft® Word 2013', 'creationdate': '2025-07-05T03:26:12-07:00', 'author': 'Sujit Khare', 'moddate': '2025-07-05T03:26:12-07:00', 'source': 'attention.pdf', 'total_pages': 1, 'page': 0, 'page_label': '1'}, page_content='Yet, amidst the convenience, there is mystery. Who decides what questions matter? Who teaches \\nmachines what is truth and what is noise? As models grow more fluent, understanding the ethics \\nof automation becomes crucial. With each line of code we write, we encode not just instruction \\nbut intention. Machines might learn to mimic us—but can they learn to care? \\nSomewhere, a script scrapes a thousand websites for data to train a chatbot that will greet'),\n",
       " Document(metadata={'producer': 'Microsoft® Word 2013', 'creator': 'Microsoft® Word 2013', 'creationdate': '2025-07-05T03:26:12-07:00', 'author': 'Sujit Khare', 'moddate': '2025-07-05T03:26:12-07:00', 'source': 'attention.pdf', 'total_pages': 1, 'page': 0, 'page_label': '1'}, page_content='customers on a website no human touches. In another corner, a student learns to build a neural \\nnet, marveling at the math behind recognition. Meanwhile, algorithms predict the weather, \\nrecommend movies, and quietly flag suspicious bank transactions. The reach is invisible, yet \\nomnipresent. \\nIn a coffee shop, a startup founder sketches out an architecture on a napkin, unsure whether it \\nwill disrupt an industry or crash on launch. Down the street, a graphic designer experiments with'),\n",
       " Document(metadata={'producer': 'Microsoft® Word 2013', 'creator': 'Microsoft® Word 2013', 'creationdate': '2025-07-05T03:26:12-07:00', 'author': 'Sujit Khare', 'moddate': '2025-07-05T03:26:12-07:00', 'source': 'attention.pdf', 'total_pages': 1, 'page': 0, 'page_label': '1'}, page_content='generative art, watching in awe as a diffusion model paints what she only dreamed. New \\nlanguages emerge—not of grammar, but of instructions, tokens, and layers. New literacies are \\ndemanded not by institutions but by the pace of innovation. \\nStill, humans remain at the center. For all our machines, it is emotion that drives us. It’s the \\ndesire to connect, to solve, to improve. The tools may evolve, but the questions remain: how do \\nwe live better? Work smarter? Understand more deeply?'),\n",
       " Document(metadata={'producer': 'Microsoft® Word 2013', 'creator': 'Microsoft® Word 2013', 'creationdate': '2025-07-05T03:26:12-07:00', 'author': 'Sujit Khare', 'moddate': '2025-07-05T03:26:12-07:00', 'source': 'attention.pdf', 'total_pages': 1, 'page': 0, 'page_label': '1'}, page_content='In the end, every revolution—digital or otherwise—is rooted in people. People who dare to \\ndream, tinker, fail, and try again. Whether it’s through code, design, or dialogue, the future \\nbelongs to those who participate. The cursor blinks. The server waits. The idea lingers, waiting \\nfor you to give it shape.')]"
      ]
     },
     "execution_count": 3,
     "metadata": {},
     "output_type": "execute_result"
    }
   ],
   "source": [
    "from langchain_community.document_loaders import PyPDFLoader\n",
    "from langchain_text_splitters import RecursiveCharacterTextSplitter as RCTS\n",
    "\n",
    "loader = PyPDFLoader('attention.pdf')\n",
    "docs = loader.load()\n",
    "\n",
    "splitter = RCTS(chunk_size=500, chunk_overlap=50)\n",
    "final_docs = splitter.split_documents(docs)\n",
    "final_docs\n",
    "\n",
    "# .split_documents takes list[docs] as input and returns a list[docs]"
   ]
  },
  {
   "cell_type": "code",
   "execution_count": 8,
   "id": "42c78b79",
   "metadata": {},
   "outputs": [
    {
     "data": {
      "text/plain": [
       "[Document(metadata={}, page_content='In a world where digital currents flow like rivers through silicon valleys, the convergence of ideas gives birth to innovations beyond imagination. The humming of servers replaces the songs of birds, and every keystroke echoes with the possibility of change. Amidst this backdrop, a quiet revolution brews—fueled not by steel and fire, but by code and thought. Language models whisper insights, data dances in patterns unseen, and human curiosity dares to ask questions machines strive to answer.'),\n",
       " Document(metadata={}, page_content='It all began on an ordinary morning, coffee brewing, tabs open, and a blinking cursor begging for purpose. From that humble spark came a whirlwind of prototypes and late-night debug sessions. Logic gates flickered like neurons; APIs formed bridges between abstract dreams and concrete functions. What once required rooms full of machines now fits inside your pocket, with capabilities expanding exponentially every cycle.'),\n",
       " Document(metadata={}, page_content='Yet, amidst the convenience, there is mystery. Who decides what questions matter? Who teaches machines what is truth and what is noise? As models grow more fluent, understanding the ethics of automation becomes crucial. With each line of code we write, we encode not just instruction but intention. Machines might learn to mimic us—but can they learn to care?'),\n",
       " Document(metadata={}, page_content='Somewhere, a script scrapes a thousand websites for data to train a chatbot that will greet customers on a website no human touches. In another corner, a student learns to build a neural net, marveling at the math behind recognition. Meanwhile, algorithms predict the weather, recommend movies, and quietly flag suspicious bank transactions. The reach is invisible, yet omnipresent.'),\n",
       " Document(metadata={}, page_content='In a coffee shop, a startup founder sketches out an architecture on a napkin, unsure whether it will disrupt an industry or crash on launch. Down the street, a graphic designer experiments with generative art, watching in awe as a diffusion model paints what she only dreamed. New languages emerge—not of grammar, but of instructions, tokens, and layers. New literacies are demanded not by institutions but by the pace of innovation.'),\n",
       " Document(metadata={}, page_content='Still, humans remain at the center. For all our machines, it is emotion that drives us. It’s the desire to connect, to solve, to improve. The tools may evolve, but the questions remain: how do we live better? Work smarter? Understand more deeply?\\n\\nIn the end, every revolution—digital or otherwise—is rooted in people. People who dare to dream, tinker, fail, and try again. Whether it’s through code, design, or dialogue, the future belongs to those who participate. The cursor blinks. The server waits. The idea lingers, waiting for you to give it shape.')]"
      ]
     },
     "execution_count": 8,
     "metadata": {},
     "output_type": "execute_result"
    }
   ],
   "source": [
    "text = \"\"\n",
    "with open('speech.txt') as f:\n",
    "    text = f.read()\n",
    "\n",
    "splitter = RCTS(chunk_size=600, chunk_overlap=30)\n",
    "final_docs = splitter.create_documents([text])\n",
    "final_docs\n",
    "\n",
    "#  .create_documents takes text as input and returns a list[docs]"
   ]
  },
  {
   "cell_type": "markdown",
   "id": "bf909da5",
   "metadata": {},
   "source": [
    "<h2>Character Text Splitter </h2>"
   ]
  },
  {
   "cell_type": "code",
   "execution_count": 11,
   "id": "8877e943",
   "metadata": {},
   "outputs": [
    {
     "data": {
      "text/plain": [
       "[Document(metadata={}, page_content='In a world where digital currents flow like rivers through silicon valleys, the convergence of ideas gives birth to innovations beyond imagination. The humming of servers replaces the songs of birds, and every keystroke echoes with the possibility of change. Amidst this backdrop, a quiet revolution brews—fueled not by steel and fire, but by code and thought. Language models whisper insights, data dances in patterns unseen, and human curiosity dares to ask questions machines strive to answer.'),\n",
       " Document(metadata={}, page_content='It all began on an ordinary morning, coffee brewing, tabs open, and a blinking cursor begging for purpose. From that humble spark came a whirlwind of prototypes and late-night debug sessions. Logic gates flickered like neurons; APIs formed bridges between abstract dreams and concrete functions. What once required rooms full of machines now fits inside your pocket, with capabilities expanding exponentially every cycle.'),\n",
       " Document(metadata={}, page_content='Yet, amidst the convenience, there is mystery. Who decides what questions matter? Who teaches machines what is truth and what is noise? As models grow more fluent, understanding the ethics of automation becomes crucial. With each line of code we write, we encode not just instruction but intention. Machines might learn to mimic us—but can they learn to care?'),\n",
       " Document(metadata={}, page_content='Somewhere, a script scrapes a thousand websites for data to train a chatbot that will greet customers on a website no human touches. In another corner, a student learns to build a neural net, marveling at the math behind recognition. Meanwhile, algorithms predict the weather, recommend movies, and quietly flag suspicious bank transactions. The reach is invisible, yet omnipresent.'),\n",
       " Document(metadata={}, page_content='In a coffee shop, a startup founder sketches out an architecture on a napkin, unsure whether it will disrupt an industry or crash on launch. Down the street, a graphic designer experiments with generative art, watching in awe as a diffusion model paints what she only dreamed. New languages emerge—not of grammar, but of instructions, tokens, and layers. New literacies are demanded not by institutions but by the pace of innovation.'),\n",
       " Document(metadata={}, page_content='Still, humans remain at the center. For all our machines, it is emotion that drives us. It’s the desire to connect, to solve, to improve. The tools may evolve, but the questions remain: how do we live better? Work smarter? Understand more deeply?\\n\\nIn the end, every revolution—digital or otherwise—is rooted in people. People who dare to dream, tinker, fail, and try again. Whether it’s through code, design, or dialogue, the future belongs to those who participate. The cursor blinks. The server waits. The idea lingers, waiting for you to give it shape.')]"
      ]
     },
     "execution_count": 11,
     "metadata": {},
     "output_type": "execute_result"
    }
   ],
   "source": [
    "from langchain_community.document_loaders import TextLoader\n",
    "from langchain_text_splitters import CharacterTextSplitter as CTS\n",
    "\n",
    "loader = TextLoader('speech.txt')\n",
    "docs = loader.load()\n",
    "\n",
    "splitter = CTS(separator=\"\\n\\n\", chunk_size=500, chunk_overlap=100)\n",
    "final_doc = splitter.split_documents(docs)\n",
    "final_docs"
   ]
  }
 ],
 "metadata": {
  "kernelspec": {
   "display_name": "Python 3",
   "language": "python",
   "name": "python3"
  },
  "language_info": {
   "codemirror_mode": {
    "name": "ipython",
    "version": 3
   },
   "file_extension": ".py",
   "mimetype": "text/x-python",
   "name": "python",
   "nbconvert_exporter": "python",
   "pygments_lexer": "ipython3",
   "version": "3.12.0"
  }
 },
 "nbformat": 4,
 "nbformat_minor": 5
}
