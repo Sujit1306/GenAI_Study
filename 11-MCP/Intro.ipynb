{
 "cells": [
  {
   "cell_type": "markdown",
   "id": "ec95abea",
   "metadata": {},
   "source": [
    "# MCP: Model Context Protocol"
   ]
  },
  {
   "cell_type": "markdown",
   "id": "9126f6f5",
   "metadata": {},
   "source": [
    "MCP (Model Context Protocol) is a new standard developed by Anthropic (the company behind Claude) for connecting LLMs with external tools, APIs, and data sources in a structured way.\n",
    "\n",
    "Think of it like this:\n",
    "\n",
    "- Without MCP → You need to manually write custom code (API wrappers, integrations, etc.) for your LLM agent to fetch data or use a tool.\n",
    "\n",
    "- With MCP → You follow a common protocol that defines how an LLM can discover, call, and interact with external resources (APIs, DBs, tools, files, etc.) safely and consistently."
   ]
  },
  {
   "cell_type": "markdown",
   "id": "ee83139c",
   "metadata": {},
   "source": [
    "### Key Ideas\n",
    "\n",
    "1. Standardization – Instead of reinventing integrations, MCP defines a universal language so any tool that follows MCP can plug into any LLM agent.\n",
    "\n",
    "2. Context-Aware – The LLM gets structured data (not just raw text) so it can reason better.\n",
    "\n",
    "3. Safety – By defining what tools are available and what data can be accessed, MCP avoids the risk of agents hallucinating APIs or making unsafe calls."
   ]
  },
  {
   "cell_type": "markdown",
   "id": "96079767",
   "metadata": {},
   "source": [
    "- Developers → Don’t need to reinvent integrations.\n",
    "\n",
    "- Companies → Can expose APIs/data to LLMs in a safe, controlled way.\n",
    "\n",
    "- LLM Ecosystem → Moves towards interoperability (like how HTTP standardized the web)."
   ]
  },
  {
   "cell_type": "markdown",
   "id": "16b40117",
   "metadata": {},
   "source": []
  }
 ],
 "metadata": {
  "language_info": {
   "name": "python"
  }
 },
 "nbformat": 4,
 "nbformat_minor": 5
}
