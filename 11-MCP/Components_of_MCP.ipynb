{
 "cells": [
  {
   "cell_type": "markdown",
   "id": "975a30af",
   "metadata": {},
   "source": [
    "# Important Components in MCP"
   ]
  },
  {
   "cell_type": "markdown",
   "id": "db25f565",
   "metadata": {},
   "source": [
    "1. MCP Client\n",
    "2. MCP Host\n",
    "3. MCP Server"
   ]
  },
  {
   "cell_type": "markdown",
   "id": "5f761e89",
   "metadata": {},
   "source": [
    "We built an MCP client inside the mcp host.\n",
    "\n",
    "MCP Host\n",
    "can be your IDE, claude desktop, cursor IDE, any application that you're building.<br>\n",
    "from this app if you want to communicate with any tool.<br>\n",
    "\n",
    "MCP servers are connected to/house services/tools provided by third parties.\n",
    "\n",
    "MCP Host is going to communicate with MCP server with help of MCP client. and the protocol used in order to communicate here is nothing but MCP Protocol.\n",
    "\n",
    "The MCP servers, tools and services are completely managed by service providers."
   ]
  },
  {
   "cell_type": "markdown",
   "id": "9ba28190",
   "metadata": {},
   "source": [
    "We will be building the MCP host, we'll be making the MCP client. If any changes happen to services, we don not need to make changes to our code BECAUSE WE ARE FOLLOWING THE MCP PROTOCOL."
   ]
  }
 ],
 "metadata": {
  "language_info": {
   "name": "python"
  }
 },
 "nbformat": 4,
 "nbformat_minor": 5
}
