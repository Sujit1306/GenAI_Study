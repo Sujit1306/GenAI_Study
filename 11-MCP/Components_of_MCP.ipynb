{
 "cells": [
  {
   "cell_type": "markdown",
   "id": "975a30af",
   "metadata": {},
   "source": [
    "# Important Components in MCP"
   ]
  },
  {
   "cell_type": "markdown",
   "id": "db25f565",
   "metadata": {},
   "source": [
    "1. MCP Client\n",
    "2. MCP Host\n",
    "3. MCP Server"
   ]
  },
  {
   "cell_type": "markdown",
   "id": "5f761e89",
   "metadata": {},
   "source": [
    "We built an MCP client inside the mcp host.\n",
    "\n",
    "MCP Host\n",
    "can be your IDE, claude desktop, cursor IDE, any application that you're building.<br>\n",
    "from this app if you want to communicate with any tool.<br>\n",
    "\n",
    "MCP servers are connected to/house services/tools provided by third parties.\n",
    "\n",
    "MCP Host is going to communicate with MCP server with help of MCP client. and the protocol used in order to communicate here is nothing but MCP Protocol.\n",
    "\n",
    "The MCP servers, tools and services are completely managed by service providers."
   ]
  },
  {
   "cell_type": "markdown",
   "id": "9ba28190",
   "metadata": {},
   "source": [
    "We will be building the MCP host, we'll be making the MCP client. If any changes happen to services, we don not need to make changes to our code BECAUSE WE ARE FOLLOWING THE MCP PROTOCOL."
   ]
  },
  {
   "cell_type": "markdown",
   "id": "682bcfba",
   "metadata": {},
   "source": [
    "### Communication between these components:"
   ]
  },
  {
   "cell_type": "markdown",
   "id": "88e83ad8",
   "metadata": {},
   "source": [
    "1. MCP Host gets an input\n",
    "2. MCP Host, via MCP Client, commnicates with MCP Server to get the tools/services details\n",
    "3. MCP Server sends the list of available tools and services, with their information\n",
    "4. MCP Client then sends this tool list and input over to LLM \n",
    "5. LLM decides which tool to call for the given input and sends it over to MCP Client\n",
    "6. MCP Client makes that tool call from the MCP Server\n",
    "7. The response from MCP Server is recieved to MCP Client and forwarded to LLM as context\n",
    "8. Finally then the LLM generates the most accurate response wrt the context provided."
   ]
  },
  {
   "cell_type": "markdown",
   "id": "d88f0cbd",
   "metadata": {},
   "source": []
  }
 ],
 "metadata": {
  "language_info": {
   "name": "python"
  }
 },
 "nbformat": 4,
 "nbformat_minor": 5
}
