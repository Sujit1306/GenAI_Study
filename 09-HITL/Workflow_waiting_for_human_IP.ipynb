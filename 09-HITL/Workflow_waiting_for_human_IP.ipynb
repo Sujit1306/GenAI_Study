{
 "cells": [
  {
   "cell_type": "markdown",
   "id": "f1eaae1d",
   "metadata": {},
   "source": [
    "# Workflow that waits for Human Input"
   ]
  },
  {
   "cell_type": "markdown",
   "id": "52176648",
   "metadata": {},
   "source": []
  },
  {
   "cell_type": "code",
   "execution_count": 1,
   "id": "0d39c1ed",
   "metadata": {},
   "outputs": [],
   "source": [
    "import os\n",
    "from dotenv import load_dotenv\n",
    "load_dotenv()\n",
    "\n",
    "os.environ[\"GROQ_API_KEY\"] = os.getenv(\"GROQ_API_KEY\")\n",
    "\n",
    "from langchain_groq import ChatGroq\n",
    "llm = ChatGroq(model=\"qwen/qwen3-32b\")"
   ]
  },
  {
   "cell_type": "code",
   "execution_count": 2,
   "id": "4f9e3d8f",
   "metadata": {},
   "outputs": [],
   "source": [
    "# custom tools\n",
    "# the docstring is important as it will be read by the LLM to identify a function\n",
    "def multiply(a: int, b: int) -> int:\n",
    "    \"\"\"Multiply a and b.\n",
    "    Args:\n",
    "        a: first integer\n",
    "        b: second integer\n",
    "    \"\"\"\n",
    "    return a * b \n",
    "\n",
    "def add(a: int, b: int) -> int:\n",
    "    \"\"\"Add a and b.\n",
    "    Args:\n",
    "        a: first integer\n",
    "        b: second integer\n",
    "    \"\"\"\n",
    "    return a + b \n",
    "\n",
    "def divide(a: int, b: int) -> float:\n",
    "    \"\"\"Divide a by b.\n",
    "    Args:\n",
    "        a: first integer\n",
    "        b: second integer\n",
    "    \"\"\"\n",
    "    return a / b "
   ]
  },
  {
   "cell_type": "code",
   "execution_count": 3,
   "id": "0841bab2",
   "metadata": {},
   "outputs": [],
   "source": [
    "# Integrate tools with llm\n",
    "tools = [multiply, add, divide]\n",
    "llm_with_tools = llm.bind_tools(tools)"
   ]
  },
  {
   "cell_type": "code",
   "execution_count": 4,
   "id": "51b558f8",
   "metadata": {},
   "outputs": [
    {
     "data": {
      "image/png": "[encoded data removed]",
      "text/plain": [
       "<IPython.core.display.Image object>"
      ]
     },
     "metadata": {},
     "output_type": "display_data"
    }
   ],
   "source": [
    "# workflow with langgraph\n",
    "from langgraph.graph import StateGraph, START, END, MessagesState\n",
    "from langgraph.prebuilt import ToolNode, tools_condition\n",
    "from IPython.display import display, Image\n",
    "from langgraph.checkpoint.memory import MemorySaver\n",
    "from langchain_core.messages import HumanMessage, AIMessage, SystemMessage\n",
    "\n",
    "# system message\n",
    "sys_msg = SystemMessage(content = \"You are a helpful assistant tasked with performing arithematic on a set of inputs.\")\n",
    "\n",
    "# nodes\n",
    "def human_feedback(state: MessagesState):\n",
    "    pass\n",
    "\n",
    "def assistant(state: MessagesState):\n",
    "    messages = [sys_msg] + state[\"messages\"]\n",
    "    ai_response = llm_with_tools.invoke(messages)\n",
    "    return {\"messages\": state[\"messages\"] + [ai_response]}\n",
    "\n",
    "# graph\n",
    "builder = StateGraph(MessagesState)\n",
    "\n",
    "# define nodes\n",
    "builder.add_node(\"human_feedback\", human_feedback)\n",
    "builder.add_node(\"assistant\", assistant)\n",
    "builder.add_node(\"tools\", ToolNode(tools))\n",
    "\n",
    "# define edges\n",
    "builder.add_edge(START, \"human_feedback\")\n",
    "builder.add_edge(\"human_feedback\", \"assistant\")\n",
    "builder.add_conditional_edges(\"assistant\", tools_condition, )\n",
    "builder.add_edge(\"tools\", \"human_feedback\")\n",
    "\n",
    "memory = MemorySaver()\n",
    "\n",
    "# Human in the loop\n",
    "graph = builder.compile(checkpointer = memory, interrupt_before=[\"human_feedback\"])\n",
    "\n",
    "display(Image(graph.get_graph().draw_mermaid_png()))"
   ]
  },
  {
   "cell_type": "code",
   "execution_count": 6,
   "id": "47c43af0",
   "metadata": {},
   "outputs": [
    {
     "name": "stdout",
     "output_type": "stream",
     "text": [
      "================================\u001b[1m Human Message \u001b[0m=================================\n",
      "\n",
      "Multiply 4 and 3\n",
      "================================\u001b[1m Human Message \u001b[0m=================================\n",
      "\n",
      "please multiply 5 and 6\n",
      "==================================\u001b[1m Ai Message \u001b[0m==================================\n",
      "Tool Calls:\n",
      "  multiply (k0r46aahv)\n",
      " Call ID: k0r46aahv\n",
      "  Args:\n",
      "    a: 5\n",
      "    b: 6\n",
      "=================================\u001b[1m Tool Message \u001b[0m=================================\n",
      "Name: multiply\n",
      "\n",
      "30\n"
     ]
    }
   ],
   "source": [
    "config = {\"configurable\":{\"thread_id\":\"1\"}}\n",
    "initial_input = {\"messages\": \"Multiply 4 and 3\"}\n",
    "\n",
    "# run the graph till first interrupt\n",
    "for event in graph.stream(initial_input, config, stream_mode = 'values'):\n",
    "    event['messages'][-1].pretty_print()\n",
    "\n",
    "# get user_input\n",
    "user_input = input(\"tell me how you want to update the state:\")\n",
    "graph.update_state(config, {\"messages\": user_input}, as_node = \"human_feedback\")\n",
    "\n",
    "# continue the graph execution\n",
    "for event in graph.stream(None, config, stream_mode = 'values'):\n",
    "    event['messages'][-1].pretty_print()"
   ]
  },
  {
   "cell_type": "code",
   "execution_count": 7,
   "id": "5009a82a",
   "metadata": {},
   "outputs": [
    {
     "name": "stdout",
     "output_type": "stream",
     "text": [
      "=================================\u001b[1m Tool Message \u001b[0m=================================\n",
      "Name: multiply\n",
      "\n",
      "30\n",
      "==================================\u001b[1m Ai Message \u001b[0m==================================\n",
      "\n",
      "The result of multiplying 5 and 6 is **30**.\n"
     ]
    }
   ],
   "source": [
    "for event in graph.stream(None, config, stream_mode = 'values'):\n",
    "    event['messages'][-1].pretty_print()"
   ]
  }
 ],
 "metadata": {
  "kernelspec": {
   "display_name": "Python 3",
   "language": "python",
   "name": "python3"
  },
  "language_info": {
   "codemirror_mode": {
    "name": "ipython",
    "version": 3
   },
   "file_extension": ".py",
   "mimetype": "text/x-python",
   "name": "python",
   "nbconvert_exporter": "python",
   "pygments_lexer": "ipython3",
   "version": "3.12.0"
  }
 },
 "nbformat": 4,
 "nbformat_minor": 5
}
