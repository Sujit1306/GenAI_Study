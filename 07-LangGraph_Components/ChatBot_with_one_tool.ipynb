{
 "cells": [
  {
   "cell_type": "markdown",
   "id": "e14a8981",
   "metadata": {},
   "source": [
    "# Integrating a Tool within a ChatBot"
   ]
  },
  {
   "cell_type": "markdown",
   "id": "826363da",
   "metadata": {},
   "source": [
    "### Setting up Environment"
   ]
  },
  {
   "cell_type": "code",
   "execution_count": 25,
   "id": "c2d00c6a",
   "metadata": {},
   "outputs": [],
   "source": [
    "import os\n",
    "from dotenv import load_dotenv\n",
    "load_dotenv()\n",
    "os.environ[\"GROQ_API_KEY\"] = os.getenv(\"GROQ_API_KEY\")\n",
    "\n",
    "from langchain_core.messages import HumanMessage, AIMessage\n"
   ]
  },
  {
   "cell_type": "markdown",
   "id": "732ebf46",
   "metadata": {},
   "source": [
    "### Initializing our LLM Model"
   ]
  },
  {
   "cell_type": "code",
   "execution_count": 26,
   "id": "f3e4f564",
   "metadata": {},
   "outputs": [],
   "source": [
    "from langchain_groq import ChatGroq\n",
    "llm = ChatGroq(model= \"gemma2-9b-it\")"
   ]
  },
  {
   "cell_type": "markdown",
   "id": "6245413f",
   "metadata": {},
   "source": [
    "### Defining a tool for our LLM"
   ]
  },
  {
   "cell_type": "code",
   "execution_count": 27,
   "id": "1f2dd7bf",
   "metadata": {},
   "outputs": [],
   "source": [
    "from langchain.tools import tool\n",
    "\n",
    "@tool\n",
    "def add(a:int, b:int)->int:\n",
    "    \"\"\"Add two numbers\"\"\"\n",
    "    return a + b"
   ]
  },
  {
   "cell_type": "markdown",
   "id": "df70408e",
   "metadata": {},
   "source": [
    "### Binding the tool to our LLM"
   ]
  },
  {
   "cell_type": "code",
   "execution_count": 28,
   "id": "251ba00b",
   "metadata": {},
   "outputs": [
    {
     "data": {
      "text/plain": [
       "[{'name': 'add',\n",
       "  'args': {'a': 2, 'b': 2},\n",
       "  'id': 'dzm0h94x0',\n",
       "  'type': 'tool_call'}]"
      ]
     },
     "execution_count": 28,
     "metadata": {},
     "output_type": "execute_result"
    }
   ],
   "source": [
    "# binding tool with LLM \n",
    "llm_with_tools= llm.bind_tools([add])\n",
    "tool_call = llm_with_tools.invoke([HumanMessage(content= f\"What is 2 plus 2\", name=\"Sujit\")])\n",
    "tool_call.tool_calls"
   ]
  },
  {
   "cell_type": "markdown",
   "id": "1fd6d0d6",
   "metadata": {},
   "source": [
    "### Defining State for graph"
   ]
  },
  {
   "cell_type": "code",
   "execution_count": 29,
   "id": "df838372",
   "metadata": {},
   "outputs": [],
   "source": [
    "from langgraph.graph.message import add_messages\n",
    "from typing import Annotated\n",
    "from typing_extensions import TypedDict\n",
    "from langchain_core.messages import AnyMessage\n",
    "\n",
    "class State(TypedDict):\n",
    "    messages:Annotated[list[AnyMessage], add_messages]\n"
   ]
  },
  {
   "cell_type": "markdown",
   "id": "20d50d0d",
   "metadata": {},
   "source": [
    "### Defining a Toolnode"
   ]
  },
  {
   "cell_type": "code",
   "execution_count": 30,
   "id": "051eaa81",
   "metadata": {},
   "outputs": [],
   "source": [
    "# chatbot node functionality\n",
    "def llm_tool(state: State):\n",
    "    return {\"messages\":[llm_with_tools.invoke(state[\"messages\"])]}"
   ]
  },
  {
   "cell_type": "markdown",
   "id": "ff269924",
   "metadata": {},
   "source": [
    "### building our graph"
   ]
  },
  {
   "cell_type": "code",
   "execution_count": 31,
   "id": "135ac275",
   "metadata": {},
   "outputs": [
    {
     "data": {
      "image/png": "[encoded data removed]",
      "text/plain": [
       "<IPython.core.display.Image object>"
      ]
     },
     "metadata": {},
     "output_type": "display_data"
    }
   ],
   "source": [
    "from langgraph.prebuilt import ToolNode\n",
    "from langgraph.prebuilt import tools_condition\n",
    "from IPython.display import Image, display\n",
    "from langgraph.graph import StateGraph, START, END\n",
    "tools = [add]\n",
    "builder = StateGraph(State)\n",
    "\n",
    "# add nodes\n",
    "builder.add_node(\"llm_tool\", llm_tool)\n",
    "builder.add_node(\"tools\", ToolNode(tools))\n",
    "\n",
    "builder.add_edge(START, \"llm_tool\")\n",
    "builder.add_conditional_edges(\n",
    "    \"llm_tool\",\n",
    "    tools_condition\n",
    ")\n",
    "builder.add_edge(\"tools\", END)\n",
    "# builder.add_edge(\"llm_tool\", END)\n",
    "\n",
    "graph = builder.compile()\n",
    "display(Image(graph.get_graph().draw_mermaid_png()))"
   ]
  },
  {
   "cell_type": "markdown",
   "id": "1e2e1ed6",
   "metadata": {},
   "source": [
    "### Invoke the Graph "
   ]
  },
  {
   "cell_type": "code",
   "execution_count": 32,
   "id": "f06aad3c",
   "metadata": {},
   "outputs": [
    {
     "name": "stdout",
     "output_type": "stream",
     "text": [
      "================================\u001b[1m Human Message \u001b[0m=================================\n",
      "\n",
      "what is 2 plus 2?\n",
      "==================================\u001b[1m Ai Message \u001b[0m==================================\n",
      "Tool Calls:\n",
      "  add (5favck25z)\n",
      " Call ID: 5favck25z\n",
      "  Args:\n",
      "    a: 2\n",
      "    b: 2\n",
      "=================================\u001b[1m Tool Message \u001b[0m=================================\n",
      "Name: add\n",
      "\n",
      "4\n"
     ]
    }
   ],
   "source": [
    "# invocation\n",
    "messagess = graph.invoke({\"messages\":[HumanMessage(content = \"what is 2 plus 2?\")]})\n",
    "\n",
    "for messages in messagess[\"messages\"]:\n",
    "    messages.pretty_print()"
   ]
  },
  {
   "cell_type": "code",
   "execution_count": 33,
   "id": "54ed552e",
   "metadata": {},
   "outputs": [
    {
     "name": "stdout",
     "output_type": "stream",
     "text": [
      "================================\u001b[1m Human Message \u001b[0m=================================\n",
      "\n",
      "Good morning\n",
      "==================================\u001b[1m Ai Message \u001b[0m==================================\n",
      "Tool Calls:\n",
      "  add (hehnsbzrs)\n",
      " Call ID: hehnsbzrs\n",
      "  Args:\n",
      "    a: 1\n",
      "    b: 2\n",
      "=================================\u001b[1m Tool Message \u001b[0m=================================\n",
      "Name: add\n",
      "\n",
      "3\n"
     ]
    }
   ],
   "source": [
    "messagess = graph.invoke({\"messages\":\"Good morning\"})\n",
    "\n",
    "for messages in messagess[\"messages\"]:\n",
    "    messages.pretty_print()"
   ]
  },
  {
   "cell_type": "code",
   "execution_count": null,
   "id": "5b8f2932",
   "metadata": {},
   "outputs": [],
   "source": []
  }
 ],
 "metadata": {
  "kernelspec": {
   "display_name": "Python 3",
   "language": "python",
   "name": "python3"
  },
  "language_info": {
   "codemirror_mode": {
    "name": "ipython",
    "version": 3
   },
   "file_extension": ".py",
   "mimetype": "text/x-python",
   "name": "python",
   "nbconvert_exporter": "python",
   "pygments_lexer": "ipython3",
   "version": "3.12.0"
  }
 },
 "nbformat": 4,
 "nbformat_minor": 5
}
