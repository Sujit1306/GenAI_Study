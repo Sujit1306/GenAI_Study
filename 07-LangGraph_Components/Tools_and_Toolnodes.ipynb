{
 "cells": [
  {
   "cell_type": "markdown",
   "id": "fcbd658e",
   "metadata": {},
   "source": [
    "# Tools and Toolnodes in LangGraph\n",
    "Step 1 at building an **Agent.** <br><br>\n",
    "\n",
    "Tools can be integrated with LLM models to interact with external systems.<br>\n",
    "External systems can be API's, third party tools.<br><br>\n",
    "\n",
    "Whenever a query is called the model can choose to call the tool and this query is based on the natural language input and this will return an output that matches the tool's schema.<br><br>\n",
    "\n",
    "LLM acts as the brain.<br>"
   ]
  },
  {
   "cell_type": "code",
   "execution_count": 2,
   "id": "277555f7",
   "metadata": {},
   "outputs": [],
   "source": [
    "import os\n",
    "from dotenv import load_dotenv\n",
    "load_dotenv()\n",
    "os.environ[\"GROQ_API_KEY\"] = os.getenv(\"GROQ_API_KEY\")"
   ]
  },
  {
   "cell_type": "code",
   "execution_count": 5,
   "id": "e449df62",
   "metadata": {},
   "outputs": [],
   "source": [
    "from langchain_core.messages import HumanMessage"
   ]
  },
  {
   "cell_type": "code",
   "execution_count": 3,
   "id": "eeedf595",
   "metadata": {},
   "outputs": [],
   "source": [
    "from langchain_groq import ChatGroq\n",
    "llm = ChatGroq(model= \"gemma2-9b-it\")"
   ]
  },
  {
   "cell_type": "code",
   "execution_count": 1,
   "id": "a2e3101b",
   "metadata": {},
   "outputs": [],
   "source": [
    "def add(a:int, b:int)->int:\n",
    "    \"\"\" Add a and b\n",
    "    Args:\n",
    "        a (int): first integer\n",
    "        b (int): second integer\n",
    "    \n",
    "    Returns:\n",
    "        int\n",
    "    \"\"\"\n",
    "    return a+b"
   ]
  },
  {
   "cell_type": "code",
   "execution_count": 7,
   "id": "1e6f85f0",
   "metadata": {},
   "outputs": [
    {
     "data": {
      "text/plain": [
       "[{'name': 'add',\n",
       "  'args': {'a': 2, 'b': 2},\n",
       "  'id': '4kw0rjghr',\n",
       "  'type': 'tool_call'}]"
      ]
     },
     "execution_count": 7,
     "metadata": {},
     "output_type": "execute_result"
    }
   ],
   "source": [
    "# binding tool with LLM \n",
    "llm_with_tools= llm.bind_tools([add])\n",
    "tool_call = llm_with_tools.invoke([HumanMessage(content= f\"What is 2 plus 2\", name=\"Sujit\")])\n",
    "tool_call.tool_calls"
   ]
  },
  {
   "cell_type": "markdown",
   "id": "71fd367f",
   "metadata": {},
   "source": [
    "We did not get any response from AImessage. <br>\n",
    "But in arguments it states that it made a `tool_call` .<br>\n",
    "And the tool call inside the function is taking arguments `a:2` and `b:2`<br>\n",
    "And it is calling the function `name:add`"
   ]
  },
  {
   "cell_type": "markdown",
   "id": "fd3ed2e8",
   "metadata": {},
   "source": [
    "The Brain behind the node (the LLM) is understanding that it has an `add` functionality and it is also able to call it based on a specific input."
   ]
  },
  {
   "cell_type": "code",
   "execution_count": null,
   "id": "aebfb720",
   "metadata": {},
   "outputs": [],
   "source": [
    "# using messages at states\n",
    "\n",
    "from typing_extensions import TypedDict\n",
    "from langchain_core.messages import AnyMessage\n",
    "\n",
    "class TypedDictState(TypedDict):\n",
    "    message = list[AnyMessage]"
   ]
  },
  {
   "cell_type": "markdown",
   "id": "c431e1ec",
   "metadata": {},
   "source": [
    "The problem with above initialization is, Everytime we access `message` it will be overwritten, whereas we want the messages to be appended. <br>\n",
    "For doing so, we will need a **REDUCER**.<br>\n",
    "We can use the pre-built `add_messages` reducer to address this problem. <br>\n"
   ]
  },
  {
   "cell_type": "code",
   "execution_count": null,
   "id": "a6ab5cf2",
   "metadata": {},
   "outputs": [],
   "source": []
  }
 ],
 "metadata": {
  "kernelspec": {
   "display_name": "Python 3",
   "language": "python",
   "name": "python3"
  },
  "language_info": {
   "codemirror_mode": {
    "name": "ipython",
    "version": 3
   },
   "file_extension": ".py",
   "mimetype": "text/x-python",
   "name": "python",
   "nbconvert_exporter": "python",
   "pygments_lexer": "ipython3",
   "version": "3.12.0"
  }
 },
 "nbformat": 4,
 "nbformat_minor": 5
}
