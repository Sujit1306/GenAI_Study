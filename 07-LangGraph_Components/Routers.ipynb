{
 "cells": [
  {
   "cell_type": "markdown",
   "id": "854d6e16",
   "metadata": {},
   "source": [
    "# Routers"
   ]
  },
  {
   "cell_type": "markdown",
   "id": "cceb9688",
   "metadata": {},
   "source": [
    "We can think of this as a router where the chat model routes between a `direct response` or a `tool call` <br>\n",
    "based upon the user input.<br>\n",
    "\n",
    "LLM is directing the control flow by either calling a tool or just responding directly."
   ]
  }
 ],
 "metadata": {
  "language_info": {
   "name": "python"
  }
 },
 "nbformat": 4,
 "nbformat_minor": 5
}
