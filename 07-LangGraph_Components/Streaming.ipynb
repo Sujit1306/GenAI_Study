{
 "cells": [
  {
   "cell_type": "markdown",
   "id": "590743d2",
   "metadata": {},
   "source": [
    "# Streaming Technologies"
   ]
  },
  {
   "cell_type": "markdown",
   "id": "fdc6970d",
   "metadata": {},
   "source": [
    "### 1. stream()\n",
    "This is a sync method for streaming back results.\n"
   ]
  },
  {
   "cell_type": "markdown",
   "id": "75ebe8c7",
   "metadata": {},
   "source": [
    "### 2. astream()\n",
    "This is an async method for streaming back results."
   ]
  },
  {
   "cell_type": "markdown",
   "id": "0cb9b9e6",
   "metadata": {},
   "source": [
    "### Parameters in strreaming:\n",
    "`values`: This streams the full state of graph after each node is called. <br>\n",
    "`updates`: This streams the updates to the state of the graph after each node is called."
   ]
  },
  {
   "cell_type": "markdown",
   "id": "a2ddb196",
   "metadata": {},
   "source": [
    "### Using streaming in a simple chatbot"
   ]
  },
  {
   "cell_type": "code",
   "execution_count": 2,
   "id": "2167b922",
   "metadata": {},
   "outputs": [],
   "source": [
    "# import required libraries\n",
    "from typing_extensions import Annotated\n",
    "from typing import TypedDict\n",
    "from langgraph.graph import START, END, StateGraph\n",
    "from langgraph.graph.message import add_messages"
   ]
  },
  {
   "cell_type": "code",
   "execution_count": 16,
   "id": "b90e0be8",
   "metadata": {},
   "outputs": [],
   "source": [
    "# create class state\n",
    "class State(TypedDict):\n",
    "    messages: Annotated[list,add_messages]"
   ]
  },
  {
   "cell_type": "code",
   "execution_count": 17,
   "id": "a4743582",
   "metadata": {},
   "outputs": [],
   "source": [
    "# setting up environment\n",
    "import os\n",
    "from dotenv import load_dotenv\n",
    "load_dotenv()\n",
    "\n",
    "# os.environ[\"LANGCHAIN_API_KEY\"] = os.getenv(\"LANGCHAIN_API_KEY\")\n",
    "# os.environ[\"LANGCHAIN_TRACING_V2\"] = \"true\"\n",
    "# os.environ[\"LANGCHAIN_PROJECT\"] = \"Streaming_DEMO\"\n",
    "os.environ[\"GROQ_API_KEY\"] = os.getenv(\"GROQ_API_KEY\")\n"
   ]
  },
  {
   "cell_type": "code",
   "execution_count": 18,
   "id": "5a88c3ea",
   "metadata": {},
   "outputs": [],
   "source": [
    "# initialize llm model\n",
    "from langchain_groq import ChatGroq\n",
    "llm = ChatGroq(model=\"gemma2-9b-it\")"
   ]
  },
  {
   "cell_type": "code",
   "execution_count": 19,
   "id": "1e21e9f0",
   "metadata": {},
   "outputs": [],
   "source": [
    "# incorporating memory and creating node\n",
    "from langgraph.checkpoint.memory import MemorySaver\n",
    "memory = MemorySaver()\n",
    "\n",
    "def chatbot(state:State):\n",
    "    return {\"messages\":[llm.invoke(state[\"messages\"])]}"
   ]
  },
  {
   "cell_type": "code",
   "execution_count": 20,
   "id": "f59ab041",
   "metadata": {},
   "outputs": [
    {
     "data": {
      "image/png": "[encoded data removed]",
      "text/plain": [
       "<IPython.core.display.Image object>"
      ]
     },
     "metadata": {},
     "output_type": "display_data"
    }
   ],
   "source": [
    "graph = StateGraph(State)\n",
    "\n",
    "# adding nodes\n",
    "graph.add_node(\"chatbot\", chatbot)\n",
    "\n",
    "# adding edges\n",
    "graph.add_edge(START, \"chatbot\")\n",
    "graph.add_edge(\"chatbot\", END)\n",
    "\n",
    "# compile graph\n",
    "builder = graph.compile(checkpointer = memory)\n",
    "\n",
    "# display graph\n",
    "from IPython.display import display, Image\n",
    "display(Image(builder.get_graph().draw_mermaid_png()))"
   ]
  },
  {
   "cell_type": "code",
   "execution_count": 23,
   "id": "ac433ae8",
   "metadata": {},
   "outputs": [],
   "source": [
    "# configurable key\n",
    "config = {\"configurable\":{\"thread_id\":\"tijus\"}}"
   ]
  },
  {
   "cell_type": "code",
   "execution_count": 22,
   "id": "7cd93afa",
   "metadata": {},
   "outputs": [
    {
     "data": {
      "text/plain": [
       "{'messages': [HumanMessage(content='what is Quantum computing?', additional_kwargs={}, response_metadata={}, id='af6b2a05-d62c-4a53-a6ef-81b77347238a'),\n",
       "  AIMessage(content=\"## Quantum Computing: A Leap Beyond Classical\\n\\nQuantum computing is a new type of computing that harnesses the principles of quantum mechanics to solve problems too complex for classical computers. \\n\\n**Here's a breakdown:**\\n\\n* **Classical Computers:** Use bits, which can be either 0 or 1. They process information sequentially.\\n* **Quantum Computers:** Use qubits, which can be 0, 1, or both simultaneously (superposition). They can also be linked together in ways that classical bits can't (entanglement), allowing for parallel processing on a massive scale.\\n\\nThis unique ability gives quantum computers the potential to:\\n\\n* **Solve certain problems exponentially faster:**  Examples include:\\n    * **Drug discovery:** Simulating molecular interactions to design new drugs.\\n    * **Materials science:** Discovering new materials with specific properties.\\n    * **Cryptography:** Breaking existing encryption algorithms and creating new, unbreakable ones.\\n    * **Optimization:** Finding optimal solutions for complex logistical and financial problems.\\n\\n**Key Concepts:**\\n\\n* **Qubits:** The basic unit of information in quantum computing.\\n* **Superposition:** A qubit can exist in a combination of 0 and 1 states simultaneously.\\n* **Entanglement:** Two or more qubits can be linked together, even when physically separated. Measuring one qubit instantly influences the state of the others.\\n* **Quantum Algorithms:** Special algorithms designed to take advantage of quantum phenomena.\\n\\n**Challenges:**\\n\\nQuantum computing is still in its early stages. Challenges include:\\n\\n* **Building stable qubits:** Qubits are extremely fragile and susceptible to environmental noise.\\n* **Scaling up the number of qubits:** Building large-scale quantum computers is complex and expensive.\\n* **Developing new quantum algorithms:** Designing algorithms that are truly quantum in nature is a major research area.\\n\\n**The Future:**\\n\\nDespite the challenges, quantum computing holds immense potential to revolutionize many fields. While widespread adoption is still years away, research and development are progressing rapidly.  It's a field to watch closely as it continues to evolve.\\n\", additional_kwargs={}, response_metadata={'token_usage': {'completion_tokens': 433, 'prompt_tokens': 14, 'total_tokens': 447, 'completion_time': 0.787272727, 'prompt_time': 0.001252589, 'queue_time': 0.248708171, 'total_time': 0.788525316}, 'model_name': 'gemma2-9b-it', 'system_fingerprint': 'fp_10c08bf97d', 'finish_reason': 'stop', 'logprobs': None}, id='run--1e8fc818-8f1f-4d84-93df-66e13773e7b0-0', usage_metadata={'input_tokens': 14, 'output_tokens': 433, 'total_tokens': 447})]}"
      ]
     },
     "execution_count": 22,
     "metadata": {},
     "output_type": "execute_result"
    }
   ],
   "source": [
    "# invoke\n",
    "builder.invoke({\"messages\":\"what is Quantum computing?\"}, config)"
   ]
  },
  {
   "cell_type": "code",
   "execution_count": 24,
   "id": "45d14967",
   "metadata": {},
   "outputs": [
    {
     "name": "stdout",
     "output_type": "stream",
     "text": [
      "{'chatbot': {'messages': [AIMessage(content=\"Hi Sujit,\\n\\nThat's great! Chess is a fascinating game. \\n\\nDo you play online or in person? Do you have a favorite opening or strategy?  \\n\\nI'd love to hear more about your chess journey! 😄  \\n\\n\", additional_kwargs={}, response_metadata={'token_usage': {'completion_tokens': 55, 'prompt_tokens': 20, 'total_tokens': 75, 'completion_time': 0.1, 'prompt_time': 0.001321539, 'queue_time': 0.262588411, 'total_time': 0.101321539}, 'model_name': 'gemma2-9b-it', 'system_fingerprint': 'fp_10c08bf97d', 'finish_reason': 'stop', 'logprobs': None}, id='run--c545d712-3635-4d32-a939-ae3f9b3ab5c6-0', usage_metadata={'input_tokens': 20, 'output_tokens': 55, 'total_tokens': 75})]}}\n"
     ]
    }
   ],
   "source": [
    "# using stream\n",
    "config = {\"configurable\":{\"thread_id\":\"1\"}}\n",
    "for chunk in builder.stream({\"messages\":\"Hi, my name is Sujit and I like chess\"}, config, stream_mode = \"updates\"):\n",
    "    print(chunk)"
   ]
  },
  {
   "cell_type": "code",
   "execution_count": null,
   "id": "516ea9b0",
   "metadata": {},
   "outputs": [
    {
     "name": "stdout",
     "output_type": "stream",
     "text": [
      "{'messages': [HumanMessage(content='Hi, my name is Sujit and I like chess', additional_kwargs={}, response_metadata={}, id='17042c08-69de-4a56-9325-35f04c6716d2'), AIMessage(content=\"Hi Sujit,\\n\\nThat's great! Chess is a fascinating game. \\n\\nDo you play online or in person? Do you have a favorite opening or strategy?  \\n\\nI'd love to hear more about your chess journey! 😄  \\n\\n\", additional_kwargs={}, response_metadata={'token_usage': {'completion_tokens': 55, 'prompt_tokens': 20, 'total_tokens': 75, 'completion_time': 0.1, 'prompt_time': 0.001321539, 'queue_time': 0.262588411, 'total_time': 0.101321539}, 'model_name': 'gemma2-9b-it', 'system_fingerprint': 'fp_10c08bf97d', 'finish_reason': 'stop', 'logprobs': None}, id='run--c545d712-3635-4d32-a939-ae3f9b3ab5c6-0', usage_metadata={'input_tokens': 20, 'output_tokens': 55, 'total_tokens': 75}), HumanMessage(content='Hi, my name is Sujit and I like chess', additional_kwargs={}, response_metadata={}, id='05d710e0-5850-428b-a927-dd3ac017b486')]}\n",
      "{'messages': [HumanMessage(content='Hi, my name is Sujit and I like chess', additional_kwargs={}, response_metadata={}, id='17042c08-69de-4a56-9325-35f04c6716d2'), AIMessage(content=\"Hi Sujit,\\n\\nThat's great! Chess is a fascinating game. \\n\\nDo you play online or in person? Do you have a favorite opening or strategy?  \\n\\nI'd love to hear more about your chess journey! 😄  \\n\\n\", additional_kwargs={}, response_metadata={'token_usage': {'completion_tokens': 55, 'prompt_tokens': 20, 'total_tokens': 75, 'completion_time': 0.1, 'prompt_time': 0.001321539, 'queue_time': 0.262588411, 'total_time': 0.101321539}, 'model_name': 'gemma2-9b-it', 'system_fingerprint': 'fp_10c08bf97d', 'finish_reason': 'stop', 'logprobs': None}, id='run--c545d712-3635-4d32-a939-ae3f9b3ab5c6-0', usage_metadata={'input_tokens': 20, 'output_tokens': 55, 'total_tokens': 75}), HumanMessage(content='Hi, my name is Sujit and I like chess', additional_kwargs={}, response_metadata={}, id='05d710e0-5850-428b-a927-dd3ac017b486'), AIMessage(content=\"Hi Sujit! It's nice to meet you.  \\n\\nI'm glad you like chess. It's a wonderful game! \\n\\nDo you play often?  What's your favorite thing about chess? 😊  \\n\\n\", additional_kwargs={}, response_metadata={'token_usage': {'completion_tokens': 52, 'prompt_tokens': 93, 'total_tokens': 145, 'completion_time': 0.094545455, 'prompt_time': 0.002652249, 'queue_time': 0.254574232, 'total_time': 0.097197704}, 'model_name': 'gemma2-9b-it', 'system_fingerprint': 'fp_10c08bf97d', 'finish_reason': 'stop', 'logprobs': None}, id='run--7854073b-7919-48cf-b347-a8be41af5f53-0', usage_metadata={'input_tokens': 93, 'output_tokens': 52, 'total_tokens': 145})]}\n"
     ]
    }
   ],
   "source": [
    "\n",
    "for chunk in builder.stream({\"messages\":\"Hi, my name is Sujit and I like chess\"}, config, stream_mode = \"values\"):\n",
    "    print(chunk)"
   ]
  },
  {
   "cell_type": "code",
   "execution_count": null,
   "id": "bce0bb43",
   "metadata": {},
   "outputs": [
    {
     "name": "stdout",
     "output_type": "stream",
     "text": [
      "{'chatbot': {'messages': [AIMessage(content=\"That's awesome, Sujit! Football (soccer, I assume?) is a lot of fun too. \\n\\nDo you have a favorite team?  Or player?  \\n\\nI'm always up for talking about sports!  ⚽️ 🏆 \\n\\n\\n\\n\", additional_kwargs={}, response_metadata={'token_usage': {'completion_tokens': 57, 'prompt_tokens': 156, 'total_tokens': 213, 'completion_time': 0.103636364, 'prompt_time': 0.004457357, 'queue_time': 0.255806304, 'total_time': 0.108093721}, 'model_name': 'gemma2-9b-it', 'system_fingerprint': 'fp_10c08bf97d', 'finish_reason': 'stop', 'logprobs': None}, id='run--be96757a-db1f-466e-b1c6-dd11b40cfbf6-0', usage_metadata={'input_tokens': 156, 'output_tokens': 57, 'total_tokens': 213})]}}\n"
     ]
    }
   ],
   "source": [
    "\n",
    "for chunk in builder.stream({\"messages\":\"I also like football\"}, config, stream_mode = \"updates\"):\n",
    "    print(chunk)"
   ]
  },
  {
   "cell_type": "code",
   "execution_count": null,
   "id": "2ed1590c",
   "metadata": {},
   "outputs": [
    {
     "name": "stdout",
     "output_type": "stream",
     "text": [
      "{'messages': [HumanMessage(content='Hi, my name is Sujit and I like chess', additional_kwargs={}, response_metadata={}, id='17042c08-69de-4a56-9325-35f04c6716d2'), AIMessage(content=\"Hi Sujit,\\n\\nThat's great! Chess is a fascinating game. \\n\\nDo you play online or in person? Do you have a favorite opening or strategy?  \\n\\nI'd love to hear more about your chess journey! 😄  \\n\\n\", additional_kwargs={}, response_metadata={'token_usage': {'completion_tokens': 55, 'prompt_tokens': 20, 'total_tokens': 75, 'completion_time': 0.1, 'prompt_time': 0.001321539, 'queue_time': 0.262588411, 'total_time': 0.101321539}, 'model_name': 'gemma2-9b-it', 'system_fingerprint': 'fp_10c08bf97d', 'finish_reason': 'stop', 'logprobs': None}, id='run--c545d712-3635-4d32-a939-ae3f9b3ab5c6-0', usage_metadata={'input_tokens': 20, 'output_tokens': 55, 'total_tokens': 75}), HumanMessage(content='Hi, my name is Sujit and I like chess', additional_kwargs={}, response_metadata={}, id='05d710e0-5850-428b-a927-dd3ac017b486'), AIMessage(content=\"Hi Sujit! It's nice to meet you.  \\n\\nI'm glad you like chess. It's a wonderful game! \\n\\nDo you play often?  What's your favorite thing about chess? 😊  \\n\\n\", additional_kwargs={}, response_metadata={'token_usage': {'completion_tokens': 52, 'prompt_tokens': 93, 'total_tokens': 145, 'completion_time': 0.094545455, 'prompt_time': 0.002652249, 'queue_time': 0.254574232, 'total_time': 0.097197704}, 'model_name': 'gemma2-9b-it', 'system_fingerprint': 'fp_10c08bf97d', 'finish_reason': 'stop', 'logprobs': None}, id='run--7854073b-7919-48cf-b347-a8be41af5f53-0', usage_metadata={'input_tokens': 93, 'output_tokens': 52, 'total_tokens': 145}), HumanMessage(content='I also like football', additional_kwargs={}, response_metadata={}, id='ea69d890-a05d-4221-b4f9-16ec862c581d'), AIMessage(content=\"That's awesome, Sujit! Football (soccer, I assume?) is a lot of fun too. \\n\\nDo you have a favorite team?  Or player?  \\n\\nI'm always up for talking about sports!  ⚽️ 🏆 \\n\\n\\n\\n\", additional_kwargs={}, response_metadata={'token_usage': {'completion_tokens': 57, 'prompt_tokens': 156, 'total_tokens': 213, 'completion_time': 0.103636364, 'prompt_time': 0.004457357, 'queue_time': 0.255806304, 'total_time': 0.108093721}, 'model_name': 'gemma2-9b-it', 'system_fingerprint': 'fp_10c08bf97d', 'finish_reason': 'stop', 'logprobs': None}, id='run--be96757a-db1f-466e-b1c6-dd11b40cfbf6-0', usage_metadata={'input_tokens': 156, 'output_tokens': 57, 'total_tokens': 213}), HumanMessage(content='I just love sports', additional_kwargs={}, response_metadata={}, id='47dcedb4-a207-4df7-8bf6-800115fb8314')]}\n",
      "{'messages': [HumanMessage(content='Hi, my name is Sujit and I like chess', additional_kwargs={}, response_metadata={}, id='17042c08-69de-4a56-9325-35f04c6716d2'), AIMessage(content=\"Hi Sujit,\\n\\nThat's great! Chess is a fascinating game. \\n\\nDo you play online or in person? Do you have a favorite opening or strategy?  \\n\\nI'd love to hear more about your chess journey! 😄  \\n\\n\", additional_kwargs={}, response_metadata={'token_usage': {'completion_tokens': 55, 'prompt_tokens': 20, 'total_tokens': 75, 'completion_time': 0.1, 'prompt_time': 0.001321539, 'queue_time': 0.262588411, 'total_time': 0.101321539}, 'model_name': 'gemma2-9b-it', 'system_fingerprint': 'fp_10c08bf97d', 'finish_reason': 'stop', 'logprobs': None}, id='run--c545d712-3635-4d32-a939-ae3f9b3ab5c6-0', usage_metadata={'input_tokens': 20, 'output_tokens': 55, 'total_tokens': 75}), HumanMessage(content='Hi, my name is Sujit and I like chess', additional_kwargs={}, response_metadata={}, id='05d710e0-5850-428b-a927-dd3ac017b486'), AIMessage(content=\"Hi Sujit! It's nice to meet you.  \\n\\nI'm glad you like chess. It's a wonderful game! \\n\\nDo you play often?  What's your favorite thing about chess? 😊  \\n\\n\", additional_kwargs={}, response_metadata={'token_usage': {'completion_tokens': 52, 'prompt_tokens': 93, 'total_tokens': 145, 'completion_time': 0.094545455, 'prompt_time': 0.002652249, 'queue_time': 0.254574232, 'total_time': 0.097197704}, 'model_name': 'gemma2-9b-it', 'system_fingerprint': 'fp_10c08bf97d', 'finish_reason': 'stop', 'logprobs': None}, id='run--7854073b-7919-48cf-b347-a8be41af5f53-0', usage_metadata={'input_tokens': 93, 'output_tokens': 52, 'total_tokens': 145}), HumanMessage(content='I also like football', additional_kwargs={}, response_metadata={}, id='ea69d890-a05d-4221-b4f9-16ec862c581d'), AIMessage(content=\"That's awesome, Sujit! Football (soccer, I assume?) is a lot of fun too. \\n\\nDo you have a favorite team?  Or player?  \\n\\nI'm always up for talking about sports!  ⚽️ 🏆 \\n\\n\\n\\n\", additional_kwargs={}, response_metadata={'token_usage': {'completion_tokens': 57, 'prompt_tokens': 156, 'total_tokens': 213, 'completion_time': 0.103636364, 'prompt_time': 0.004457357, 'queue_time': 0.255806304, 'total_time': 0.108093721}, 'model_name': 'gemma2-9b-it', 'system_fingerprint': 'fp_10c08bf97d', 'finish_reason': 'stop', 'logprobs': None}, id='run--be96757a-db1f-466e-b1c6-dd11b40cfbf6-0', usage_metadata={'input_tokens': 156, 'output_tokens': 57, 'total_tokens': 213}), HumanMessage(content='I just love sports', additional_kwargs={}, response_metadata={}, id='47dcedb4-a207-4df7-8bf6-800115fb8314'), AIMessage(content=\"It's great that you're so passionate about sports, Sujit!  \\n\\nWhat other sports do you enjoy?  Maybe we have some in common!  🏏🏀⚾️  \\n\\n\\n\\n\", additional_kwargs={}, response_metadata={'token_usage': {'completion_tokens': 43, 'prompt_tokens': 224, 'total_tokens': 267, 'completion_time': 0.078181818, 'prompt_time': 0.005550247, 'queue_time': 0.253662813, 'total_time': 0.083732065}, 'model_name': 'gemma2-9b-it', 'system_fingerprint': 'fp_10c08bf97d', 'finish_reason': 'stop', 'logprobs': None}, id='run--4c4154f9-dffc-4e2b-8c61-a192f1b9aff1-0', usage_metadata={'input_tokens': 224, 'output_tokens': 43, 'total_tokens': 267})]}\n"
     ]
    }
   ],
   "source": [
    "\n",
    "for chunk in builder.stream({\"messages\":\"I just love sports\"}, config, stream_mode = \"values\"):\n",
    "    print(chunk)"
   ]
  },
  {
   "cell_type": "markdown",
   "id": "ba7c52cb",
   "metadata": {},
   "source": [
    "#### Streaming the responses with astream methods\n",
    "\n",
    "`Streaming tokens`: with chat models, we commonly want to be streaming **tokens** as they are generated.<br>\n",
    "We do this using `.astream_events()` which streams back events as they happen. <br><br>\n",
    "Each event is a dict with keys: <br>\n",
    "* event: type of event that is being emmited\n",
    "* name : name of the event\n",
    "* data : data associated with the event \n",
    "* metadata : contains LangGraph node that is emmiting the event \n",
    "\n",
    "This is especially helpful when Debugging "
   ]
  },
  {
   "cell_type": "code",
   "execution_count": 28,
   "id": "f6666c66",
   "metadata": {},
   "outputs": [],
   "source": [
    "config = {\"configurable\":{\"thread_id\":\"astream\"}}"
   ]
  },
  {
   "cell_type": "code",
   "execution_count": 29,
   "id": "03f36088",
   "metadata": {},
   "outputs": [
    {
     "name": "stdout",
     "output_type": "stream",
     "text": [
      "{'event': 'on_chain_start', 'data': {'input': {'messages': ['Hi my name is Suzi and I like woking out.']}}, 'name': 'LangGraph', 'tags': [], 'run_id': 'da976749-aa9a-45a0-8cfa-160a9ed466fa', 'metadata': {'thread_id': 'astream'}, 'parent_ids': []}\n",
      "{'event': 'on_chain_start', 'data': {'input': {'messages': [HumanMessage(content='Hi my name is Suzi and I like woking out.', additional_kwargs={}, response_metadata={}, id='8ee37892-f226-4932-8c2f-9ca4511f6199')]}}, 'name': 'chatbot', 'tags': ['graph:step:1'], 'run_id': '744bc9c9-5c4c-4d95-bd50-f593238a3a57', 'metadata': {'thread_id': 'astream', 'langgraph_step': 1, 'langgraph_node': 'chatbot', 'langgraph_triggers': ('branch:to:chatbot',), 'langgraph_path': ('__pregel_pull', 'chatbot'), 'langgraph_checkpoint_ns': 'chatbot:1336af4b-e1e3-a0d4-01ed-cccb0270b3c6'}, 'parent_ids': ['da976749-aa9a-45a0-8cfa-160a9ed466fa']}\n",
      "{'event': 'on_chat_model_start', 'data': {'input': {'messages': [[HumanMessage(content='Hi my name is Suzi and I like woking out.', additional_kwargs={}, response_metadata={}, id='8ee37892-f226-4932-8c2f-9ca4511f6199')]]}}, 'name': 'ChatGroq', 'tags': ['seq:step:1'], 'run_id': '965e08e5-1269-4aeb-83a3-0b81acab78a7', 'metadata': {'thread_id': 'astream', 'langgraph_step': 1, 'langgraph_node': 'chatbot', 'langgraph_triggers': ('branch:to:chatbot',), 'langgraph_path': ('__pregel_pull', 'chatbot'), 'langgraph_checkpoint_ns': 'chatbot:1336af4b-e1e3-a0d4-01ed-cccb0270b3c6', 'checkpoint_ns': 'chatbot:1336af4b-e1e3-a0d4-01ed-cccb0270b3c6', 'ls_provider': 'groq', 'ls_model_name': 'gemma2-9b-it', 'ls_model_type': 'chat', 'ls_temperature': 0.7}, 'parent_ids': ['da976749-aa9a-45a0-8cfa-160a9ed466fa', '744bc9c9-5c4c-4d95-bd50-f593238a3a57']}\n",
      "{'event': 'on_chat_model_stream', 'data': {'chunk': AIMessageChunk(content='', additional_kwargs={}, response_metadata={}, id='run--965e08e5-1269-4aeb-83a3-0b81acab78a7')}, 'run_id': '965e08e5-1269-4aeb-83a3-0b81acab78a7', 'name': 'ChatGroq', 'tags': ['seq:step:1'], 'metadata': {'thread_id': 'astream', 'langgraph_step': 1, 'langgraph_node': 'chatbot', 'langgraph_triggers': ('branch:to:chatbot',), 'langgraph_path': ('__pregel_pull', 'chatbot'), 'langgraph_checkpoint_ns': 'chatbot:1336af4b-e1e3-a0d4-01ed-cccb0270b3c6', 'checkpoint_ns': 'chatbot:1336af4b-e1e3-a0d4-01ed-cccb0270b3c6', 'ls_provider': 'groq', 'ls_model_name': 'gemma2-9b-it', 'ls_model_type': 'chat', 'ls_temperature': 0.7}, 'parent_ids': ['da976749-aa9a-45a0-8cfa-160a9ed466fa', '744bc9c9-5c4c-4d95-bd50-f593238a3a57']}\n",
      "{'event': 'on_chat_model_stream', 'data': {'chunk': AIMessageChunk(content='Hi', additional_kwargs={}, response_metadata={}, id='run--965e08e5-1269-4aeb-83a3-0b81acab78a7')}, 'run_id': '965e08e5-1269-4aeb-83a3-0b81acab78a7', 'name': 'ChatGroq', 'tags': ['seq:step:1'], 'metadata': {'thread_id': 'astream', 'langgraph_step': 1, 'langgraph_node': 'chatbot', 'langgraph_triggers': ('branch:to:chatbot',), 'langgraph_path': ('__pregel_pull', 'chatbot'), 'langgraph_checkpoint_ns': 'chatbot:1336af4b-e1e3-a0d4-01ed-cccb0270b3c6', 'checkpoint_ns': 'chatbot:1336af4b-e1e3-a0d4-01ed-cccb0270b3c6', 'ls_provider': 'groq', 'ls_model_name': 'gemma2-9b-it', 'ls_model_type': 'chat', 'ls_temperature': 0.7}, 'parent_ids': ['da976749-aa9a-45a0-8cfa-160a9ed466fa', '744bc9c9-5c4c-4d95-bd50-f593238a3a57']}\n",
      "{'event': 'on_chat_model_stream', 'data': {'chunk': AIMessageChunk(content=' Su', additional_kwargs={}, response_metadata={}, id='run--965e08e5-1269-4aeb-83a3-0b81acab78a7')}, 'run_id': '965e08e5-1269-4aeb-83a3-0b81acab78a7', 'name': 'ChatGroq', 'tags': ['seq:step:1'], 'metadata': {'thread_id': 'astream', 'langgraph_step': 1, 'langgraph_node': 'chatbot', 'langgraph_triggers': ('branch:to:chatbot',), 'langgraph_path': ('__pregel_pull', 'chatbot'), 'langgraph_checkpoint_ns': 'chatbot:1336af4b-e1e3-a0d4-01ed-cccb0270b3c6', 'checkpoint_ns': 'chatbot:1336af4b-e1e3-a0d4-01ed-cccb0270b3c6', 'ls_provider': 'groq', 'ls_model_name': 'gemma2-9b-it', 'ls_model_type': 'chat', 'ls_temperature': 0.7}, 'parent_ids': ['da976749-aa9a-45a0-8cfa-160a9ed466fa', '744bc9c9-5c4c-4d95-bd50-f593238a3a57']}\n",
      "{'event': 'on_chat_model_stream', 'data': {'chunk': AIMessageChunk(content='zi', additional_kwargs={}, response_metadata={}, id='run--965e08e5-1269-4aeb-83a3-0b81acab78a7')}, 'run_id': '965e08e5-1269-4aeb-83a3-0b81acab78a7', 'name': 'ChatGroq', 'tags': ['seq:step:1'], 'metadata': {'thread_id': 'astream', 'langgraph_step': 1, 'langgraph_node': 'chatbot', 'langgraph_triggers': ('branch:to:chatbot',), 'langgraph_path': ('__pregel_pull', 'chatbot'), 'langgraph_checkpoint_ns': 'chatbot:1336af4b-e1e3-a0d4-01ed-cccb0270b3c6', 'checkpoint_ns': 'chatbot:1336af4b-e1e3-a0d4-01ed-cccb0270b3c6', 'ls_provider': 'groq', 'ls_model_name': 'gemma2-9b-it', 'ls_model_type': 'chat', 'ls_temperature': 0.7}, 'parent_ids': ['da976749-aa9a-45a0-8cfa-160a9ed466fa', '744bc9c9-5c4c-4d95-bd50-f593238a3a57']}\n",
      "{'event': 'on_chat_model_stream', 'data': {'chunk': AIMessageChunk(content='!', additional_kwargs={}, response_metadata={}, id='run--965e08e5-1269-4aeb-83a3-0b81acab78a7')}, 'run_id': '965e08e5-1269-4aeb-83a3-0b81acab78a7', 'name': 'ChatGroq', 'tags': ['seq:step:1'], 'metadata': {'thread_id': 'astream', 'langgraph_step': 1, 'langgraph_node': 'chatbot', 'langgraph_triggers': ('branch:to:chatbot',), 'langgraph_path': ('__pregel_pull', 'chatbot'), 'langgraph_checkpoint_ns': 'chatbot:1336af4b-e1e3-a0d4-01ed-cccb0270b3c6', 'checkpoint_ns': 'chatbot:1336af4b-e1e3-a0d4-01ed-cccb0270b3c6', 'ls_provider': 'groq', 'ls_model_name': 'gemma2-9b-it', 'ls_model_type': 'chat', 'ls_temperature': 0.7}, 'parent_ids': ['da976749-aa9a-45a0-8cfa-160a9ed466fa', '744bc9c9-5c4c-4d95-bd50-f593238a3a57']}\n",
      "{'event': 'on_chat_model_stream', 'data': {'chunk': AIMessageChunk(content=' That', additional_kwargs={}, response_metadata={}, id='run--965e08e5-1269-4aeb-83a3-0b81acab78a7')}, 'run_id': '965e08e5-1269-4aeb-83a3-0b81acab78a7', 'name': 'ChatGroq', 'tags': ['seq:step:1'], 'metadata': {'thread_id': 'astream', 'langgraph_step': 1, 'langgraph_node': 'chatbot', 'langgraph_triggers': ('branch:to:chatbot',), 'langgraph_path': ('__pregel_pull', 'chatbot'), 'langgraph_checkpoint_ns': 'chatbot:1336af4b-e1e3-a0d4-01ed-cccb0270b3c6', 'checkpoint_ns': 'chatbot:1336af4b-e1e3-a0d4-01ed-cccb0270b3c6', 'ls_provider': 'groq', 'ls_model_name': 'gemma2-9b-it', 'ls_model_type': 'chat', 'ls_temperature': 0.7}, 'parent_ids': ['da976749-aa9a-45a0-8cfa-160a9ed466fa', '744bc9c9-5c4c-4d95-bd50-f593238a3a57']}\n",
      "{'event': 'on_chat_model_stream', 'data': {'chunk': AIMessageChunk(content=\"'\", additional_kwargs={}, response_metadata={}, id='run--965e08e5-1269-4aeb-83a3-0b81acab78a7')}, 'run_id': '965e08e5-1269-4aeb-83a3-0b81acab78a7', 'name': 'ChatGroq', 'tags': ['seq:step:1'], 'metadata': {'thread_id': 'astream', 'langgraph_step': 1, 'langgraph_node': 'chatbot', 'langgraph_triggers': ('branch:to:chatbot',), 'langgraph_path': ('__pregel_pull', 'chatbot'), 'langgraph_checkpoint_ns': 'chatbot:1336af4b-e1e3-a0d4-01ed-cccb0270b3c6', 'checkpoint_ns': 'chatbot:1336af4b-e1e3-a0d4-01ed-cccb0270b3c6', 'ls_provider': 'groq', 'ls_model_name': 'gemma2-9b-it', 'ls_model_type': 'chat', 'ls_temperature': 0.7}, 'parent_ids': ['da976749-aa9a-45a0-8cfa-160a9ed466fa', '744bc9c9-5c4c-4d95-bd50-f593238a3a57']}\n",
      "{'event': 'on_chat_model_stream', 'data': {'chunk': AIMessageChunk(content='s', additional_kwargs={}, response_metadata={}, id='run--965e08e5-1269-4aeb-83a3-0b81acab78a7')}, 'run_id': '965e08e5-1269-4aeb-83a3-0b81acab78a7', 'name': 'ChatGroq', 'tags': ['seq:step:1'], 'metadata': {'thread_id': 'astream', 'langgraph_step': 1, 'langgraph_node': 'chatbot', 'langgraph_triggers': ('branch:to:chatbot',), 'langgraph_path': ('__pregel_pull', 'chatbot'), 'langgraph_checkpoint_ns': 'chatbot:1336af4b-e1e3-a0d4-01ed-cccb0270b3c6', 'checkpoint_ns': 'chatbot:1336af4b-e1e3-a0d4-01ed-cccb0270b3c6', 'ls_provider': 'groq', 'ls_model_name': 'gemma2-9b-it', 'ls_model_type': 'chat', 'ls_temperature': 0.7}, 'parent_ids': ['da976749-aa9a-45a0-8cfa-160a9ed466fa', '744bc9c9-5c4c-4d95-bd50-f593238a3a57']}\n",
      "{'event': 'on_chat_model_stream', 'data': {'chunk': AIMessageChunk(content=' great', additional_kwargs={}, response_metadata={}, id='run--965e08e5-1269-4aeb-83a3-0b81acab78a7')}, 'run_id': '965e08e5-1269-4aeb-83a3-0b81acab78a7', 'name': 'ChatGroq', 'tags': ['seq:step:1'], 'metadata': {'thread_id': 'astream', 'langgraph_step': 1, 'langgraph_node': 'chatbot', 'langgraph_triggers': ('branch:to:chatbot',), 'langgraph_path': ('__pregel_pull', 'chatbot'), 'langgraph_checkpoint_ns': 'chatbot:1336af4b-e1e3-a0d4-01ed-cccb0270b3c6', 'checkpoint_ns': 'chatbot:1336af4b-e1e3-a0d4-01ed-cccb0270b3c6', 'ls_provider': 'groq', 'ls_model_name': 'gemma2-9b-it', 'ls_model_type': 'chat', 'ls_temperature': 0.7}, 'parent_ids': ['da976749-aa9a-45a0-8cfa-160a9ed466fa', '744bc9c9-5c4c-4d95-bd50-f593238a3a57']}\n",
      "{'event': 'on_chat_model_stream', 'data': {'chunk': AIMessageChunk(content='!', additional_kwargs={}, response_metadata={}, id='run--965e08e5-1269-4aeb-83a3-0b81acab78a7')}, 'run_id': '965e08e5-1269-4aeb-83a3-0b81acab78a7', 'name': 'ChatGroq', 'tags': ['seq:step:1'], 'metadata': {'thread_id': 'astream', 'langgraph_step': 1, 'langgraph_node': 'chatbot', 'langgraph_triggers': ('branch:to:chatbot',), 'langgraph_path': ('__pregel_pull', 'chatbot'), 'langgraph_checkpoint_ns': 'chatbot:1336af4b-e1e3-a0d4-01ed-cccb0270b3c6', 'checkpoint_ns': 'chatbot:1336af4b-e1e3-a0d4-01ed-cccb0270b3c6', 'ls_provider': 'groq', 'ls_model_name': 'gemma2-9b-it', 'ls_model_type': 'chat', 'ls_temperature': 0.7}, 'parent_ids': ['da976749-aa9a-45a0-8cfa-160a9ed466fa', '744bc9c9-5c4c-4d95-bd50-f593238a3a57']}\n",
      "{'event': 'on_chat_model_stream', 'data': {'chunk': AIMessageChunk(content=' ', additional_kwargs={}, response_metadata={}, id='run--965e08e5-1269-4aeb-83a3-0b81acab78a7')}, 'run_id': '965e08e5-1269-4aeb-83a3-0b81acab78a7', 'name': 'ChatGroq', 'tags': ['seq:step:1'], 'metadata': {'thread_id': 'astream', 'langgraph_step': 1, 'langgraph_node': 'chatbot', 'langgraph_triggers': ('branch:to:chatbot',), 'langgraph_path': ('__pregel_pull', 'chatbot'), 'langgraph_checkpoint_ns': 'chatbot:1336af4b-e1e3-a0d4-01ed-cccb0270b3c6', 'checkpoint_ns': 'chatbot:1336af4b-e1e3-a0d4-01ed-cccb0270b3c6', 'ls_provider': 'groq', 'ls_model_name': 'gemma2-9b-it', 'ls_model_type': 'chat', 'ls_temperature': 0.7}, 'parent_ids': ['da976749-aa9a-45a0-8cfa-160a9ed466fa', '744bc9c9-5c4c-4d95-bd50-f593238a3a57']}\n",
      "{'event': 'on_chat_model_stream', 'data': {'chunk': AIMessageChunk(content='\\n\\n', additional_kwargs={}, response_metadata={}, id='run--965e08e5-1269-4aeb-83a3-0b81acab78a7')}, 'run_id': '965e08e5-1269-4aeb-83a3-0b81acab78a7', 'name': 'ChatGroq', 'tags': ['seq:step:1'], 'metadata': {'thread_id': 'astream', 'langgraph_step': 1, 'langgraph_node': 'chatbot', 'langgraph_triggers': ('branch:to:chatbot',), 'langgraph_path': ('__pregel_pull', 'chatbot'), 'langgraph_checkpoint_ns': 'chatbot:1336af4b-e1e3-a0d4-01ed-cccb0270b3c6', 'checkpoint_ns': 'chatbot:1336af4b-e1e3-a0d4-01ed-cccb0270b3c6', 'ls_provider': 'groq', 'ls_model_name': 'gemma2-9b-it', 'ls_model_type': 'chat', 'ls_temperature': 0.7}, 'parent_ids': ['da976749-aa9a-45a0-8cfa-160a9ed466fa', '744bc9c9-5c4c-4d95-bd50-f593238a3a57']}\n",
      "{'event': 'on_chat_model_stream', 'data': {'chunk': AIMessageChunk(content='Working', additional_kwargs={}, response_metadata={}, id='run--965e08e5-1269-4aeb-83a3-0b81acab78a7')}, 'run_id': '965e08e5-1269-4aeb-83a3-0b81acab78a7', 'name': 'ChatGroq', 'tags': ['seq:step:1'], 'metadata': {'thread_id': 'astream', 'langgraph_step': 1, 'langgraph_node': 'chatbot', 'langgraph_triggers': ('branch:to:chatbot',), 'langgraph_path': ('__pregel_pull', 'chatbot'), 'langgraph_checkpoint_ns': 'chatbot:1336af4b-e1e3-a0d4-01ed-cccb0270b3c6', 'checkpoint_ns': 'chatbot:1336af4b-e1e3-a0d4-01ed-cccb0270b3c6', 'ls_provider': 'groq', 'ls_model_name': 'gemma2-9b-it', 'ls_model_type': 'chat', 'ls_temperature': 0.7}, 'parent_ids': ['da976749-aa9a-45a0-8cfa-160a9ed466fa', '744bc9c9-5c4c-4d95-bd50-f593238a3a57']}\n",
      "{'event': 'on_chat_model_stream', 'data': {'chunk': AIMessageChunk(content=' out', additional_kwargs={}, response_metadata={}, id='run--965e08e5-1269-4aeb-83a3-0b81acab78a7')}, 'run_id': '965e08e5-1269-4aeb-83a3-0b81acab78a7', 'name': 'ChatGroq', 'tags': ['seq:step:1'], 'metadata': {'thread_id': 'astream', 'langgraph_step': 1, 'langgraph_node': 'chatbot', 'langgraph_triggers': ('branch:to:chatbot',), 'langgraph_path': ('__pregel_pull', 'chatbot'), 'langgraph_checkpoint_ns': 'chatbot:1336af4b-e1e3-a0d4-01ed-cccb0270b3c6', 'checkpoint_ns': 'chatbot:1336af4b-e1e3-a0d4-01ed-cccb0270b3c6', 'ls_provider': 'groq', 'ls_model_name': 'gemma2-9b-it', 'ls_model_type': 'chat', 'ls_temperature': 0.7}, 'parent_ids': ['da976749-aa9a-45a0-8cfa-160a9ed466fa', '744bc9c9-5c4c-4d95-bd50-f593238a3a57']}\n",
      "{'event': 'on_chat_model_stream', 'data': {'chunk': AIMessageChunk(content=' is', additional_kwargs={}, response_metadata={}, id='run--965e08e5-1269-4aeb-83a3-0b81acab78a7')}, 'run_id': '965e08e5-1269-4aeb-83a3-0b81acab78a7', 'name': 'ChatGroq', 'tags': ['seq:step:1'], 'metadata': {'thread_id': 'astream', 'langgraph_step': 1, 'langgraph_node': 'chatbot', 'langgraph_triggers': ('branch:to:chatbot',), 'langgraph_path': ('__pregel_pull', 'chatbot'), 'langgraph_checkpoint_ns': 'chatbot:1336af4b-e1e3-a0d4-01ed-cccb0270b3c6', 'checkpoint_ns': 'chatbot:1336af4b-e1e3-a0d4-01ed-cccb0270b3c6', 'ls_provider': 'groq', 'ls_model_name': 'gemma2-9b-it', 'ls_model_type': 'chat', 'ls_temperature': 0.7}, 'parent_ids': ['da976749-aa9a-45a0-8cfa-160a9ed466fa', '744bc9c9-5c4c-4d95-bd50-f593238a3a57']}\n",
      "{'event': 'on_chat_model_stream', 'data': {'chunk': AIMessageChunk(content=' awesome', additional_kwargs={}, response_metadata={}, id='run--965e08e5-1269-4aeb-83a3-0b81acab78a7')}, 'run_id': '965e08e5-1269-4aeb-83a3-0b81acab78a7', 'name': 'ChatGroq', 'tags': ['seq:step:1'], 'metadata': {'thread_id': 'astream', 'langgraph_step': 1, 'langgraph_node': 'chatbot', 'langgraph_triggers': ('branch:to:chatbot',), 'langgraph_path': ('__pregel_pull', 'chatbot'), 'langgraph_checkpoint_ns': 'chatbot:1336af4b-e1e3-a0d4-01ed-cccb0270b3c6', 'checkpoint_ns': 'chatbot:1336af4b-e1e3-a0d4-01ed-cccb0270b3c6', 'ls_provider': 'groq', 'ls_model_name': 'gemma2-9b-it', 'ls_model_type': 'chat', 'ls_temperature': 0.7}, 'parent_ids': ['da976749-aa9a-45a0-8cfa-160a9ed466fa', '744bc9c9-5c4c-4d95-bd50-f593238a3a57']}\n",
      "{'event': 'on_chat_model_stream', 'data': {'chunk': AIMessageChunk(content='.', additional_kwargs={}, response_metadata={}, id='run--965e08e5-1269-4aeb-83a3-0b81acab78a7')}, 'run_id': '965e08e5-1269-4aeb-83a3-0b81acab78a7', 'name': 'ChatGroq', 'tags': ['seq:step:1'], 'metadata': {'thread_id': 'astream', 'langgraph_step': 1, 'langgraph_node': 'chatbot', 'langgraph_triggers': ('branch:to:chatbot',), 'langgraph_path': ('__pregel_pull', 'chatbot'), 'langgraph_checkpoint_ns': 'chatbot:1336af4b-e1e3-a0d4-01ed-cccb0270b3c6', 'checkpoint_ns': 'chatbot:1336af4b-e1e3-a0d4-01ed-cccb0270b3c6', 'ls_provider': 'groq', 'ls_model_name': 'gemma2-9b-it', 'ls_model_type': 'chat', 'ls_temperature': 0.7}, 'parent_ids': ['da976749-aa9a-45a0-8cfa-160a9ed466fa', '744bc9c9-5c4c-4d95-bd50-f593238a3a57']}\n",
      "{'event': 'on_chat_model_stream', 'data': {'chunk': AIMessageChunk(content=' What', additional_kwargs={}, response_metadata={}, id='run--965e08e5-1269-4aeb-83a3-0b81acab78a7')}, 'run_id': '965e08e5-1269-4aeb-83a3-0b81acab78a7', 'name': 'ChatGroq', 'tags': ['seq:step:1'], 'metadata': {'thread_id': 'astream', 'langgraph_step': 1, 'langgraph_node': 'chatbot', 'langgraph_triggers': ('branch:to:chatbot',), 'langgraph_path': ('__pregel_pull', 'chatbot'), 'langgraph_checkpoint_ns': 'chatbot:1336af4b-e1e3-a0d4-01ed-cccb0270b3c6', 'checkpoint_ns': 'chatbot:1336af4b-e1e3-a0d4-01ed-cccb0270b3c6', 'ls_provider': 'groq', 'ls_model_name': 'gemma2-9b-it', 'ls_model_type': 'chat', 'ls_temperature': 0.7}, 'parent_ids': ['da976749-aa9a-45a0-8cfa-160a9ed466fa', '744bc9c9-5c4c-4d95-bd50-f593238a3a57']}\n",
      "{'event': 'on_chat_model_stream', 'data': {'chunk': AIMessageChunk(content=' kind', additional_kwargs={}, response_metadata={}, id='run--965e08e5-1269-4aeb-83a3-0b81acab78a7')}, 'run_id': '965e08e5-1269-4aeb-83a3-0b81acab78a7', 'name': 'ChatGroq', 'tags': ['seq:step:1'], 'metadata': {'thread_id': 'astream', 'langgraph_step': 1, 'langgraph_node': 'chatbot', 'langgraph_triggers': ('branch:to:chatbot',), 'langgraph_path': ('__pregel_pull', 'chatbot'), 'langgraph_checkpoint_ns': 'chatbot:1336af4b-e1e3-a0d4-01ed-cccb0270b3c6', 'checkpoint_ns': 'chatbot:1336af4b-e1e3-a0d4-01ed-cccb0270b3c6', 'ls_provider': 'groq', 'ls_model_name': 'gemma2-9b-it', 'ls_model_type': 'chat', 'ls_temperature': 0.7}, 'parent_ids': ['da976749-aa9a-45a0-8cfa-160a9ed466fa', '744bc9c9-5c4c-4d95-bd50-f593238a3a57']}\n",
      "{'event': 'on_chat_model_stream', 'data': {'chunk': AIMessageChunk(content=' of', additional_kwargs={}, response_metadata={}, id='run--965e08e5-1269-4aeb-83a3-0b81acab78a7')}, 'run_id': '965e08e5-1269-4aeb-83a3-0b81acab78a7', 'name': 'ChatGroq', 'tags': ['seq:step:1'], 'metadata': {'thread_id': 'astream', 'langgraph_step': 1, 'langgraph_node': 'chatbot', 'langgraph_triggers': ('branch:to:chatbot',), 'langgraph_path': ('__pregel_pull', 'chatbot'), 'langgraph_checkpoint_ns': 'chatbot:1336af4b-e1e3-a0d4-01ed-cccb0270b3c6', 'checkpoint_ns': 'chatbot:1336af4b-e1e3-a0d4-01ed-cccb0270b3c6', 'ls_provider': 'groq', 'ls_model_name': 'gemma2-9b-it', 'ls_model_type': 'chat', 'ls_temperature': 0.7}, 'parent_ids': ['da976749-aa9a-45a0-8cfa-160a9ed466fa', '744bc9c9-5c4c-4d95-bd50-f593238a3a57']}\n",
      "{'event': 'on_chat_model_stream', 'data': {'chunk': AIMessageChunk(content=' workouts', additional_kwargs={}, response_metadata={}, id='run--965e08e5-1269-4aeb-83a3-0b81acab78a7')}, 'run_id': '965e08e5-1269-4aeb-83a3-0b81acab78a7', 'name': 'ChatGroq', 'tags': ['seq:step:1'], 'metadata': {'thread_id': 'astream', 'langgraph_step': 1, 'langgraph_node': 'chatbot', 'langgraph_triggers': ('branch:to:chatbot',), 'langgraph_path': ('__pregel_pull', 'chatbot'), 'langgraph_checkpoint_ns': 'chatbot:1336af4b-e1e3-a0d4-01ed-cccb0270b3c6', 'checkpoint_ns': 'chatbot:1336af4b-e1e3-a0d4-01ed-cccb0270b3c6', 'ls_provider': 'groq', 'ls_model_name': 'gemma2-9b-it', 'ls_model_type': 'chat', 'ls_temperature': 0.7}, 'parent_ids': ['da976749-aa9a-45a0-8cfa-160a9ed466fa', '744bc9c9-5c4c-4d95-bd50-f593238a3a57']}\n",
      "{'event': 'on_chat_model_stream', 'data': {'chunk': AIMessageChunk(content=' do', additional_kwargs={}, response_metadata={}, id='run--965e08e5-1269-4aeb-83a3-0b81acab78a7')}, 'run_id': '965e08e5-1269-4aeb-83a3-0b81acab78a7', 'name': 'ChatGroq', 'tags': ['seq:step:1'], 'metadata': {'thread_id': 'astream', 'langgraph_step': 1, 'langgraph_node': 'chatbot', 'langgraph_triggers': ('branch:to:chatbot',), 'langgraph_path': ('__pregel_pull', 'chatbot'), 'langgraph_checkpoint_ns': 'chatbot:1336af4b-e1e3-a0d4-01ed-cccb0270b3c6', 'checkpoint_ns': 'chatbot:1336af4b-e1e3-a0d4-01ed-cccb0270b3c6', 'ls_provider': 'groq', 'ls_model_name': 'gemma2-9b-it', 'ls_model_type': 'chat', 'ls_temperature': 0.7}, 'parent_ids': ['da976749-aa9a-45a0-8cfa-160a9ed466fa', '744bc9c9-5c4c-4d95-bd50-f593238a3a57']}\n",
      "{'event': 'on_chat_model_stream', 'data': {'chunk': AIMessageChunk(content=' you', additional_kwargs={}, response_metadata={}, id='run--965e08e5-1269-4aeb-83a3-0b81acab78a7')}, 'run_id': '965e08e5-1269-4aeb-83a3-0b81acab78a7', 'name': 'ChatGroq', 'tags': ['seq:step:1'], 'metadata': {'thread_id': 'astream', 'langgraph_step': 1, 'langgraph_node': 'chatbot', 'langgraph_triggers': ('branch:to:chatbot',), 'langgraph_path': ('__pregel_pull', 'chatbot'), 'langgraph_checkpoint_ns': 'chatbot:1336af4b-e1e3-a0d4-01ed-cccb0270b3c6', 'checkpoint_ns': 'chatbot:1336af4b-e1e3-a0d4-01ed-cccb0270b3c6', 'ls_provider': 'groq', 'ls_model_name': 'gemma2-9b-it', 'ls_model_type': 'chat', 'ls_temperature': 0.7}, 'parent_ids': ['da976749-aa9a-45a0-8cfa-160a9ed466fa', '744bc9c9-5c4c-4d95-bd50-f593238a3a57']}\n",
      "{'event': 'on_chat_model_stream', 'data': {'chunk': AIMessageChunk(content=' like', additional_kwargs={}, response_metadata={}, id='run--965e08e5-1269-4aeb-83a3-0b81acab78a7')}, 'run_id': '965e08e5-1269-4aeb-83a3-0b81acab78a7', 'name': 'ChatGroq', 'tags': ['seq:step:1'], 'metadata': {'thread_id': 'astream', 'langgraph_step': 1, 'langgraph_node': 'chatbot', 'langgraph_triggers': ('branch:to:chatbot',), 'langgraph_path': ('__pregel_pull', 'chatbot'), 'langgraph_checkpoint_ns': 'chatbot:1336af4b-e1e3-a0d4-01ed-cccb0270b3c6', 'checkpoint_ns': 'chatbot:1336af4b-e1e3-a0d4-01ed-cccb0270b3c6', 'ls_provider': 'groq', 'ls_model_name': 'gemma2-9b-it', 'ls_model_type': 'chat', 'ls_temperature': 0.7}, 'parent_ids': ['da976749-aa9a-45a0-8cfa-160a9ed466fa', '744bc9c9-5c4c-4d95-bd50-f593238a3a57']}\n",
      "{'event': 'on_chat_model_stream', 'data': {'chunk': AIMessageChunk(content=' to', additional_kwargs={}, response_metadata={}, id='run--965e08e5-1269-4aeb-83a3-0b81acab78a7')}, 'run_id': '965e08e5-1269-4aeb-83a3-0b81acab78a7', 'name': 'ChatGroq', 'tags': ['seq:step:1'], 'metadata': {'thread_id': 'astream', 'langgraph_step': 1, 'langgraph_node': 'chatbot', 'langgraph_triggers': ('branch:to:chatbot',), 'langgraph_path': ('__pregel_pull', 'chatbot'), 'langgraph_checkpoint_ns': 'chatbot:1336af4b-e1e3-a0d4-01ed-cccb0270b3c6', 'checkpoint_ns': 'chatbot:1336af4b-e1e3-a0d4-01ed-cccb0270b3c6', 'ls_provider': 'groq', 'ls_model_name': 'gemma2-9b-it', 'ls_model_type': 'chat', 'ls_temperature': 0.7}, 'parent_ids': ['da976749-aa9a-45a0-8cfa-160a9ed466fa', '744bc9c9-5c4c-4d95-bd50-f593238a3a57']}\n",
      "{'event': 'on_chat_model_stream', 'data': {'chunk': AIMessageChunk(content=' do', additional_kwargs={}, response_metadata={}, id='run--965e08e5-1269-4aeb-83a3-0b81acab78a7')}, 'run_id': '965e08e5-1269-4aeb-83a3-0b81acab78a7', 'name': 'ChatGroq', 'tags': ['seq:step:1'], 'metadata': {'thread_id': 'astream', 'langgraph_step': 1, 'langgraph_node': 'chatbot', 'langgraph_triggers': ('branch:to:chatbot',), 'langgraph_path': ('__pregel_pull', 'chatbot'), 'langgraph_checkpoint_ns': 'chatbot:1336af4b-e1e3-a0d4-01ed-cccb0270b3c6', 'checkpoint_ns': 'chatbot:1336af4b-e1e3-a0d4-01ed-cccb0270b3c6', 'ls_provider': 'groq', 'ls_model_name': 'gemma2-9b-it', 'ls_model_type': 'chat', 'ls_temperature': 0.7}, 'parent_ids': ['da976749-aa9a-45a0-8cfa-160a9ed466fa', '744bc9c9-5c4c-4d95-bd50-f593238a3a57']}\n",
      "{'event': 'on_chat_model_stream', 'data': {'chunk': AIMessageChunk(content='?', additional_kwargs={}, response_metadata={}, id='run--965e08e5-1269-4aeb-83a3-0b81acab78a7')}, 'run_id': '965e08e5-1269-4aeb-83a3-0b81acab78a7', 'name': 'ChatGroq', 'tags': ['seq:step:1'], 'metadata': {'thread_id': 'astream', 'langgraph_step': 1, 'langgraph_node': 'chatbot', 'langgraph_triggers': ('branch:to:chatbot',), 'langgraph_path': ('__pregel_pull', 'chatbot'), 'langgraph_checkpoint_ns': 'chatbot:1336af4b-e1e3-a0d4-01ed-cccb0270b3c6', 'checkpoint_ns': 'chatbot:1336af4b-e1e3-a0d4-01ed-cccb0270b3c6', 'ls_provider': 'groq', 'ls_model_name': 'gemma2-9b-it', 'ls_model_type': 'chat', 'ls_temperature': 0.7}, 'parent_ids': ['da976749-aa9a-45a0-8cfa-160a9ed466fa', '744bc9c9-5c4c-4d95-bd50-f593238a3a57']}\n",
      "{'event': 'on_chat_model_stream', 'data': {'chunk': AIMessageChunk(content='  ', additional_kwargs={}, response_metadata={}, id='run--965e08e5-1269-4aeb-83a3-0b81acab78a7')}, 'run_id': '965e08e5-1269-4aeb-83a3-0b81acab78a7', 'name': 'ChatGroq', 'tags': ['seq:step:1'], 'metadata': {'thread_id': 'astream', 'langgraph_step': 1, 'langgraph_node': 'chatbot', 'langgraph_triggers': ('branch:to:chatbot',), 'langgraph_path': ('__pregel_pull', 'chatbot'), 'langgraph_checkpoint_ns': 'chatbot:1336af4b-e1e3-a0d4-01ed-cccb0270b3c6', 'checkpoint_ns': 'chatbot:1336af4b-e1e3-a0d4-01ed-cccb0270b3c6', 'ls_provider': 'groq', 'ls_model_name': 'gemma2-9b-it', 'ls_model_type': 'chat', 'ls_temperature': 0.7}, 'parent_ids': ['da976749-aa9a-45a0-8cfa-160a9ed466fa', '744bc9c9-5c4c-4d95-bd50-f593238a3a57']}\n",
      "{'event': 'on_chat_model_stream', 'data': {'chunk': AIMessageChunk(content='😊', additional_kwargs={}, response_metadata={}, id='run--965e08e5-1269-4aeb-83a3-0b81acab78a7')}, 'run_id': '965e08e5-1269-4aeb-83a3-0b81acab78a7', 'name': 'ChatGroq', 'tags': ['seq:step:1'], 'metadata': {'thread_id': 'astream', 'langgraph_step': 1, 'langgraph_node': 'chatbot', 'langgraph_triggers': ('branch:to:chatbot',), 'langgraph_path': ('__pregel_pull', 'chatbot'), 'langgraph_checkpoint_ns': 'chatbot:1336af4b-e1e3-a0d4-01ed-cccb0270b3c6', 'checkpoint_ns': 'chatbot:1336af4b-e1e3-a0d4-01ed-cccb0270b3c6', 'ls_provider': 'groq', 'ls_model_name': 'gemma2-9b-it', 'ls_model_type': 'chat', 'ls_temperature': 0.7}, 'parent_ids': ['da976749-aa9a-45a0-8cfa-160a9ed466fa', '744bc9c9-5c4c-4d95-bd50-f593238a3a57']}\n",
      "{'event': 'on_chat_model_stream', 'data': {'chunk': AIMessageChunk(content=' ', additional_kwargs={}, response_metadata={}, id='run--965e08e5-1269-4aeb-83a3-0b81acab78a7')}, 'run_id': '965e08e5-1269-4aeb-83a3-0b81acab78a7', 'name': 'ChatGroq', 'tags': ['seq:step:1'], 'metadata': {'thread_id': 'astream', 'langgraph_step': 1, 'langgraph_node': 'chatbot', 'langgraph_triggers': ('branch:to:chatbot',), 'langgraph_path': ('__pregel_pull', 'chatbot'), 'langgraph_checkpoint_ns': 'chatbot:1336af4b-e1e3-a0d4-01ed-cccb0270b3c6', 'checkpoint_ns': 'chatbot:1336af4b-e1e3-a0d4-01ed-cccb0270b3c6', 'ls_provider': 'groq', 'ls_model_name': 'gemma2-9b-it', 'ls_model_type': 'chat', 'ls_temperature': 0.7}, 'parent_ids': ['da976749-aa9a-45a0-8cfa-160a9ed466fa', '744bc9c9-5c4c-4d95-bd50-f593238a3a57']}\n",
      "{'event': 'on_chat_model_stream', 'data': {'chunk': AIMessageChunk(content='\\n', additional_kwargs={}, response_metadata={}, id='run--965e08e5-1269-4aeb-83a3-0b81acab78a7')}, 'run_id': '965e08e5-1269-4aeb-83a3-0b81acab78a7', 'name': 'ChatGroq', 'tags': ['seq:step:1'], 'metadata': {'thread_id': 'astream', 'langgraph_step': 1, 'langgraph_node': 'chatbot', 'langgraph_triggers': ('branch:to:chatbot',), 'langgraph_path': ('__pregel_pull', 'chatbot'), 'langgraph_checkpoint_ns': 'chatbot:1336af4b-e1e3-a0d4-01ed-cccb0270b3c6', 'checkpoint_ns': 'chatbot:1336af4b-e1e3-a0d4-01ed-cccb0270b3c6', 'ls_provider': 'groq', 'ls_model_name': 'gemma2-9b-it', 'ls_model_type': 'chat', 'ls_temperature': 0.7}, 'parent_ids': ['da976749-aa9a-45a0-8cfa-160a9ed466fa', '744bc9c9-5c4c-4d95-bd50-f593238a3a57']}\n",
      "{'event': 'on_chat_model_stream', 'data': {'chunk': AIMessageChunk(content='\\n', additional_kwargs={}, response_metadata={}, id='run--965e08e5-1269-4aeb-83a3-0b81acab78a7')}, 'run_id': '965e08e5-1269-4aeb-83a3-0b81acab78a7', 'name': 'ChatGroq', 'tags': ['seq:step:1'], 'metadata': {'thread_id': 'astream', 'langgraph_step': 1, 'langgraph_node': 'chatbot', 'langgraph_triggers': ('branch:to:chatbot',), 'langgraph_path': ('__pregel_pull', 'chatbot'), 'langgraph_checkpoint_ns': 'chatbot:1336af4b-e1e3-a0d4-01ed-cccb0270b3c6', 'checkpoint_ns': 'chatbot:1336af4b-e1e3-a0d4-01ed-cccb0270b3c6', 'ls_provider': 'groq', 'ls_model_name': 'gemma2-9b-it', 'ls_model_type': 'chat', 'ls_temperature': 0.7}, 'parent_ids': ['da976749-aa9a-45a0-8cfa-160a9ed466fa', '744bc9c9-5c4c-4d95-bd50-f593238a3a57']}\n",
      "{'event': 'on_chat_model_stream', 'data': {'chunk': AIMessageChunk(content='', additional_kwargs={}, response_metadata={'finish_reason': 'stop', 'model_name': 'gemma2-9b-it', 'system_fingerprint': 'fp_10c08bf97d'}, id='run--965e08e5-1269-4aeb-83a3-0b81acab78a7', usage_metadata={'input_tokens': 22, 'output_tokens': 33, 'total_tokens': 55})}, 'run_id': '965e08e5-1269-4aeb-83a3-0b81acab78a7', 'name': 'ChatGroq', 'tags': ['seq:step:1'], 'metadata': {'thread_id': 'astream', 'langgraph_step': 1, 'langgraph_node': 'chatbot', 'langgraph_triggers': ('branch:to:chatbot',), 'langgraph_path': ('__pregel_pull', 'chatbot'), 'langgraph_checkpoint_ns': 'chatbot:1336af4b-e1e3-a0d4-01ed-cccb0270b3c6', 'checkpoint_ns': 'chatbot:1336af4b-e1e3-a0d4-01ed-cccb0270b3c6', 'ls_provider': 'groq', 'ls_model_name': 'gemma2-9b-it', 'ls_model_type': 'chat', 'ls_temperature': 0.7}, 'parent_ids': ['da976749-aa9a-45a0-8cfa-160a9ed466fa', '744bc9c9-5c4c-4d95-bd50-f593238a3a57']}\n",
      "{'event': 'on_chat_model_end', 'data': {'output': AIMessage(content=\"Hi Suzi! That's great! \\n\\nWorking out is awesome. What kind of workouts do you like to do?  😊 \\n\\n\", additional_kwargs={}, response_metadata={'finish_reason': 'stop', 'model_name': 'gemma2-9b-it', 'system_fingerprint': 'fp_10c08bf97d'}, id='run--965e08e5-1269-4aeb-83a3-0b81acab78a7', usage_metadata={'input_tokens': 22, 'output_tokens': 33, 'total_tokens': 55}), 'input': {'messages': [[HumanMessage(content='Hi my name is Suzi and I like woking out.', additional_kwargs={}, response_metadata={}, id='8ee37892-f226-4932-8c2f-9ca4511f6199')]]}}, 'run_id': '965e08e5-1269-4aeb-83a3-0b81acab78a7', 'name': 'ChatGroq', 'tags': ['seq:step:1'], 'metadata': {'thread_id': 'astream', 'langgraph_step': 1, 'langgraph_node': 'chatbot', 'langgraph_triggers': ('branch:to:chatbot',), 'langgraph_path': ('__pregel_pull', 'chatbot'), 'langgraph_checkpoint_ns': 'chatbot:1336af4b-e1e3-a0d4-01ed-cccb0270b3c6', 'checkpoint_ns': 'chatbot:1336af4b-e1e3-a0d4-01ed-cccb0270b3c6', 'ls_provider': 'groq', 'ls_model_name': 'gemma2-9b-it', 'ls_model_type': 'chat', 'ls_temperature': 0.7}, 'parent_ids': ['da976749-aa9a-45a0-8cfa-160a9ed466fa', '744bc9c9-5c4c-4d95-bd50-f593238a3a57']}\n",
      "{'event': 'on_chain_stream', 'run_id': '744bc9c9-5c4c-4d95-bd50-f593238a3a57', 'name': 'chatbot', 'tags': ['graph:step:1'], 'metadata': {'thread_id': 'astream', 'langgraph_step': 1, 'langgraph_node': 'chatbot', 'langgraph_triggers': ('branch:to:chatbot',), 'langgraph_path': ('__pregel_pull', 'chatbot'), 'langgraph_checkpoint_ns': 'chatbot:1336af4b-e1e3-a0d4-01ed-cccb0270b3c6'}, 'data': {'chunk': {'messages': [AIMessage(content=\"Hi Suzi! That's great! \\n\\nWorking out is awesome. What kind of workouts do you like to do?  😊 \\n\\n\", additional_kwargs={}, response_metadata={'finish_reason': 'stop', 'model_name': 'gemma2-9b-it', 'system_fingerprint': 'fp_10c08bf97d'}, id='run--965e08e5-1269-4aeb-83a3-0b81acab78a7', usage_metadata={'input_tokens': 22, 'output_tokens': 33, 'total_tokens': 55})]}}, 'parent_ids': ['da976749-aa9a-45a0-8cfa-160a9ed466fa']}\n",
      "{'event': 'on_chain_end', 'data': {'output': {'messages': [AIMessage(content=\"Hi Suzi! That's great! \\n\\nWorking out is awesome. What kind of workouts do you like to do?  😊 \\n\\n\", additional_kwargs={}, response_metadata={'finish_reason': 'stop', 'model_name': 'gemma2-9b-it', 'system_fingerprint': 'fp_10c08bf97d'}, id='run--965e08e5-1269-4aeb-83a3-0b81acab78a7', usage_metadata={'input_tokens': 22, 'output_tokens': 33, 'total_tokens': 55})]}, 'input': {'messages': [HumanMessage(content='Hi my name is Suzi and I like woking out.', additional_kwargs={}, response_metadata={}, id='8ee37892-f226-4932-8c2f-9ca4511f6199')]}}, 'run_id': '744bc9c9-5c4c-4d95-bd50-f593238a3a57', 'name': 'chatbot', 'tags': ['graph:step:1'], 'metadata': {'thread_id': 'astream', 'langgraph_step': 1, 'langgraph_node': 'chatbot', 'langgraph_triggers': ('branch:to:chatbot',), 'langgraph_path': ('__pregel_pull', 'chatbot'), 'langgraph_checkpoint_ns': 'chatbot:1336af4b-e1e3-a0d4-01ed-cccb0270b3c6'}, 'parent_ids': ['da976749-aa9a-45a0-8cfa-160a9ed466fa']}\n",
      "{'event': 'on_chain_stream', 'run_id': 'da976749-aa9a-45a0-8cfa-160a9ed466fa', 'name': 'LangGraph', 'tags': [], 'metadata': {'thread_id': 'astream'}, 'data': {'chunk': {'chatbot': {'messages': [AIMessage(content=\"Hi Suzi! That's great! \\n\\nWorking out is awesome. What kind of workouts do you like to do?  😊 \\n\\n\", additional_kwargs={}, response_metadata={'finish_reason': 'stop', 'model_name': 'gemma2-9b-it', 'system_fingerprint': 'fp_10c08bf97d'}, id='run--965e08e5-1269-4aeb-83a3-0b81acab78a7', usage_metadata={'input_tokens': 22, 'output_tokens': 33, 'total_tokens': 55})]}}}, 'parent_ids': []}\n",
      "{'event': 'on_chain_end', 'data': {'output': {'messages': [HumanMessage(content='Hi my name is Suzi and I like woking out.', additional_kwargs={}, response_metadata={}, id='8ee37892-f226-4932-8c2f-9ca4511f6199'), AIMessage(content=\"Hi Suzi! That's great! \\n\\nWorking out is awesome. What kind of workouts do you like to do?  😊 \\n\\n\", additional_kwargs={}, response_metadata={'finish_reason': 'stop', 'model_name': 'gemma2-9b-it', 'system_fingerprint': 'fp_10c08bf97d'}, id='run--965e08e5-1269-4aeb-83a3-0b81acab78a7', usage_metadata={'input_tokens': 22, 'output_tokens': 33, 'total_tokens': 55})]}}, 'run_id': 'da976749-aa9a-45a0-8cfa-160a9ed466fa', 'name': 'LangGraph', 'tags': [], 'metadata': {'thread_id': 'astream'}, 'parent_ids': []}\n"
     ]
    }
   ],
   "source": [
    "async for event in builder.astream_events({\"messages\":[\"Hi my name is Suzi and I like woking out.\"]}, config, version = \"v2\"):\n",
    "    print(event)"
   ]
  },
  {
   "cell_type": "code",
   "execution_count": null,
   "id": "7c328d3e",
   "metadata": {},
   "outputs": [],
   "source": []
  }
 ],
 "metadata": {
  "kernelspec": {
   "display_name": "Python 3",
   "language": "python",
   "name": "python3"
  },
  "language_info": {
   "codemirror_mode": {
    "name": "ipython",
    "version": 3
   },
   "file_extension": ".py",
   "mimetype": "text/x-python",
   "name": "python",
   "nbconvert_exporter": "python",
   "pygments_lexer": "ipython3",
   "version": "3.12.0"
  }
 },
 "nbformat": 4,
 "nbformat_minor": 5
}
