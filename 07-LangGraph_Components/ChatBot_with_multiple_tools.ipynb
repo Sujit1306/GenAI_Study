{
 "cells": [
  {
   "cell_type": "markdown",
   "id": "68ff3289",
   "metadata": {},
   "source": [
    "# ChatBot with multiple Tools using LangGraph\n",
    "### Aim: \n",
    "Create a chatbot with tool capabilities from arxiv, wikipedia search and some functions"
   ]
  },
  {
   "cell_type": "code",
   "execution_count": 1,
   "id": "88dc3cc8",
   "metadata": {},
   "outputs": [],
   "source": [
    "from langchain_community.tools import ArxivQueryRun, WikipediaQueryRun\n",
    "from langchain_community.utilities import ArxivAPIWrapper, WikipediaAPIWrapper"
   ]
  },
  {
   "cell_type": "code",
   "execution_count": 2,
   "id": "8f0a4120",
   "metadata": {},
   "outputs": [
    {
     "name": "stdout",
     "output_type": "stream",
     "text": [
      "arxiv\n"
     ]
    }
   ],
   "source": [
    "api_wrapper_arxiv = ArxivAPIWrapper(top_k_results=2, doc_content_chars_max=500) # get top 2 results and max 500 characters \n",
    "arxiv = ArxivQueryRun(api_wrapper = api_wrapper_arxiv)\n",
    "print(arxiv.name)"
   ]
  },
  {
   "cell_type": "code",
   "execution_count": 3,
   "id": "9ad26b30",
   "metadata": {},
   "outputs": [
    {
     "data": {
      "text/plain": [
       "\"Published: 2024-07-22\\nTitle: Attention Is All You Need But You Don't Need All Of It For Inference of Large Language Models\\nAuthors: Georgy Tyukin, Gbetondji J-S Dovonon, Jean Kaddour, Pasquale Minervini\\nSummary: The inference demand for LLMs has skyrocketed in recent months, and serving\\nmodels with low latencies remains challenging due to the quadratic input length\\ncomplexity of the attention layers. In this work, we investigate the effect of\\ndropping MLP and attention layers at inference time o\""
      ]
     },
     "execution_count": 3,
     "metadata": {},
     "output_type": "execute_result"
    }
   ],
   "source": [
    "arxiv.invoke(\"Attention is all you need\")"
   ]
  },
  {
   "cell_type": "code",
   "execution_count": 4,
   "id": "a2843fe5",
   "metadata": {},
   "outputs": [
    {
     "name": "stdout",
     "output_type": "stream",
     "text": [
      "wikipedia\n"
     ]
    }
   ],
   "source": [
    "api_wrapper_wiki = WikipediaAPIWrapper(top_k_results=1, doc_content_chars_max=500) # get top 1 result and max 500 characters \n",
    "wiki = WikipediaQueryRun(api_wrapper = api_wrapper_wiki)\n",
    "print(wiki.name)"
   ]
  },
  {
   "cell_type": "code",
   "execution_count": 5,
   "id": "cfee1751",
   "metadata": {},
   "outputs": [
    {
     "data": {
      "text/plain": [
       "'Page: Machine learning\\nSummary: Machine learning (ML) is a field of study in artificial intelligence concerned with the development and study of statistical algorithms that can learn from data and generalise to unseen data, and thus perform tasks without explicit instructions. Within a subdiscipline in machine learning, advances in the field of deep learning have allowed neural networks, a class of statistical algorithms, to surpass many previous machine learning approaches in performance.\\nML fi'"
      ]
     },
     "execution_count": 5,
     "metadata": {},
     "output_type": "execute_result"
    }
   ],
   "source": [
    "wiki.invoke(\"What is Machine Learning?\")"
   ]
  },
  {
   "cell_type": "code",
   "execution_count": 6,
   "id": "19b1bdc5",
   "metadata": {},
   "outputs": [],
   "source": [
    "from dotenv import load_dotenv\n",
    "load_dotenv()\n",
    "import os\n",
    "\n",
    "os.environ[\"TAVILY_API_KEY\"] = os.getenv(\"TAVILY_API_KEY\")\n",
    "os.environ[\"GROQ_API_KEY\"] = os.getenv(\"GROQ_API_KEY\")"
   ]
  },
  {
   "cell_type": "code",
   "execution_count": 7,
   "id": "b0d46977",
   "metadata": {},
   "outputs": [
    {
     "name": "stderr",
     "output_type": "stream",
     "text": [
      "C:\\Users\\Sujit Khare\\AppData\\Local\\Temp\\ipykernel_20432\\4153934112.py:4: LangChainDeprecationWarning: The class `TavilySearchResults` was deprecated in LangChain 0.3.25 and will be removed in 1.0. An updated version of the class exists in the :class:`~langchain-tavily package and should be used instead. To use it run `pip install -U :class:`~langchain-tavily` and import as `from :class:`~langchain_tavily import TavilySearch``.\n",
      "  tavily = TavilySearchResults()\n"
     ]
    }
   ],
   "source": [
    "# Tavily search tool is a search engine built specially for AI agents delivering real time, accurate and factual results at speed \n",
    "from langchain_community.tools.tavily_search import TavilySearchResults\n",
    "\n",
    "tavily = TavilySearchResults()"
   ]
  },
  {
   "cell_type": "code",
   "execution_count": 8,
   "id": "286c13b3",
   "metadata": {},
   "outputs": [
    {
     "data": {
      "text/plain": [
       "[{'title': 'The latest AI news we announced in June - Google Blog',\n",
       "  'url': 'https://blog.google/technology/ai/google-ai-updates-june-2025/',\n",
       "  'content': '# The latest AI news we announced in June\\n\\nJul 02, 2025\\n\\nHere’s a recap of some of our biggest AI updates from June, including more ways to search with AI Mode, a new way to share your NotebookLM notebooks publicly, and a new AI to help researchers better understand the human genome.\\n\\nSuperG\\n\\n## Basic explainer [...] For more than 20 years, we’ve invested in machine learning and AI research, tools and infrastructure to build products that make everyday life better for more people. Teams across Google are working on ways to unlock AI’s benefits in fields as wide-ranging as healthcare, crisis response and education. To keep you posted on our progress, we\\'re doing a regular roundup of Google\\'s most recent AI news.\\n\\nHere’s a look back at some of our AI announcements from June. [...] a text card reading \"AI to revolutionize scientific discovery\"\\n\\nWe introduced AlphaGenome: AI to better understand the human genome. Our new, unifying DNA sequence model advances regulatory variant-effect prediction and promises to shed new light on genome function. To advance scientific research, we’re making AlphaGenome available in preview via our AlphaGenome API for non-commercial research, with plans to release the model in the future.',\n",
       "  'score': 0.6688159},\n",
       " {'title': 'AI Under the Spotlight: Key Insights Ahead of the White House ...',\n",
       "  'url': 'https://www.workforcebulletin.com/ai-under-the-spotlight-key-insights-ahead-of-the-white-house-action-plan',\n",
       "  'content': 'The release of the Action Plan will follow a number of recent developments in AI at the state and federal levels that show no signs of abating. On July 15, for instance, the White House announced $90 billion in energy and data center investments in Pennsylvania, according to Reuters. Bloomberg reported the same day that President Trump is planning to sign another executive order to implement the Action Plan upon its release to push the policy forward.\\n\\n## ‘Maintaining American Leadership’ [...] As we’ve noted previously, Trump was the first president to issue an executive order on AI—No. 13859 of February 11, 2019, “Maintaining American Leadership in Artificial Intelligence” (“E.O. 13859”). E.O. 13859 announced a U.S. policy “to sustain and enhance the scientific, technological, and economic leadership position of the United States in AI R&D and deployment,” setting forth six strategic objectives in furtherance of both promoting and protecting American investments in AI: [...] In Executive Order 14179 of January 23, 2025—entitled “Removing Barriers to American Leadership in Artificial Intelligence”—President Donald Trump directed federal officials to develop an Action Plan to achieve the policies of sustaining and enhancing America’s dominance in global AI. The plan is expected to drop by July 23, to coincide with an address by the President outlining his vision for American AI.',\n",
       "  'score': 0.63288915},\n",
       " {'title': 'AI News & Artificial Intelligence | TechCrunch',\n",
       "  'url': 'https://techcrunch.com/category/artificial-intelligence/',\n",
       "  'content': \"### Confident Security, ‘the Signal for AI,’ comes out of stealth with $4.2M\\n\\nUAE flag flying in front of ocean/skyline\\n\\n### UAE’s deal to buy Nvidia AI chips reportedly on hold\\n\\nLovable team (Rights: Anton Osika)\\n\\n### Lovable becomes a unicorn with $200M Series A just 8 months after launch\\n\\nQpiAI Indus quantum computer\\n\\n### India eyes global quantum computer push — and QpiAI is its chosen vehicle\\n\\n### Scale AI lays off 14% of staff, largely in data-labeling business\\n\\nElon Musk [...] Contact Us\\n\\n# AI\\n\\nNews coverage on artificial intelligence and machine learning tech, the companies building them, and the ethical issues AI raises today. This encompasses generative AI, including large language models, text-to-image and text-to-video models; speech recognition and generation; and predictive analytics.\\n\\n### \\n\\nCartken Hauler robot\\n\\n### Why Cartken pivoted its focus from last-mile delivery to industrial robots\\n\\nCognition CEO announces the acquisition of Windsurf [...] ### OpenAI and Anthropic researchers decry ‘reckless’ safety culture at Elon Musk’s xAI\\n\\nNvidia logo\\n\\n### Nvidia’s resumption of H20 chip sales related to rare-earth element trade talks\\n\\nxAI anime\\n\\n### xAI is hiring an engineer to make anime girls\\n\\nThe Google logo can be seen on the facade in front of the company's Munich headquarters\\n\\n### Google rolls out AI-powered business-calling feature, brings Gemini 2.5 Pro to AI Mode\\n\\nReachy Mini robot\",\n",
       "  'score': 0.6108487},\n",
       " {'title': 'The 2025 AI Index Report | Stanford HAI',\n",
       "  'url': 'https://hai.stanford.edu/ai-index/2025-ai-index-report',\n",
       "  'content': '### 2. AI is increasingly embedded in everyday life.\\n\\nFrom healthcare to transportation, AI is rapidly moving from the lab to daily life. In 2023, the FDA approved 223 AI-enabled medical devices, up from just six in 2015. On the roads, self-driving cars are no longer experimental: Waymo, one of the largest U.S. operators, provides over 150,000 autonomous rides each week, while Baidu’s affordable Apollo Go robotaxi fleet now serves numerous cities across China. [...] In 2024, U.S. federal agencies introduced 59 AI-related regulations—more than double the number in 2023—and issued by twice as many agencies. Globally, legislative mentions of AI rose 21.3% across 75 countries since 2023, marking a ninefold increase since 2016. Alongside growing attention, governments are investing at scale: Canada pledged $2.4 billion, China launched a $47.5 billion semiconductor fund, France committed €109 billion, India pledged $1.25 billion, and Saudi Arabia’s Project [...] In 2024, U.S. private AI investment grew to $109.1 billion—nearly 12 times China’s $9.3 billion and 24 times the U.K.’s $4.5 billion. Generative AI saw particularly strong momentum, attracting $33.9 billion globally in private investment—an 18.7% increase from 2023. AI business usage is also accelerating: 78% of organizations reported using AI in 2024, up from 55% the year before. Meanwhile, a growing body of research confirms that AI boosts productivity and, in most cases, helps narrow skill',\n",
       "  'score': 0.5717911},\n",
       " {'title': 'AI Development Trends in 2025: Shaping the Future of Technology',\n",
       "  'url': 'https://medium.com/emorphis-technologies/ai-development-trends-in-2025-shaping-the-future-of-technology-4661169f53ce',\n",
       "  'content': 'While Generative AI made headlines in recent years for its creative capabilities, in 2025, it is expanding into more technical and functional domains. Beyond text, images, and videos, generative AI is now building software code, designing complex systems, and generating synthetic data to train other AI models. Its ability to reduce manual work and accelerate innovation is making it indispensable in product design, R&D, and enterprise automation. AI can now generate entire user interface designs [...] Generic AI solutions are giving way to domain-specific AI platforms. In 2025, more industries are investing in AI models trained exclusively on niche datasets. Whether it’s finance, healthcare, legal, or manufacturing, AI is becoming more specialized to meet sector-specific regulatory, compliance, and operational needs. Models of AI in healthcare are trained with medical imaging datasets unique to certain diseases, providing unparalleled diagnostic accuracy tailored to specific clinical [...] Artificial Intelligence (AI) continues to evolve rapidly, its development trends are becoming even more transformative and industry-defining. The AI landscape in 2025 is not just about smarter algorithms or increased computing power, it’s about how AI is fundamentally reshaping industries, redefining human-machine collaboration, and pushing the boundaries of innovation.\\n\\nLets explore the most significant AI development trends that is dominating in 2025.\\n\\n# 1. AI Becomes Agentic and Autonomous',\n",
       "  'score': 0.49128565}]"
      ]
     },
     "execution_count": 8,
     "metadata": {},
     "output_type": "execute_result"
    }
   ],
   "source": [
    "tavily.invoke(\"provide me recent AI news\")"
   ]
  },
  {
   "cell_type": "code",
   "execution_count": 9,
   "id": "d39885e1",
   "metadata": {},
   "outputs": [],
   "source": [
    "# combine all tools \n",
    "tools = [arxiv, wiki, tavily]"
   ]
  },
  {
   "cell_type": "code",
   "execution_count": 10,
   "id": "6881ef3f",
   "metadata": {},
   "outputs": [],
   "source": [
    "# initialize my llm model\n",
    "from langchain_groq import ChatGroq\n",
    "llm = ChatGroq(model= \"gemma2-9b-it\")\n",
    "\n",
    "llm_with_tools = llm.bind_tools(tools)"
   ]
  },
  {
   "cell_type": "code",
   "execution_count": 11,
   "id": "395d786e",
   "metadata": {},
   "outputs": [
    {
     "data": {
      "text/plain": [
       "[{'name': 'tavily_search_results_json',\n",
       "  'args': {'query': 'recent AI news'},\n",
       "  'id': '6wftk7hkt',\n",
       "  'type': 'tool_call'}]"
      ]
     },
     "execution_count": 11,
     "metadata": {},
     "output_type": "execute_result"
    }
   ],
   "source": [
    "from langchain_core.messages import HumanMessage, AIMessage\n",
    "llm_with_tools.invoke([HumanMessage(content = f\"Hey, What is the recent AI news?\")]).tool_calls"
   ]
  },
  {
   "cell_type": "code",
   "execution_count": 12,
   "id": "7bf5f975",
   "metadata": {},
   "outputs": [],
   "source": [
    "# defining state schema\n",
    "from typing_extensions import TypedDict\n",
    "from typing import Annotated\n",
    "from langchain_core.messages import AnyMessage\n",
    "from langgraph.graph.message import add_messages\n",
    "\n",
    "class State(TypedDict):\n",
    "    messages: Annotated[list[AnyMessage], add_messages]"
   ]
  },
  {
   "cell_type": "code",
   "execution_count": 13,
   "id": "183fdc1f",
   "metadata": {},
   "outputs": [
    {
     "data": {
      "image/png": "[encoded data removed]",
      "text/plain": [
       "<IPython.core.display.Image object>"
      ]
     },
     "metadata": {},
     "output_type": "display_data"
    }
   ],
   "source": [
    "# creating entire chatbot with LangGraph\n",
    "from IPython.display import display, Image\n",
    "from langgraph.graph import StateGraph, START, END\n",
    "from langgraph.prebuilt import ToolNode, tools_condition\n",
    "\n",
    "# Node definition\n",
    "def tool_calling_llm(state:State):\n",
    "    return {\"messages\": [llm_with_tools.invoke(state[\"messages\"])]}\n",
    "\n",
    "# build graph\n",
    "builder = StateGraph(State)\n",
    "builder.add_node(\"tool_calling_llm\", tool_calling_llm)\n",
    "builder.add_node(\"tools\", ToolNode(tools))\n",
    "\n",
    "builder.add_edge(START, \"tool_calling_llm\")\n",
    "builder.add_conditional_edges(\"tool_calling_llm\", tools_condition)\n",
    "builder.add_edge(\"tools\", END) \n",
    "\n",
    "graph = builder.compile()\n",
    "display(Image(graph.get_graph().draw_mermaid_png()))"
   ]
  },
  {
   "cell_type": "code",
   "execution_count": 14,
   "id": "b3482bdc",
   "metadata": {},
   "outputs": [
    {
     "name": "stdout",
     "output_type": "stream",
     "text": [
      "================================\u001b[1m Human Message \u001b[0m=================================\n",
      "\n",
      "What is attention is all you need?\n",
      "==================================\u001b[1m Ai Message \u001b[0m==================================\n",
      "Tool Calls:\n",
      "  wikipedia (8rpxkapt1)\n",
      " Call ID: 8rpxkapt1\n",
      "  Args:\n",
      "    query: attention is all you need\n",
      "=================================\u001b[1m Tool Message \u001b[0m=================================\n",
      "Name: wikipedia\n",
      "\n",
      "Page: Attention Is All You Need\n",
      "Summary: \"Attention Is All You Need\" is a 2017 landmark research paper in machine learning authored by eight scientists working at Google. The paper introduced a new deep learning architecture known as the transformer, based on the attention mechanism proposed in 2014 by Bahdanau et al. It is considered a foundational paper in modern artificial intelligence, and a main contributor to the AI boom, as the transformer approach has become the main architecture of a wi\n"
     ]
    }
   ],
   "source": [
    "messages = graph.invoke({\"messages\":HumanMessage(content=\"What is attention is all you need?\")})\n",
    "for m in messages[\"messages\"]:\n",
    "    m.pretty_print()"
   ]
  },
  {
   "cell_type": "code",
   "execution_count": 15,
   "id": "50782d22",
   "metadata": {},
   "outputs": [
    {
     "name": "stdout",
     "output_type": "stream",
     "text": [
      "================================\u001b[1m Human Message \u001b[0m=================================\n",
      "\n",
      "Provide me the top recent AI news for July 15th 2025\n",
      "==================================\u001b[1m Ai Message \u001b[0m==================================\n",
      "Tool Calls:\n",
      "  tavily_search_results_json (tm9y3419z)\n",
      " Call ID: tm9y3419z\n",
      "  Args:\n",
      "    query: top AI news July 15th 2025\n",
      "=================================\u001b[1m Tool Message \u001b[0m=================================\n",
      "Name: tavily_search_results_json\n",
      "\n",
      "[{\"title\": \"Latest AI Breakthroughs and News: May, June, July 2025 | News\", \"url\": \"https://www.crescendo.ai/news/latest-ai-news-and-updates\", \"content\": \"### Pentagon Taps 4 Tech Firms to Expand Military AI Capabilities\\n\\nDate: July 15, 2025\\n\\nSummary: The U.S. Department of Defense has partnered with four commercial tech companies to accelerate AI integration into military operations. The contracts focus on logistics automation, battlefield decision support, and threat analysis. Officials say rapid deployment of AI is critical for maintaining global defense leadership. The effort is part of a broader shift toward next-gen warfare tech. [...] Source:Defense News\\n\\n### Delta Airlines Uses AI to Enhance In-Flight and Ground Ops\\n\\nDate: July 15, 2025\\n\\nSummary: Delta Air Lines is rolling out AI tools to optimize flight routes, reduce delays, and personalize passenger experiences. The system helps predict weather-related disruptions and streamline baggage handling. AI will also assist cabin crew with real-time customer preferences. Delta says the initiative is part of its long-term strategy to lead in smart aviation.\\n\\nSource:CBS News [...] Source:The New York Times\\n\\n### Trump Announces $92 Billion AI & Energy Investment Initiative\\n\\nDate: July 15, 2025\\n\\nSummary: President Trump has unveiled a $92 billion investment package focused on AI infrastructure, energy grids, and domestic tech manufacturing. The initiative aims to counter China’s AI momentum and secure U.S. supply chains. It includes tax credits, public-private partnerships, and defense contracts. Supporters see it as a defining pillar of his economic agenda.\", \"score\": 0.93161833}, {\"title\": \"AI News | Latest AI News, Analysis & Events\", \"url\": \"https://www.artificialintelligence-news.com/\", \"content\": \"Image 7: Helmet as the military AI floodgates have been opened with contracts worth up to $800 million handed to four of the biggest names: Google, OpenAI, Anthropic, and Elon Musk's xAI to see if these AI tools can deliver on their promises in the government and military without the embarrassing glitches that have plagued some of these systems in the past.\\n\\nApplications\\n\\nJuly 15, 2025 [...] ### Mistral AI gives Le Chat voice recognition and deep research tools\\n\\nApplications\\n\\nJuly 17, 2025\\n\\n### Military AI contracts awarded to Anthropic, OpenAI, Google, and xAI\\n\\nApplications\\n\\nJuly 15, 2025\\n\\n### AI is rewriting the rules of the insurance industry\\n\\nApplications\\n\\nJuly 11, 2025\\n\\n#### Companies\\n\\n### Can speed and safety truly coexist in the AI race?\\n\\nAGI\\n\\nJuly 18, 2025\\n\\n### Mistral AI gives Le Chat voice recognition and deep research tools\\n\\nApplications\\n\\nJuly 17, 2025 [...] ### Zuckerberg’s $15B bet: How Meta’s ‘Superintelligence Labs’ became Silicon Valley’s most expensive AI talent war\\n\\nAGI\\n\\nJuly 17, 2025\\n\\n### Apple loses key AI leader to Meta\\n\\nApple\\n\\nJuly 8, 2025\\n\\n### Flood of interest in Europe’s AI Gigafactories plan\\n\\nArtificial Intelligence\\n\\nJuly 1, 2025\\n\\n#### Industries\\n\\n### Military AI contracts awarded to Anthropic, OpenAI, Google, and xAI\\n\\nApplications\\n\\nJuly 15, 2025\\n\\n### AI is rewriting the rules of the insurance industry\\n\\nApplications\\n\\nJuly 11, 2025\", \"score\": 0.8865877}, {\"title\": \"Neural Network - July 2025 - Stephenson Harwood\", \"url\": \"https://www.stephensonharwood.com/insights/neural-network---july-2025\", \"content\": \"In AI enforcement and litigation news, the Getty Images v Stability AI hearing has just concluded in the High Court; the UK courts have issued a strong warning about AI use in court proceedings; Anthropic is now allowed to use books to train its AI model; and a Korean AI chatbot developer has been ordered to compensate data breach victims. [...] In regulatory and government updates, the European Commission (the \\\"Commission\\\") has released its long-awaited General-Purpose AI Code of Practice and published a Generative AI (\\\"GenAI\\\") Outlook Report; Ofcom has released its approach to AI governance in 2025/26; a proposed 10-year AI moratorium has been scrapped from Trump's \\\"_big beautiful bill_\\\"; and the Commission has launched a call for proposals on the use of GenAI in cyber security. [...] ### Open AI and Oracle to collaborate on data centres\\n\\nA recent agreement between OpenAI and Oracle marks one of the largest data centre collaborations in the AI industry, with OpenAI leasing 4.5 gigawatts of computing power to Oracle. This arrangement is part of OpenAI's broader effort to dramatically increase its computing resources for developing advanced AI systems and supporting popular applications like ChatGPT.\", \"score\": 0.8785752}, {\"title\": \"The latest AI news we announced in June - Google Blog\", \"url\": \"https://blog.google/technology/ai/google-ai-updates-june-2025/\", \"content\": \"Image 10 Developers #### New in Gemini Code Assist: Agent Mode and IDE enhancements By Jerome Simms Jul 17, 2025\\n\\nImage 11 Search #### More advanced AI capabilities are coming to Search By Robby Stein Jul 16, 2025\\n\\nImage 12 Health #### Google France hosted a hackathon to tackle healthcare's biggest challenges By Joelle Barral\\n\\nImage 13 Safety & Security #### A summer of security: empowering cyber defenders with AI By Kent Walker Jul 15, 2025\\n\\n.\", \"score\": 0.8565368}, {\"title\": \"AI Weekly Recap: July 1 to July 15, 2025 - LinkedIn\", \"url\": \"https://www.linkedin.com/pulse/ai-weekly-recap-july-1-15-2025-muhammad-maruf-ibne-wali-msc-9oroc\", \"content\": \"### Conclusion\\n\\nJuly 2025 was a defining moment for the AI landscape, driven by massive national investments, global shifts in chip access, new consumer-facing tools, and game-changing partnerships. For SMEs, the message is clear: AI is no longer a future tool—it’s a present necessity. Companies that move quickly to adopt and adapt AI will unlock strategic advantages in productivity, creativity, and customer engagement. [...] Times of India (2025) 'Google offers free AI Pro plan to students'. Available at: Reuters (2025)\\n\\n'Chinese firms rush to buy Nvidia AI chips'. Available at:\\n\\nThe Verge (2025) 'Google unveils Gemini AI feature that turns photos into videos'. Available at:\\n\\nTimes of India (2025) 'Google's AI Mode now available to Indian users'. Available at:\\n\\nReuters (2025) 'Trump to unveil $70 billion in AI and energy investments'. Available at: [...] ### Top 10 AI Developments & Their Business Impacts\\n\\n### 1. Germany Plans National AI Offensive\\n\\nGermany launched an ambitious plan to generate 10% of its GDP from AI by 2030. This includes a €20 billion investment in AI gigafactories, quantum computing initiatives, and sovereign European data centres.\\n\\nWhat it means for SMEs:The initiative promises better regional compute infrastructure, less reliance on U.S.-based tech giants, and expanded funding for AI startups in the EU.\", \"score\": 0.83290404}]\n"
     ]
    }
   ],
   "source": [
    "messages = graph.invoke({\"messages\":HumanMessage(content=\"Provide me the top recent AI news for July 15th 2025\")})\n",
    "for m in messages[\"messages\"]:\n",
    "    m.pretty_print()"
   ]
  },
  {
   "cell_type": "code",
   "execution_count": 16,
   "id": "55e7335b",
   "metadata": {},
   "outputs": [
    {
     "name": "stdout",
     "output_type": "stream",
     "text": [
      "================================\u001b[1m Human Message \u001b[0m=================================\n",
      "\n",
      "What is machine learning?\n",
      "==================================\u001b[1m Ai Message \u001b[0m==================================\n",
      "Tool Calls:\n",
      "  wikipedia (cdtpnajzc)\n",
      " Call ID: cdtpnajzc\n",
      "  Args:\n",
      "    query: machine learning\n",
      "=================================\u001b[1m Tool Message \u001b[0m=================================\n",
      "Name: wikipedia\n",
      "\n",
      "Page: Machine learning\n",
      "Summary: Machine learning (ML) is a field of study in artificial intelligence concerned with the development and study of statistical algorithms that can learn from data and generalise to unseen data, and thus perform tasks without explicit instructions. Within a subdiscipline in machine learning, advances in the field of deep learning have allowed neural networks, a class of statistical algorithms, to surpass many previous machine learning approaches in performance.\n",
      "ML fi\n"
     ]
    }
   ],
   "source": [
    "messages = graph.invoke({\"messages\":HumanMessage(content=\"What is machine learning?\")})\n",
    "for m in messages[\"messages\"]:\n",
    "    m.pretty_print()"
   ]
  },
  {
   "cell_type": "code",
   "execution_count": null,
   "id": "de5aec92",
   "metadata": {},
   "outputs": [],
   "source": []
  }
 ],
 "metadata": {
  "kernelspec": {
   "display_name": "Python 3",
   "language": "python",
   "name": "python3"
  },
  "language_info": {
   "codemirror_mode": {
    "name": "ipython",
    "version": 3
   },
   "file_extension": ".py",
   "mimetype": "text/x-python",
   "name": "python",
   "nbconvert_exporter": "python",
   "pygments_lexer": "ipython3",
   "version": "3.12.0"
  }
 },
 "nbformat": 4,
 "nbformat_minor": 5
}
