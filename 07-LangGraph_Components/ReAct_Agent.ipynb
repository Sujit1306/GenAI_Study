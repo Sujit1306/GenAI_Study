{
 "cells": [
  {
   "cell_type": "markdown",
   "id": "5755eb8a",
   "metadata": {},
   "source": [
    "# Agent Architecture: ReAct Agent\n",
    "\n",
    "1. `Act`: The model calls a specific tool\n",
    "\n",
    "2. `Observe`: Passes the tool's output back to the model\n",
    "\n",
    "3. `Response`: Based on the output response from the tool and the input, the model will decide what to do in the next step"
   ]
  },
  {
   "cell_type": "markdown",
   "id": "27172396",
   "metadata": {},
   "source": []
  },
  {
   "cell_type": "code",
   "execution_count": 1,
   "id": "dace76b7",
   "metadata": {},
   "outputs": [],
   "source": [
    "from langchain_community.tools import ArxivQueryRun, WikipediaQueryRun\n",
    "from langchain_community.utilities import ArxivAPIWrapper, WikipediaAPIWrapper"
   ]
  },
  {
   "cell_type": "code",
   "execution_count": 2,
   "id": "b0bcd30d",
   "metadata": {},
   "outputs": [
    {
     "name": "stdout",
     "output_type": "stream",
     "text": [
      "arxiv\n"
     ]
    }
   ],
   "source": [
    "api_wrapper_arxiv = ArxivAPIWrapper(top_k_results=2, doc_content_chars_max=500) # get top 2 results and max 500 characters \n",
    "arxiv = ArxivQueryRun(api_wrapper = api_wrapper_arxiv)\n",
    "print(arxiv.name)"
   ]
  },
  {
   "cell_type": "code",
   "execution_count": 3,
   "id": "a66475bc",
   "metadata": {},
   "outputs": [
    {
     "data": {
      "text/plain": [
       "\"Published: 2024-07-22\\nTitle: Attention Is All You Need But You Don't Need All Of It For Inference of Large Language Models\\nAuthors: Georgy Tyukin, Gbetondji J-S Dovonon, Jean Kaddour, Pasquale Minervini\\nSummary: The inference demand for LLMs has skyrocketed in recent months, and serving\\nmodels with low latencies remains challenging due to the quadratic input length\\ncomplexity of the attention layers. In this work, we investigate the effect of\\ndropping MLP and attention layers at inference time o\""
      ]
     },
     "execution_count": 3,
     "metadata": {},
     "output_type": "execute_result"
    }
   ],
   "source": [
    "arxiv.invoke(\"Attention is all you need\")"
   ]
  },
  {
   "cell_type": "code",
   "execution_count": 4,
   "id": "29cf1f41",
   "metadata": {},
   "outputs": [
    {
     "name": "stdout",
     "output_type": "stream",
     "text": [
      "wikipedia\n"
     ]
    }
   ],
   "source": [
    "api_wrapper_wiki = WikipediaAPIWrapper(top_k_results=1, doc_content_chars_max=500) # get top 1 result and max 500 characters \n",
    "wiki = WikipediaQueryRun(api_wrapper = api_wrapper_wiki)\n",
    "print(wiki.name)"
   ]
  },
  {
   "cell_type": "code",
   "execution_count": 5,
   "id": "c7c3d9d4",
   "metadata": {},
   "outputs": [
    {
     "data": {
      "text/plain": [
       "'Page: Machine learning\\nSummary: Machine learning (ML) is a field of study in artificial intelligence concerned with the development and study of statistical algorithms that can learn from data and generalise to unseen data, and thus perform tasks without explicit instructions. Within a subdiscipline in machine learning, advances in the field of deep learning have allowed neural networks, a class of statistical algorithms, to surpass many previous machine learning approaches in performance.\\nML fi'"
      ]
     },
     "execution_count": 5,
     "metadata": {},
     "output_type": "execute_result"
    }
   ],
   "source": [
    "wiki.invoke(\"What is Machine Learning?\")"
   ]
  },
  {
   "cell_type": "code",
   "execution_count": 6,
   "id": "c1dd4123",
   "metadata": {},
   "outputs": [],
   "source": [
    "from dotenv import load_dotenv\n",
    "load_dotenv()\n",
    "import os\n",
    "\n",
    "os.environ[\"TAVILY_API_KEY\"] = os.getenv(\"TAVILY_API_KEY\")\n",
    "os.environ[\"GROQ_API_KEY\"] = os.getenv(\"GROQ_API_KEY\")\n",
    "os.environ[\"LANGCHAIN_API_KEY\"] = os.getenv(\"LANGCHAIN_API_KEY\")\n",
    "os.environ[\"LANGCHAIN_TRACING_V2\"] = \"true\"\n",
    "os.environ[\"LANGCHAIN_PROJECT\"] = \"ReAct_Agent\""
   ]
  },
  {
   "cell_type": "code",
   "execution_count": 9,
   "id": "47de5889",
   "metadata": {},
   "outputs": [],
   "source": [
    "# custom functions\n",
    "def multiply(a: int, b: int) -> int:\n",
    "    \"\"\"Multiply a and b\n",
    "    \n",
    "    Args:\n",
    "        a: first int\n",
    "        b: second int\n",
    "    \"\"\"\n",
    "    return a * b\n",
    "\n",
    "def add(a: int, b: int) -> int:\n",
    "    \"\"\"Adds a and b\n",
    "    \n",
    "    Args:\n",
    "        a: first int\n",
    "        b: second int\n",
    "    \"\"\"\n",
    "    return a + b\n",
    "\n",
    "def divide(a: int, b: int) -> float:\n",
    "    \"\"\"Divide a and b\n",
    "    \n",
    "    Args:\n",
    "        a: first int\n",
    "        b: second int\n",
    "    \"\"\"\n",
    "    return a / b\n"
   ]
  },
  {
   "cell_type": "code",
   "execution_count": 10,
   "id": "b0e5c800",
   "metadata": {},
   "outputs": [
    {
     "data": {
      "text/plain": [
       "[{'title': 'The latest AI news we announced in June - Google Blog',\n",
       "  'url': 'https://blog.google/technology/ai/google-ai-updates-june-2025/',\n",
       "  'content': '# The latest AI news we announced in June\\n\\nJul 02, 2025\\n\\nHere’s a recap of some of our biggest AI updates from June, including more ways to search with AI Mode, a new way to share your NotebookLM notebooks publicly, and a new AI to help researchers better understand the human genome.\\n\\nSuperG\\n\\n## Basic explainer [...] For more than 20 years, we’ve invested in machine learning and AI research, tools and infrastructure to build products that make everyday life better for more people. Teams across Google are working on ways to unlock AI’s benefits in fields as wide-ranging as healthcare, crisis response and education. To keep you posted on our progress, we\\'re doing a regular roundup of Google\\'s most recent AI news.\\n\\nHere’s a look back at some of our AI announcements from June. [...] a text card reading \"AI to revolutionize scientific discovery\"\\n\\nWe introduced AlphaGenome: AI to better understand the human genome. Our new, unifying DNA sequence model advances regulatory variant-effect prediction and promises to shed new light on genome function. To advance scientific research, we’re making AlphaGenome available in preview via our AlphaGenome API for non-commercial research, with plans to release the model in the future.',\n",
       "  'score': 0.6688159},\n",
       " {'title': 'AI Under the Spotlight: Key Insights Ahead of the White House ...',\n",
       "  'url': 'https://www.workforcebulletin.com/ai-under-the-spotlight-key-insights-ahead-of-the-white-house-action-plan',\n",
       "  'content': 'The release of the Action Plan will follow a number of recent developments in AI at the state and federal levels that show no signs of abating. On July 15, for instance, the White House announced $90 billion in energy and data center investments in Pennsylvania, according to Reuters. Bloomberg reported the same day that President Trump is planning to sign another executive order to implement the Action Plan upon its release to push the policy forward.\\n\\n## ‘Maintaining American Leadership’ [...] As we’ve noted previously, Trump was the first president to issue an executive order on AI—No. 13859 of February 11, 2019, “Maintaining American Leadership in Artificial Intelligence” (“E.O. 13859”). E.O. 13859 announced a U.S. policy “to sustain and enhance the scientific, technological, and economic leadership position of the United States in AI R&D and deployment,” setting forth six strategic objectives in furtherance of both promoting and protecting American investments in AI: [...] In Executive Order 14179 of January 23, 2025—entitled “Removing Barriers to American Leadership in Artificial Intelligence”—President Donald Trump directed federal officials to develop an Action Plan to achieve the policies of sustaining and enhancing America’s dominance in global AI. The plan is expected to drop by July 23, to coincide with an address by the President outlining his vision for American AI.',\n",
       "  'score': 0.63288915},\n",
       " {'title': 'AI News & Artificial Intelligence | TechCrunch',\n",
       "  'url': 'https://techcrunch.com/category/artificial-intelligence/',\n",
       "  'content': \"### Confident Security, ‘the Signal for AI,’ comes out of stealth with $4.2M\\n\\nUAE flag flying in front of ocean/skyline\\n\\n### UAE’s deal to buy Nvidia AI chips reportedly on hold\\n\\nLovable team (Rights: Anton Osika)\\n\\n### Lovable becomes a unicorn with $200M Series A just 8 months after launch\\n\\nQpiAI Indus quantum computer\\n\\n### India eyes global quantum computer push — and QpiAI is its chosen vehicle\\n\\n### Scale AI lays off 14% of staff, largely in data-labeling business\\n\\nElon Musk [...] Contact Us\\n\\n# AI\\n\\nNews coverage on artificial intelligence and machine learning tech, the companies building them, and the ethical issues AI raises today. This encompasses generative AI, including large language models, text-to-image and text-to-video models; speech recognition and generation; and predictive analytics.\\n\\n### \\n\\nCartken Hauler robot\\n\\n### Why Cartken pivoted its focus from last-mile delivery to industrial robots\\n\\nCognition CEO announces the acquisition of Windsurf [...] ### OpenAI and Anthropic researchers decry ‘reckless’ safety culture at Elon Musk’s xAI\\n\\nNvidia logo\\n\\n### Nvidia’s resumption of H20 chip sales related to rare-earth element trade talks\\n\\nxAI anime\\n\\n### xAI is hiring an engineer to make anime girls\\n\\nThe Google logo can be seen on the facade in front of the company's Munich headquarters\\n\\n### Google rolls out AI-powered business-calling feature, brings Gemini 2.5 Pro to AI Mode\\n\\nReachy Mini robot\",\n",
       "  'score': 0.6108487},\n",
       " {'title': 'The 2025 AI Index Report | Stanford HAI',\n",
       "  'url': 'https://hai.stanford.edu/ai-index/2025-ai-index-report',\n",
       "  'content': '### 2. AI is increasingly embedded in everyday life.\\n\\nFrom healthcare to transportation, AI is rapidly moving from the lab to daily life. In 2023, the FDA approved 223 AI-enabled medical devices, up from just six in 2015. On the roads, self-driving cars are no longer experimental: Waymo, one of the largest U.S. operators, provides over 150,000 autonomous rides each week, while Baidu’s affordable Apollo Go robotaxi fleet now serves numerous cities across China. [...] In 2024, U.S. federal agencies introduced 59 AI-related regulations—more than double the number in 2023—and issued by twice as many agencies. Globally, legislative mentions of AI rose 21.3% across 75 countries since 2023, marking a ninefold increase since 2016. Alongside growing attention, governments are investing at scale: Canada pledged $2.4 billion, China launched a $47.5 billion semiconductor fund, France committed €109 billion, India pledged $1.25 billion, and Saudi Arabia’s Project [...] In 2024, U.S. private AI investment grew to $109.1 billion—nearly 12 times China’s $9.3 billion and 24 times the U.K.’s $4.5 billion. Generative AI saw particularly strong momentum, attracting $33.9 billion globally in private investment—an 18.7% increase from 2023. AI business usage is also accelerating: 78% of organizations reported using AI in 2024, up from 55% the year before. Meanwhile, a growing body of research confirms that AI boosts productivity and, in most cases, helps narrow skill',\n",
       "  'score': 0.5717911},\n",
       " {'title': 'From Hype to Reality: 5 AI Breakthroughs of July 2025 Transforming ...',\n",
       "  'url': 'https://medium.com/@rana.ash1997/from-hype-to-reality-5-ai-breakthroughs-of-july-2025-transforming-engineering-devops-bacb49e15fc4',\n",
       "  'content': '# 5. The AI Arms Race Accelerates: Billions Poured into Infrastructure & Talent\\n\\nThe competition among tech giants is heating up in a way I haven’t seen since the early cloud wars, and they’re throwing hundreds of billions of dollars at AI infrastructure and talent acquisition. It’s truly staggering. [...] # My Two Cents 💡\\n\\nThis past month has truly underscored that AI isn’t a separate discipline; it’s rapidly becoming the foundational layer of software engineering. For us in DevOps, this means our role isn’t just evolving; it’s undergoing a fundamental transformation. We’re not just deploying applications; we’re orchestrating intelligent systems. We’re not just managing infrastructure; we’re enabling AI agents to interact with it autonomously. [...] # 4. AI Governance and Regulation Maturing: The EU AI Act Takes Hold\\n\\nAs AI gets more powerful, the conversation around ethical use, bias, and regulation becomes paramount. Frankly, it’s about time. July has shown a clear acceleration in this space, which is a good thing for everyone.\\n\\nAI ethics and regulation are becoming as critical as the technology itself.',\n",
       "  'score': 0.55449516}]"
      ]
     },
     "execution_count": 10,
     "metadata": {},
     "output_type": "execute_result"
    }
   ],
   "source": [
    "# Tavily search tool is a search engine built specially for AI agents delivering real time, accurate and factual results at speed \n",
    "from langchain_community.tools.tavily_search import TavilySearchResults\n",
    "\n",
    "tavily = TavilySearchResults()\n",
    "tavily.invoke(\"provide me recent AI news\")"
   ]
  },
  {
   "cell_type": "code",
   "execution_count": 11,
   "id": "2b8dcb73",
   "metadata": {},
   "outputs": [],
   "source": [
    "tools = [arxiv, wiki, tavily, add, multiply, divide]"
   ]
  },
  {
   "cell_type": "code",
   "execution_count": 12,
   "id": "51dea422",
   "metadata": {},
   "outputs": [],
   "source": [
    "from langchain_groq import ChatGroq\n",
    "llm = ChatGroq(model= \"gemma2-9b-it\")\n",
    "llm_with_tools = llm.bind_tools(tools)"
   ]
  },
  {
   "cell_type": "code",
   "execution_count": 14,
   "id": "d8bec648",
   "metadata": {},
   "outputs": [
    {
     "data": {
      "text/plain": [
       "[{'name': 'tavily_search_results_json',\n",
       "  'args': {'query': 'recent ai news july 21st 2025'},\n",
       "  'id': 'sb5bde4h3',\n",
       "  'type': 'tool_call'}]"
      ]
     },
     "execution_count": 14,
     "metadata": {},
     "output_type": "execute_result"
    }
   ],
   "source": [
    "from pprint import pprint\n",
    "from langchain_core.messages import HumanMessage, AIMessage\n",
    "\n",
    "llm_with_tools.invoke([HumanMessage(content = \"What is recent ai news w.r.t 21st july 2025?\")]).tool_calls\n"
   ]
  },
  {
   "cell_type": "code",
   "execution_count": 15,
   "id": "0ec23ddf",
   "metadata": {},
   "outputs": [],
   "source": [
    "from typing_extensions import TypedDict\n",
    "from langchain_core.messages import AnyMessage\n",
    "from typing import Annotated\n",
    "from langgraph.graph.message import add_messages\n",
    "\n",
    "class State(TypedDict):\n",
    "    messages: Annotated[list[AnyMessage], add_messages]"
   ]
  },
  {
   "cell_type": "code",
   "execution_count": 16,
   "id": "11625be0",
   "metadata": {},
   "outputs": [],
   "source": [
    "from IPython.display import display, Image\n",
    "from langgraph.graph import START, END, StateGraph\n",
    "from langgraph.prebuilt import ToolNode, tools_condition"
   ]
  },
  {
   "cell_type": "code",
   "execution_count": 17,
   "id": "8059405d",
   "metadata": {},
   "outputs": [],
   "source": [
    "def tool_calling_llm(state: State):\n",
    "    return {\"messages\": [llm_with_tools.invoke(state[\"messages\"])]}"
   ]
  },
  {
   "cell_type": "code",
   "execution_count": 18,
   "id": "90ccee53",
   "metadata": {},
   "outputs": [
    {
     "data": {
      "image/png": "[encoded data removed]",
      "text/plain": [
       "<IPython.core.display.Image object>"
      ]
     },
     "metadata": {},
     "output_type": "display_data"
    }
   ],
   "source": [
    "builder = StateGraph(State)\n",
    "builder.add_node(\"tool_calling_llm\", tool_calling_llm)\n",
    "builder.add_node(\"tools\", ToolNode(tools))\n",
    "\n",
    "builder.add_edge(START, \"tool_calling_llm\")\n",
    "builder.add_conditional_edges(\"tool_calling_llm\", tools_condition)\n",
    "builder.add_edge(\"tools\", \"tool_calling_llm\")\n",
    "\n",
    "graph = builder.compile()\n",
    "\n",
    "# view\n",
    "display(Image(graph.get_graph().draw_mermaid_png()))"
   ]
  },
  {
   "cell_type": "code",
   "execution_count": 23,
   "id": "ae649a28",
   "metadata": {},
   "outputs": [
    {
     "name": "stdout",
     "output_type": "stream",
     "text": [
      "================================\u001b[1m Human Message \u001b[0m=================================\n",
      "\n",
      "Provide me top 10 recent AI news in year 2025. \n",
      "==================================\u001b[1m Ai Message \u001b[0m==================================\n",
      "Tool Calls:\n",
      "  tavily_search_results_json (pd3q0heba)\n",
      " Call ID: pd3q0heba\n",
      "  Args:\n",
      "    query: top 10 recent AI news 2025\n",
      "=================================\u001b[1m Tool Message \u001b[0m=================================\n",
      "Name: tavily_search_results_json\n",
      "\n",
      "[{\"title\": \"The latest AI news we announced in June - Google Blog\", \"url\": \"https://blog.google/technology/ai/google-ai-updates-june-2025/\", \"content\": \"# The latest AI news we announced in June\\n\\nJul 02, 2025\\n\\nHere’s a recap of some of our biggest AI updates from June, including more ways to search with AI Mode, a new way to share your NotebookLM notebooks publicly, and a new AI to help researchers better understand the human genome.\\n\\nSuperG\\n\\n## Basic explainer\", \"score\": 0.8568246}, {\"title\": \"12 Graphs That Explain the State of AI in 2025 - IEEE Spectrum\", \"url\": \"https://spectrum.ieee.org/ai-index-2025\", \"content\": \"AI for science and medicine is a mini-boom within the AI boom. The report lists a variety of new foundation models that have been released to help researchers in fields such as materials science, weather forecasting, and quantum computing. Many companies are trying to turn AI’s predictive and generative powers into profitable drug discovery. And OpenAI’s o1 reasoning model recently scored 96 percent on a benchmark called MedQA, which has questions from medical board exams. [...] Eliza Strickland is a senior editor at IEEE Spectrum covering AI and biomedical engineering.\\n\\nAI spelled out on lined paper.\\n\\nIf you read the news about AI, you may feel bombarded with conflicting messages: AI is booming. AI is a bubble. AI’s current techniques and architectures will keep producing breakthroughs. AI is on an unsustainable path and needs radical new ideas. AI is going to take your job. AI is mostly good for turning your family photos into Studio Ghibli–style animated images. [...] The United States may still have a commanding lead on the quantity of notable models released, but Chinese models are catching up on quality. This chart shows the narrowing performance gap on a chatbot benchmark. In January 2024, the top U.S. model outperformed the best Chinese model by 9.26 percent; by February 2025, this gap had narrowed to just 1.70 percent. The report found similar results on other benchmarks relating to reasoning, math, and coding.\\n\\n## 6. Humanity’s Last Exam\", \"score\": 0.8252664}, {\"title\": \"The 2025 AI Index Report | Stanford HAI\", \"url\": \"https://hai.stanford.edu/ai-index/2025-ai-index-report\", \"content\": \"### 2. AI is increasingly embedded in everyday life.\\n\\nFrom healthcare to transportation, AI is rapidly moving from the lab to daily life. In 2023, the FDA approved 223 AI-enabled medical devices, up from just six in 2015. On the roads, self-driving cars are no longer experimental: Waymo, one of the largest U.S. operators, provides over 150,000 autonomous rides each week, while Baidu’s affordable Apollo Go robotaxi fleet now serves numerous cities across China. [...] ### 11. AI earns top honors for its impact on science.\\n\\nAI’s growing importance is reflected in major scientific awards: two Nobel Prizes recognized work  that led to deep learning (physics), and to its application to protein folding (chemistry), while the Turing Award honored groundbreaking contributions to reinforcement learning.\\n\\n### 12. Complex reasoning remains a challenge. [...] ### 10. Industry is racing ahead in AI—but the frontier is tightening.\", \"score\": 0.82220376}, {\"title\": \"The 10 Hottest AI Startup Companies Of 2025 (So Far) - CRN\", \"url\": \"https://www.crn.com/news/ai/2025/the-10-hottest-ai-startup-companies-of-2025-so-far\", \"content\": \"The AI unicorn recently surpassed $500 million in annual revenue with a valuation estimated to be around $10 billion, thanks to new investments by Thrive Capital and Andreessen Horowitz. In June, the startup launched a new $200-per-month subscription plan for Cursor.\\n\\nCohere\\n\\nTop Executive: Aidan Gomez, CEO\\n\\nHeadquarters: Toronto and San Francisco\\n\\nCohere provides innovative multilingual AI foundation models, retrieval and end-to-end AI products designed to solve real-world business problems. [...] The startup recently partnered with Nidia to offer localized and sovereign AI models to customers in Europe.\\n\\nThinking Machine Labs\\n\\nTop Executive: Mira Murati, CEO\\n\\nHeadquarters: San Francisco\\n\\nThe youngest startup on CRN’s list is Thinking Machine Labs, founded and led by OpenAI’s former CTO Mirati.\\n\\nThe startup said it is developing broadly capable AI systems with a focus on programming AI and building multimodal AI models with advanced reasoning features. [...] IT research firm Gartner expects worldwide generative AI spending will reach $644 billion in 2025, an increase of 75 percent year over year.\\n\\nIn addition, Gartner expects global AI services sales to hit $609 billion by 2028 due to innovation around new generative AI capabilities and traditional AI tech creating better predictive analytics and decision-making solutions.\", \"score\": 0.81524754}, {\"title\": \"Top 10 AI Trends of 2025 (According to Industry Leaders) - YouTube\", \"url\": \"https://www.youtube.com/watch?v=YH4wP-ESLo4&vl=en\", \"content\": \"Discover how multimodal AI agents will replace browsers (handling research, bookings, and negotiations autonomously). See AI CEOs making real-time decisions in Fortune 500 firms, emotion-sensing wearables transforming mental healthcare, and self-coding software that builds apps from voice notes. Even Hollywood faces disruption with AI actors signing contracts. [...] # Top 10 AI Trends of 2025 (According to Industry Leaders)\\n\\nAI Uncovered\\n117 likes\\n3190 views\\n15 Jul 2025\\nWhat if industry giants like Google, Microsoft, and NVIDIA could reveal AI’s real 2025 impact? We distilled insights from 100+ execs, researchers, and leaked roadmaps into 10 explosive trends poised to reshape work, creativity, and daily life. No hype—just what’s launching. [...] Beyond convenience, these trends solve critical flaws: privacy-preserving AI processes data locally on devices, robot taxes fund universal basic income, and carbon-negative cloud computing turns AI from climate villain to hero. The speed of adoption will shock you—laggards risk obsolescence.\\n\\nStart adapting now. Learn which skills will skyrocket in value (prompt engineering fades, AI auditing rises) and how to future-proof your career. Your strategic advantage starts here.\", \"score\": 0.8127637}]\n",
      "==================================\u001b[1m Ai Message \u001b[0m==================================\n",
      "Tool Calls:\n",
      "  tavily_search_results_json (g6nf6m1j2)\n",
      " Call ID: g6nf6m1j2\n",
      "  Args:\n",
      "    query: top 10 recent AI news 2025\n",
      "=================================\u001b[1m Tool Message \u001b[0m=================================\n",
      "Name: tavily_search_results_json\n",
      "\n",
      "[{\"title\": \"The latest AI news we announced in June - Google Blog\", \"url\": \"https://blog.google/technology/ai/google-ai-updates-june-2025/\", \"content\": \"# The latest AI news we announced in June\\n\\nJul 02, 2025\\n\\nHere’s a recap of some of our biggest AI updates from June, including more ways to search with AI Mode, a new way to share your NotebookLM notebooks publicly, and a new AI to help researchers better understand the human genome.\\n\\nSuperG\\n\\n## Basic explainer\", \"score\": 0.8568246}, {\"title\": \"Five Transformative AI Technology Trends Shaping 2025 - Forbes\", \"url\": \"https://www.forbes.com/councils/forbestechcouncil/2025/04/15/five-transformative-ai-technology-trends-shaping-2025/\", \"content\": \"In 2025, we’re witnessing more than just smarter algorithms; we’re seeing the arrival of AI systems that learn while they work, autonomous agents that strategize like seasoned professionals and models small enough to fit in your pocket yet powerful enough to compete against supercomputers. These advancements aren’t isolated—they’re converging to create AI that remembers, modifies and collaborates with human-like continuity. [...] Artificial intelligence technologies are changing faster than ever. What started as tools that could answer questions or generate images is now developing into systems that plan, adapt and collaborate like never before. Established giants like OpenAI and Google now share the stage with agile newcomers such as China’s DeepSeek—a rising star making waves with fresh approaches to how AI solves problems, proving that groundbreaking ideas can come from anywhere. [...] ## Conclusion\\n\\nAI in 2025 isn’t just a tool—it’s a teammate, a strategist rolled into one. Agentic AI will handle tasks that once required entire teams. Models with tens of trillions of parameters will decode problems we thought were too messy for machines. Yet the most transformative advances might come from the smallest models: SLMs are already putting AI in places it’s never been.\", \"score\": 0.82425016}, {\"title\": \"The 2025 AI Index Report | Stanford HAI\", \"url\": \"https://hai.stanford.edu/ai-index/2025-ai-index-report\", \"content\": \"### 2. AI is increasingly embedded in everyday life.\\n\\nFrom healthcare to transportation, AI is rapidly moving from the lab to daily life. In 2023, the FDA approved 223 AI-enabled medical devices, up from just six in 2015. On the roads, self-driving cars are no longer experimental: Waymo, one of the largest U.S. operators, provides over 150,000 autonomous rides each week, while Baidu’s affordable Apollo Go robotaxi fleet now serves numerous cities across China. [...] ### 11. AI earns top honors for its impact on science.\\n\\nAI’s growing importance is reflected in major scientific awards: two Nobel Prizes recognized work  that led to deep learning (physics), and to its application to protein folding (chemistry), while the Turing Award honored groundbreaking contributions to reinforcement learning.\\n\\n### 12. Complex reasoning remains a challenge. [...] ### 10. Industry is racing ahead in AI—but the frontier is tightening.\", \"score\": 0.82220376}, {\"title\": \"The 10 Hottest AI Startup Companies Of 2025 (So Far) - CRN\", \"url\": \"https://www.crn.com/news/ai/2025/the-10-hottest-ai-startup-companies-of-2025-so-far\", \"content\": \"The AI unicorn recently surpassed $500 million in annual revenue with a valuation estimated to be around $10 billion, thanks to new investments by Thrive Capital and Andreessen Horowitz. In June, the startup launched a new $200-per-month subscription plan for Cursor.\\n\\nCohere\\n\\nTop Executive: Aidan Gomez, CEO\\n\\nHeadquarters: Toronto and San Francisco\\n\\nCohere provides innovative multilingual AI foundation models, retrieval and end-to-end AI products designed to solve real-world business problems. [...] The startup recently partnered with Nidia to offer localized and sovereign AI models to customers in Europe.\\n\\nThinking Machine Labs\\n\\nTop Executive: Mira Murati, CEO\\n\\nHeadquarters: San Francisco\\n\\nThe youngest startup on CRN’s list is Thinking Machine Labs, founded and led by OpenAI’s former CTO Mirati.\\n\\nThe startup said it is developing broadly capable AI systems with a focus on programming AI and building multimodal AI models with advanced reasoning features. [...] IT research firm Gartner expects worldwide generative AI spending will reach $644 billion in 2025, an increase of 75 percent year over year.\\n\\nIn addition, Gartner expects global AI services sales to hit $609 billion by 2028 due to innovation around new generative AI capabilities and traditional AI tech creating better predictive analytics and decision-making solutions.\", \"score\": 0.81524754}, {\"title\": \"Top 10 AI Trends of 2025 (According to Industry Leaders) - YouTube\", \"url\": \"https://www.youtube.com/watch?v=YH4wP-ESLo4&vl=en\", \"content\": \"Discover how multimodal AI agents will replace browsers (handling research, bookings, and negotiations autonomously). See AI CEOs making real-time decisions in Fortune 500 firms, emotion-sensing wearables transforming mental healthcare, and self-coding software that builds apps from voice notes. Even Hollywood faces disruption with AI actors signing contracts. [...] # Top 10 AI Trends of 2025 (According to Industry Leaders)\\n\\nAI Uncovered\\n117 likes\\n3190 views\\n15 Jul 2025\\nWhat if industry giants like Google, Microsoft, and NVIDIA could reveal AI’s real 2025 impact? We distilled insights from 100+ execs, researchers, and leaked roadmaps into 10 explosive trends poised to reshape work, creativity, and daily life. No hype—just what’s launching. [...] Beyond convenience, these trends solve critical flaws: privacy-preserving AI processes data locally on devices, robot taxes fund universal basic income, and carbon-negative cloud computing turns AI from climate villain to hero. The speed of adoption will shock you—laggards risk obsolescence.\\n\\nStart adapting now. Learn which skills will skyrocket in value (prompt engineering fades, AI auditing rises) and how to future-proof your career. Your strategic advantage starts here.\", \"score\": 0.8127637}]\n",
      "==================================\u001b[1m Ai Message \u001b[0m==================================\n",
      "\n",
      "<tool-use>{\"tool_call\":{\"id\":\"j1e5x7r5q\n",
      "</tool-use>\n"
     ]
    }
   ],
   "source": [
    "messages = graph.invoke({\"messages\":HumanMessage(content=\"Provide me top 10 recent AI news in year 2025. \")})\n",
    "for m in messages['messages']: \n",
    "    m.pretty_print()"
   ]
  },
  {
   "cell_type": "code",
   "execution_count": 26,
   "id": "482b4f6f",
   "metadata": {},
   "outputs": [
    {
     "name": "stdout",
     "output_type": "stream",
     "text": [
      "================================\u001b[1m Human Message \u001b[0m=================================\n",
      "\n",
      "Provide me the most recent AI news for 15 july 2025. Add 5 with 5 and then multiply the sum by 3\n",
      "==================================\u001b[1m Ai Message \u001b[0m==================================\n",
      "Tool Calls:\n",
      "  tavily_search_results_json (19cgte7es)\n",
      " Call ID: 19cgte7es\n",
      "  Args:\n",
      "    query: AI news 15 july 2025\n",
      "=================================\u001b[1m Tool Message \u001b[0m=================================\n",
      "Name: tavily_search_results_json\n",
      "\n",
      "[{\"title\": \"Latest AI Breakthroughs and News: May, June, July 2025\", \"url\": \"https://www.crescendo.ai/news/latest-ai-news-and-updates\", \"content\": \"### Pentagon Taps 4 Tech Firms to Expand Military AI Capabilities\\n\\nDate: July 15, 2025\\n\\nSummary: The U.S. Department of Defense has partnered with four commercial tech companies to accelerate AI integration into military operations. The contracts focus on logistics automation, battlefield decision support, and threat analysis. Officials say rapid deployment of AI is critical for maintaining global defense leadership. The effort is part of a broader shift toward next-gen warfare tech. [...] Source:Defense News\\n\\n### Delta Airlines Uses AI to Enhance In-Flight and Ground Ops\\n\\nDate: July 15, 2025\\n\\nSummary: Delta Air Lines is rolling out AI tools to optimize flight routes, reduce delays, and personalize passenger experiences. The system helps predict weather-related disruptions and streamline baggage handling. AI will also assist cabin crew with real-time customer preferences. Delta says the initiative is part of its long-term strategy to lead in smart aviation.\\n\\nSource:CBS News [...] Source:White House\\n\\n### Teens Prefer AI Chatbots for Emotional Support, Study Finds\\n\\nDate: July 15, 2025\\n\\nSummary: A new study shows that many teenagers find AI chatbots more emotionally satisfying than human interactions when discussing personal problems. The research highlights Gen Z’s growing comfort with AI companionship. Experts say chatbots provide a sense of safety and non-judgmental feedback. However, concerns remain about overreliance on synthetic relationships.\\n\\nSource:Fox 10 Phoenix\", \"score\": 0.94451064}, {\"title\": \"AI news and funding updates from the last 24 hours(15th July 2025)\", \"url\": \"https://www.linkedin.com/pulse/ai-news-funding-updates-from-last-24-hours15th-july-2025-anshuman-jha-i8yoc\", \"content\": \"U.S. startup funding jumped 75.6% in H1 2025, driven by AI, despite VC firms facing fundraising challenges.\\n   Trump to announce $70B in private investment for AI and energy infrastructure, including data centers.\\n   Germany's AI strategy targets 10% of GDP from AI by 2030, with goals for AI gigafactories and quantum computing.\\n\\nLike\\n\\nImage 5: LikeLike\\n\\nImage 6: CelebrateCelebrate\\n\\nImage 7: SupportSupport\\n\\nImage 8: LoveLove\\n\\nImage 9: InsightfulInsightful\\n\\nImage 10: FunnyFunny\\n\\nComment [...] Accelerating AI infrastructure with Hyperion data center and makeshift facilities to boost capacity.\\n   May pivot away from open source AI as Behemoth model delays raise concerns.\\n   Cracking down on unoriginal content on Facebook, especially AI-generated and copied material.\\n   Zuckerberg committed to multi-hundred-billion-dollar AI investment through Superintelligence Labs.\\n   Zuckerberg to testify in $8B shareholder trial over Cambridge Analytica fallout.\\n\\n  \\n\\n### Nextdoor [...] Forecasts 52% profit jump in Q2, driven by strong AI chip demand from Nvidia and Apple.\\n   Faces risks from U.S. tariffs and Taiwan dollar strength, causing investor caution.\\n\\n  \\n\\n### xAI (Elon Musk)\\n\\n   Launched AI companions for Grok chatbot, including anime-inspired characters.\\n   Follows recent controversy over antisemitic content; raises questions on AI safety and ethics.\\n\\n  \\n\\n### Other News\", \"score\": 0.9294982}, {\"title\": \"AI News | Latest AI News, Analysis & Events\", \"url\": \"https://www.artificialintelligence-news.com/\", \"content\": \"Image 7: Helmet as the military AI floodgates have been opened with contracts worth up to $800 million handed to four of the biggest names: Google, OpenAI, Anthropic, and Elon Musk's xAI to see if these AI tools can deliver on their promises in the government and military without the embarrassing glitches that have plagued some of these systems in the past.\\n\\nApplications\\n\\nJuly 15, 2025 [...] ### Mistral AI gives Le Chat voice recognition and deep research tools\\n\\nApplications\\n\\nJuly 17, 2025\\n\\n### Military AI contracts awarded to Anthropic, OpenAI, Google, and xAI\\n\\nApplications\\n\\nJuly 15, 2025\\n\\n### AI is rewriting the rules of the insurance industry\\n\\nApplications\\n\\nJuly 11, 2025\\n\\n#### Companies\\n\\n### Can speed and safety truly coexist in the AI race?\\n\\nAGI\\n\\nJuly 18, 2025\\n\\n### Mistral AI gives Le Chat voice recognition and deep research tools\\n\\nApplications\\n\\nJuly 17, 2025 [...] ### Zuckerberg’s $15B bet: How Meta’s ‘Superintelligence Labs’ became Silicon Valley’s most expensive AI talent war\\n\\nAGI\\n\\nJuly 17, 2025\\n\\n### Apple loses key AI leader to Meta\\n\\nApple\\n\\nJuly 8, 2025\\n\\n### Flood of interest in Europe’s AI Gigafactories plan\\n\\nArtificial Intelligence\\n\\nJuly 1, 2025\\n\\n#### Industries\\n\\n### Military AI contracts awarded to Anthropic, OpenAI, Google, and xAI\\n\\nApplications\\n\\nJuly 15, 2025\\n\\n### AI is rewriting the rules of the insurance industry\\n\\nApplications\\n\\nJuly 11, 2025\", \"score\": 0.8900749}, {\"title\": \"Neural Network - July 2025 - Stephenson Harwood\", \"url\": \"https://www.stephensonharwood.com/insights/neural-network---july-2025\", \"content\": \"In AI enforcement and litigation news, the Getty Images v Stability AI hearing has just concluded in the High Court; the UK courts have issued a strong warning about AI use in court proceedings; Anthropic is now allowed to use books to train its AI model; and a Korean AI chatbot developer has been ordered to compensate data breach victims. [...] In regulatory and government updates, the European Commission (the \\\"Commission\\\") has released its long-awaited General-Purpose AI Code of Practice and published a Generative AI (\\\"GenAI\\\") Outlook Report; Ofcom has released its approach to AI governance in 2025/26; a proposed 10-year AI moratorium has been scrapped from Trump's \\\"_big beautiful bill_\\\"; and the Commission has launched a call for proposals on the use of GenAI in cyber security. [...] ### Open AI and Oracle to collaborate on data centres\\n\\nA recent agreement between OpenAI and Oracle marks one of the largest data centre collaborations in the AI industry, with OpenAI leasing 4.5 gigawatts of computing power to Oracle. This arrangement is part of OpenAI's broader effort to dramatically increase its computing resources for developing advanced AI systems and supporting popular applications like ChatGPT.\", \"score\": 0.8700796}, {\"title\": \"AI Weekly Recap: July 1 to July 15, 2025 - LinkedIn\", \"url\": \"https://www.linkedin.com/pulse/ai-weekly-recap-july-1-15-2025-muhammad-maruf-ibne-wali-msc-9oroc\", \"content\": \"### Conclusion\\n\\nJuly 2025 was a defining moment for the AI landscape, driven by massive national investments, global shifts in chip access, new consumer-facing tools, and game-changing partnerships. For SMEs, the message is clear: AI is no longer a future tool—it’s a present necessity. Companies that move quickly to adopt and adapt AI will unlock strategic advantages in productivity, creativity, and customer engagement.\", \"score\": 0.86928266}]\n",
      "==================================\u001b[1m Ai Message \u001b[0m==================================\n",
      "Tool Calls:\n",
      "  add (nnj7rp2r7)\n",
      " Call ID: nnj7rp2r7\n",
      "  Args:\n",
      "    a: 15\n",
      "    b: 5\n",
      "=================================\u001b[1m Tool Message \u001b[0m=================================\n",
      "Name: add\n",
      "\n",
      "20\n",
      "==================================\u001b[1m Ai Message \u001b[0m==================================\n",
      "Tool Calls:\n",
      "  multiply (zz8athrtz)\n",
      " Call ID: zz8athrtz\n",
      "  Args:\n",
      "    a: 20\n",
      "    b: 3\n",
      "=================================\u001b[1m Tool Message \u001b[0m=================================\n",
      "Name: multiply\n",
      "\n",
      "60\n",
      "==================================\u001b[1m Ai Message \u001b[0m==================================\n",
      "\n",
      "The answer is 60\n"
     ]
    }
   ],
   "source": [
    "messages = graph.invoke({\"messages\":HumanMessage(content=\"Provide me the most recent AI news for 15 july 2025. Add 5 with 5 and then multiply the sum by 3\")})\n",
    "for m in messages['messages']: \n",
    "    m.pretty_print()"
   ]
  },
  {
   "cell_type": "markdown",
   "id": "cb94dc7c",
   "metadata": {},
   "source": [
    "## Agent Memory\n",
    "Let us introduce Agent with Memory"
   ]
  },
  {
   "cell_type": "code",
   "execution_count": 27,
   "id": "329a3623",
   "metadata": {},
   "outputs": [
    {
     "name": "stdout",
     "output_type": "stream",
     "text": [
      "================================\u001b[1m Human Message \u001b[0m=================================\n",
      "\n",
      "5 plus 9, then divide the sum by 2\n",
      "==================================\u001b[1m Ai Message \u001b[0m==================================\n",
      "Tool Calls:\n",
      "  add (e1zgf6egq)\n",
      " Call ID: e1zgf6egq\n",
      "  Args:\n",
      "    a: 5\n",
      "    b: 9\n",
      "=================================\u001b[1m Tool Message \u001b[0m=================================\n",
      "Name: add\n",
      "\n",
      "14\n",
      "==================================\u001b[1m Ai Message \u001b[0m==================================\n",
      "Tool Calls:\n",
      "  divide (d0cm609mb)\n",
      " Call ID: d0cm609mb\n",
      "  Args:\n",
      "    a: 14\n",
      "    b: 2\n",
      "=================================\u001b[1m Tool Message \u001b[0m=================================\n",
      "Name: divide\n",
      "\n",
      "7.0\n",
      "==================================\u001b[1m Ai Message \u001b[0m==================================\n",
      "\n",
      "7.0\n"
     ]
    }
   ],
   "source": [
    "messages = graph.invoke({\"messages\":HumanMessage(content=\"5 plus 9, then divide the sum by 2\")})\n",
    "for m in messages['messages']: \n",
    "    m.pretty_print()"
   ]
  },
  {
   "cell_type": "code",
   "execution_count": 28,
   "id": "7a927168",
   "metadata": {},
   "outputs": [
    {
     "name": "stdout",
     "output_type": "stream",
     "text": [
      "================================\u001b[1m Human Message \u001b[0m=================================\n",
      "\n",
      "multiply that by 5\n",
      "==================================\u001b[1m Ai Message \u001b[0m==================================\n",
      "Tool Calls:\n",
      "  multiply (kwq8n3tt1)\n",
      " Call ID: kwq8n3tt1\n",
      "  Args:\n",
      "    a: 10\n",
      "    b: 5\n",
      "=================================\u001b[1m Tool Message \u001b[0m=================================\n",
      "Name: multiply\n",
      "\n",
      "50\n",
      "==================================\u001b[1m Ai Message \u001b[0m==================================\n",
      "Tool Calls:\n",
      "  add (nqaqx899p)\n",
      " Call ID: nqaqx899p\n",
      "  Args:\n",
      "    a: 50\n",
      "    b: 25\n",
      "=================================\u001b[1m Tool Message \u001b[0m=================================\n",
      "Name: add\n",
      "\n",
      "75\n",
      "==================================\u001b[1m Ai Message \u001b[0m==================================\n",
      "\n",
      "75\n"
     ]
    }
   ],
   "source": [
    "messages = [HumanMessage(content=\"multiply that by 5\")]\n",
    "messages = graph.invoke({\"messages\":messages})\n",
    "for m in messages['messages']:\n",
    "    m.pretty_print()"
   ]
  },
  {
   "cell_type": "markdown",
   "id": "08394581",
   "metadata": {},
   "source": [
    "This way we do not get the desired output as out agent is not saving any memory of previous invokation. <br>\n",
    "For implementing memory, we use a component called `MemorySaver` in langgraph"
   ]
  },
  {
   "cell_type": "markdown",
   "id": "7aeedbda",
   "metadata": {},
   "source": [
    "### MemorySaver\n",
    "LangGraph can use a checkpointer to automatically save the graph state after each step. <br><br>\n",
    "This built-in persistence layer gives us memory, allowing LangGraph to pick up from the last state update. <br><br>\n",
    "One of the easiest checkpointers to use is the MemorySaver, an in-memory key-value store for Graph State. <br><br>\n",
    "All we need to do is compile our graph with a checkpointer, and our grpah is ready with memory. <br><br>"
   ]
  },
  {
   "cell_type": "code",
   "execution_count": 29,
   "id": "972a6950",
   "metadata": {},
   "outputs": [
    {
     "data": {
      "text/plain": [
       "<langgraph.graph.state.StateGraph at 0x1fc5c57a900>"
      ]
     },
     "execution_count": 29,
     "metadata": {},
     "output_type": "execute_result"
    }
   ],
   "source": [
    "from IPython.display import display, Image\n",
    "from langgraph.graph import START, END, StateGraph\n",
    "from langgraph.prebuilt import ToolNode, tools_condition\n",
    "\n",
    "def tool_calling_llm(state: State):\n",
    "    return {\"messages\": [llm_with_tools.invoke(state[\"messages\"])]}\n",
    "    \n",
    "builder = StateGraph(State)\n",
    "builder.add_node(\"tool_calling_llm\", tool_calling_llm)\n",
    "builder.add_node(\"tools\", ToolNode(tools))\n",
    "\n",
    "builder.add_edge(START, \"tool_calling_llm\")\n",
    "builder.add_conditional_edges(\"tool_calling_llm\", tools_condition)\n",
    "builder.add_edge(\"tools\", \"tool_calling_llm\")\n",
    "\n"
   ]
  },
  {
   "cell_type": "code",
   "execution_count": 30,
   "id": "9726d745",
   "metadata": {},
   "outputs": [
    {
     "data": {
      "image/png": "[encoded data removed]",
      "text/plain": [
       "<IPython.core.display.Image object>"
      ]
     },
     "metadata": {},
     "output_type": "display_data"
    }
   ],
   "source": [
    "from langgraph.checkpoint.memory import MemorySaver \n",
    "memory = MemorySaver()\n",
    "graph_memory = builder.compile(checkpointer=memory)\n",
    "\n",
    "# view\n",
    "display(Image(graph.get_graph().draw_mermaid_png()))"
   ]
  },
  {
   "cell_type": "code",
   "execution_count": 35,
   "id": "c5a20599",
   "metadata": {},
   "outputs": [
    {
     "name": "stdout",
     "output_type": "stream",
     "text": [
      "================================\u001b[1m Human Message \u001b[0m=================================\n",
      "\n",
      "Add 12 and 13\n",
      "==================================\u001b[1m Ai Message \u001b[0m==================================\n",
      "Tool Calls:\n",
      "  add (74agf26ye)\n",
      " Call ID: 74agf26ye\n",
      "  Args:\n",
      "    a: 12\n",
      "    b: 13\n",
      "=================================\u001b[1m Tool Message \u001b[0m=================================\n",
      "Name: add\n",
      "\n",
      "25\n",
      "==================================\u001b[1m Ai Message \u001b[0m==================================\n",
      "\n",
      "25\n"
     ]
    }
   ],
   "source": [
    "# specify the thread\n",
    "config = {\"configurable\":{\"thread_id\":\"1\"}}\n",
    "\n",
    "# specify the input\n",
    "messages = [HumanMessage(content= \"Add 12 and 13\")]\n",
    "\n",
    "messages = graph_memory.invoke({\"messages\": messages}, config=config)\n",
    "for m in messages['messages']:\n",
    "    m.pretty_print()"
   ]
  },
  {
   "cell_type": "code",
   "execution_count": 36,
   "id": "8d03a795",
   "metadata": {},
   "outputs": [
    {
     "name": "stdout",
     "output_type": "stream",
     "text": [
      "================================\u001b[1m Human Message \u001b[0m=================================\n",
      "\n",
      "Add 12 and 13\n",
      "==================================\u001b[1m Ai Message \u001b[0m==================================\n",
      "Tool Calls:\n",
      "  add (74agf26ye)\n",
      " Call ID: 74agf26ye\n",
      "  Args:\n",
      "    a: 12\n",
      "    b: 13\n",
      "=================================\u001b[1m Tool Message \u001b[0m=================================\n",
      "Name: add\n",
      "\n",
      "25\n",
      "==================================\u001b[1m Ai Message \u001b[0m==================================\n",
      "\n",
      "25\n",
      "================================\u001b[1m Human Message \u001b[0m=================================\n",
      "\n",
      "Add that number to 25\n",
      "==================================\u001b[1m Ai Message \u001b[0m==================================\n",
      "Tool Calls:\n",
      "  add (0nvc2fc92)\n",
      " Call ID: 0nvc2fc92\n",
      "  Args:\n",
      "    a: 25\n",
      "    b: 25\n",
      "=================================\u001b[1m Tool Message \u001b[0m=================================\n",
      "Name: add\n",
      "\n",
      "50\n",
      "==================================\u001b[1m Ai Message \u001b[0m==================================\n",
      "\n",
      "50\n"
     ]
    }
   ],
   "source": [
    "messages = [HumanMessage(content= \"Add that number to 25\")]\n",
    "\n",
    "messages = graph_memory.invoke({\"messages\": messages}, config=config)\n",
    "for m in messages['messages']:\n",
    "    m.pretty_print()"
   ]
  },
  {
   "cell_type": "code",
   "execution_count": null,
   "id": "0b21ef74",
   "metadata": {},
   "outputs": [],
   "source": []
  }
 ],
 "metadata": {
  "kernelspec": {
   "display_name": "Python 3",
   "language": "python",
   "name": "python3"
  },
  "language_info": {
   "codemirror_mode": {
    "name": "ipython",
    "version": 3
   },
   "file_extension": ".py",
   "mimetype": "text/x-python",
   "name": "python",
   "nbconvert_exporter": "python",
   "pygments_lexer": "ipython3",
   "version": "3.12.0"
  }
 },
 "nbformat": 4,
 "nbformat_minor": 5
}
