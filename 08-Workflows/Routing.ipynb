{
 "cells": [
  {
   "cell_type": "markdown",
   "id": "3faf8305",
   "metadata": {},
   "source": [
    "# Routing Demo (utilizing Pydantic)"
   ]
  },
  {
   "cell_type": "markdown",
   "id": "4f179d34",
   "metadata": {},
   "source": [
    "### Usecase: LLM Call Router\n",
    "* `START` gets a user input and passes it to `Router`\n",
    "* `Router` then decides whether request is that for a poem, story or joke\n",
    "* Then the `Router` will pass that input to respective node\n",
    "* The `poem/ story/ joke node` generates requested content\n",
    "* `END`"
   ]
  },
  {
   "cell_type": "code",
   "execution_count": 1,
   "id": "557f889d",
   "metadata": {},
   "outputs": [],
   "source": [
    "import os\n",
    "from dotenv import load_dotenv\n",
    "load_dotenv()\n",
    "\n",
    "os.environ[\"GROQ_API_KEY\"] = os.getenv(\"GROQ_API_KEY\")\n",
    "\n",
    "from langchain_groq import ChatGroq\n",
    "llm = ChatGroq(model=\"gemma2-9b-it\")"
   ]
  },
  {
   "cell_type": "code",
   "execution_count": 3,
   "id": "3aa5f2b3",
   "metadata": {},
   "outputs": [],
   "source": [
    "from typing_extensions import Literal\n",
    "from pydantic import BaseModel, Field\n",
    "from langchain_core.messages import HumanMessage, SystemMessage\n",
    "from typing import TypedDict\n",
    "\n",
    "# schema for structured output to use as a routing logic\n",
    "class Route(BaseModel):\n",
    "    step: Literal[\"poem\", \"story\", \"joke\"] = Field(description = \"The next step in the routing process\")\n",
    "\n",
    "# Augment the LLM with schema for structured output\n",
    "router = llm.with_structured_output(Route)\n",
    "\n",
    "# create state class\n",
    "class State(TypedDict):\n",
    "    input: str\n",
    "    decision: str\n",
    "    output: str"
   ]
  },
  {
   "cell_type": "code",
   "execution_count": 4,
   "id": "91c9202e",
   "metadata": {},
   "outputs": [],
   "source": [
    "def poem_call(state: State):\n",
    "    \"\"\"Write a poem\"\"\"\n",
    "    result = llm.invoke(state[\"input\"])\n",
    "    return {\"output\":result.content}\n",
    "\n",
    "def story_call(state: State):\n",
    "    \"\"\"Write a story\"\"\"\n",
    "    result = llm.invoke(state[\"input\"])\n",
    "    return {\"output\":result.content}\n",
    "\n",
    "def joke_call(state: State):\n",
    "    \"\"\"Write a joke\"\"\"\n",
    "    result = llm.invoke(state[\"input\"])\n",
    "    return {\"output\":result.content}\n",
    "\n",
    "def call_router(state: State):\n",
    "    \"\"\"Route the input to the appropriate node\"\"\"\n",
    "    decision = router.invoke(\n",
    "        [\n",
    "            SystemMessage(content= \"Route the input to Poem, Story or Joke based on the user request\"),\n",
    "            HumanMessage(content= state[\"input\"]),\n",
    "            ]\n",
    "    )\n",
    "    return {\"decision\":decision.step}"
   ]
  },
  {
   "cell_type": "code",
   "execution_count": 5,
   "id": "7c914bab",
   "metadata": {},
   "outputs": [],
   "source": [
    "# condition function\n",
    "def route_decision(state: State):\n",
    "    if state[\"decision\"] == \"poem\":\n",
    "        return \"poem_call\"\n",
    "    if state[\"decision\"] == \"story\":\n",
    "        return \"story_call\"\n",
    "    if state[\"decision\"] == \"joke\":\n",
    "        return \"joke_call\"\n",
    "    "
   ]
  },
  {
   "cell_type": "code",
   "execution_count": 6,
   "id": "348f4e53",
   "metadata": {},
   "outputs": [
    {
     "data": {
      "image/png": "[encoded data removed]",
      "text/plain": [
       "<IPython.core.display.Image object>"
      ]
     },
     "metadata": {},
     "output_type": "display_data"
    }
   ],
   "source": [
    "from langgraph.graph import StateGraph, START, END\n",
    "from IPython.display import display, Image\n",
    "\n",
    "builder = StateGraph(State)\n",
    "builder.add_node(\"poem\", poem_call)\n",
    "builder.add_node(\"story\", story_call)\n",
    "builder.add_node(\"joke\", joke_call)\n",
    "builder.add_node(\"router\", call_router)\n",
    "builder.add_edge(START, \"router\")\n",
    "builder.add_conditional_edges(\"router\", route_decision, {\"poem_call\":\"poem\", \"story_call\":\"story\", \"joke_call\":\"joke\"})\n",
    "builder.add_edge(\"poem\", END)\n",
    "builder.add_edge(\"story\", END)\n",
    "builder.add_edge(\"joke\", END)\n",
    "\n",
    "graph = builder.compile()\n",
    "\n",
    "display(Image(graph.get_graph().draw_mermaid_png()))"
   ]
  },
  {
   "cell_type": "code",
   "execution_count": 7,
   "id": "72344a34",
   "metadata": {},
   "outputs": [
    {
     "data": {
      "text/plain": [
       "{'input': 'Write me a joke about Agentic AI System',\n",
       " 'decision': 'joke',\n",
       " 'output': 'Why did the Agentic AI system fail its driving test? \\n\\nBecause it kept following the instructions of the road sign that said \"Yield to Pedestrians\" even when it was clearly in the right-of-way! It was too agentic! 😂  \\n\\n\\nLet me know if you\\'d like to hear another one! 🤖  \\n\\n'}"
      ]
     },
     "execution_count": 7,
     "metadata": {},
     "output_type": "execute_result"
    }
   ],
   "source": [
    "state = {\"input\":\"Write me a joke about Agentic AI System\"}\n",
    "result = graph.invoke(state)\n",
    "result"
   ]
  },
  {
   "cell_type": "code",
   "execution_count": null,
   "id": "6e0934fa",
   "metadata": {},
   "outputs": [],
   "source": []
  }
 ],
 "metadata": {
  "kernelspec": {
   "display_name": "Python 3",
   "language": "python",
   "name": "python3"
  },
  "language_info": {
   "codemirror_mode": {
    "name": "ipython",
    "version": 3
   },
   "file_extension": ".py",
   "mimetype": "text/x-python",
   "name": "python",
   "nbconvert_exporter": "python",
   "pygments_lexer": "ipython3",
   "version": "3.12.0"
  }
 },
 "nbformat": 4,
 "nbformat_minor": 5
}
