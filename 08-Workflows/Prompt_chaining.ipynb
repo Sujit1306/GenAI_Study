{
 "cells": [
  {
   "cell_type": "markdown",
   "id": "cf6cc782",
   "metadata": {},
   "source": [
    "# Steps to implement Prompt Chaining \n",
    "\n",
    "1. **Define the Task**: Break down the task into smaller sub-tasks. ex: Generating detailed report -> 'gather data', 'analyze data' and 'write summary'.\n",
    "\n",
    "2. **Create Nodes**: Each subtask becomes a node in LangGraph structure. A node could be a prompt that instructs the model to perform a specific action. ex: 'Summarize the following text'\n",
    "\n",
    "3. **Establish edges**: Edges define the sequence and dependencies between nodes. ex: output of 'gather data' node flows into 'analyze data' node.\n",
    "\n",
    "4. **Execute the Graph**: LangGraph processes the nodes in order, passing information along the edges. Model generates response step-by-step, refining the output as it progresses through the chain. \n",
    "\n",
    "5. **Iterate if needed**: LangGraph supports conditional logic and loops, so you can revisit earlier nodes or adjust the flow based on intermediate results.\n"
   ]
  },
  {
   "cell_type": "markdown",
   "id": "7f35ae74",
   "metadata": {},
   "source": []
  }
 ],
 "metadata": {
  "language_info": {
   "name": "python"
  }
 },
 "nbformat": 4,
 "nbformat_minor": 5
}
