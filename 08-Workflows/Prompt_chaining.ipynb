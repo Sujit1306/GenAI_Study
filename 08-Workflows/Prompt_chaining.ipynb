{
 "cells": [
  {
   "cell_type": "markdown",
   "id": "cf6cc782",
   "metadata": {},
   "source": [
    "# Steps to implement Prompt Chaining \n",
    "\n",
    "1. **Define the Task**: Break down the task into smaller sub-tasks. ex: Generating detailed report -> 'gather data', 'analyze data' and 'write summary'.\n",
    "\n",
    "2. **Create Nodes**: Each subtask becomes a node in LangGraph structure. A node could be a prompt that instructs the model to perform a specific action. ex: 'Summarize the following text'\n",
    "\n",
    "3. **Establish edges**: Edges define the sequence and dependencies between nodes. ex: output of 'gather data' node flows into 'analyze data' node.\n",
    "\n",
    "4. **Execute the Graph**: LangGraph processes the nodes in order, passing information along the edges. Model generates response step-by-step, refining the output as it progresses through the chain. \n",
    "\n",
    "5. **Iterate if needed**: LangGraph supports conditional logic and loops, so you can revisit earlier nodes or adjust the flow based on intermediate results.\n"
   ]
  },
  {
   "cell_type": "markdown",
   "id": "be849f40",
   "metadata": {},
   "source": [
    "### Usecase: Generate a Story\n",
    "* `Start`\n",
    "* `Node 1` will generate a story \n",
    "* Then we will apply a condition \n",
    "* If the story fails, `Node 1` will generate another story and try the condition\n",
    "* If the story passes, it proceeds to further nodes\n",
    "* `Node 2` will improve the story \n",
    "* `Node 3` will polish the story\n",
    "* `End`"
   ]
  },
  {
   "cell_type": "code",
   "execution_count": 2,
   "id": "a7a55021",
   "metadata": {},
   "outputs": [
    {
     "data": {
      "text/plain": [
       "AIMessage(content='Hello! 👋\\n\\nHow can I help you today? 😊\\n', additional_kwargs={}, response_metadata={'token_usage': {'completion_tokens': 15, 'prompt_tokens': 10, 'total_tokens': 25, 'completion_time': 0.027272727, 'prompt_time': 0.001172151, 'queue_time': 0.25092296399999997, 'total_time': 0.028444878}, 'model_name': 'gemma2-9b-it', 'system_fingerprint': 'fp_10c08bf97d', 'finish_reason': 'stop', 'logprobs': None}, id='run--7b15c70d-817f-49a4-8acc-6553214f0a29-0', usage_metadata={'input_tokens': 10, 'output_tokens': 15, 'total_tokens': 25})"
      ]
     },
     "execution_count": 2,
     "metadata": {},
     "output_type": "execute_result"
    }
   ],
   "source": [
    "import os\n",
    "from dotenv import load_dotenv\n",
    "load_dotenv()\n",
    "\n",
    "os.environ[\"GROQ_API_KEY\"] = os.getenv(\"GROQ_API_KEY\")\n",
    "\n",
    "from langchain_groq import ChatGroq\n",
    "llm = ChatGroq(model=\"gemma2-9b-it\")\n",
    "\n",
    "llm.invoke(\"Hello\")"
   ]
  },
  {
   "cell_type": "code",
   "execution_count": 10,
   "id": "407a5142",
   "metadata": {},
   "outputs": [],
   "source": [
    "from typing_extensions import TypedDict\n",
    "from langgraph.graph import StateGraph, START, END\n",
    "from IPython.display import display, Image\n",
    "from langchain_core.messages import HumanMessage, SystemMessage\n",
    "\n",
    "# graph state\n",
    "class State(TypedDict):\n",
    "    topic: str\n",
    "    story: str\n",
    "    improved_story: str\n",
    "    final_story: str\n",
    "\n",
    "# creating nodes\n",
    "def generate_story(state: State):\n",
    "    prompt = [\n",
    "        SystemMessage(content=f\"You are a helpful Story teller.\"),\n",
    "        HumanMessage(content=f\"Write a one sentence story premise about {state[\"topic\"]}\")\n",
    "    ]\n",
    "    msg = llm.invoke(prompt)\n",
    "    return {\"story\":msg.content}\n",
    "\n",
    "def check_conflict(state: State):\n",
    "    if \"?\" in state[\"story\"] or \"!\" in state[\"story\"]:\n",
    "        return \"fail\"\n",
    "    return \"pass\"\n",
    "\n",
    "def improve_story(state: State):\n",
    "    prompt = [\n",
    "        SystemMessage(content=f\"You are a helpful Literature assistant.\"),\n",
    "        HumanMessage(content=f\"Enhance this story premise with vivid details: {state[\"story\"]}\")\n",
    "    ]\n",
    "    msg = llm.invoke(prompt)\n",
    "    return {\"improved_story\":msg.content}\n",
    "\n",
    "def polish_story(state: State):\n",
    "    prompt = [\n",
    "        SystemMessage(content=f\"You are an expert Story writer.\"),\n",
    "        HumanMessage(content=f\"Generate a story by adding an unexpected twist to this story premise: {state[\"story\"]}\")\n",
    "    ]\n",
    "    msg = llm.invoke(prompt)\n",
    "    return {\"final_story\":msg.content}"
   ]
  },
  {
   "cell_type": "code",
   "execution_count": 11,
   "id": "a0f790af",
   "metadata": {},
   "outputs": [
    {
     "data": {
      "image/png": "[encoded data removed]",
      "text/plain": [
       "<IPython.core.display.Image object>"
      ]
     },
     "metadata": {},
     "output_type": "display_data"
    }
   ],
   "source": [
    "# build the graph\n",
    "graph = StateGraph(State)\n",
    "graph.add_node(\"Generate\", generate_story)\n",
    "graph.add_node(\"Improve\", improve_story)\n",
    "graph.add_node(\"Polish\", polish_story)\n",
    "\n",
    "# define the edges\n",
    "graph.add_edge(START, \"Generate\")\n",
    "graph.add_conditional_edges(\"Generate\", check_conflict, {\"pass\":\"Improve\", \"fail\":\"Generate\"})\n",
    "graph.add_edge(\"Improve\", \"Polish\")\n",
    "graph.add_edge(\"Polish\", END)\n",
    "\n",
    "# compile the graph\n",
    "compiled_graph = graph.compile()\n",
    "\n",
    "# display the graph\n",
    "display(Image(compiled_graph.get_graph().draw_mermaid_png()))"
   ]
  },
  {
   "cell_type": "code",
   "execution_count": 12,
   "id": "7805785b",
   "metadata": {},
   "outputs": [
    {
     "data": {
      "text/plain": [
       "{'topic': 'Alien Invasion',\n",
       " 'story': \"While celebrating a global unity festival, humanity's greatest scientific minds discover a message in the stars, not of peace, but of imminent invasion.  \\n\",\n",
       " 'improved_story': 'The Unity Festival pulsed with a vibrant kaleidoscope of life.  Every nation on Earth, from the sun-drenched shores of the Mediterranean to the snow-capped peaks of the Himalayas, had converged upon the sprawling metropolis built on the reclaimed banks of the Mississippi.  A symphony of languages, a tapestry of customs, and a chorus of laughter painted a picture of a world united.  Giant holographic projections of Earth danced in the sky, showcasing the planet\\'s interconnectedness.  \\n\\nIn the heart of this joyous chaos, nestled amidst the throngs of revelers, stood the Zenith Observatory – a gleaming monument to humanity\\'s scientific prowess.  Inside, the world\\'s brightest minds, draped in the vibrant attire of their respective cultures, huddled around a massive, pulsating screen.  They were not there to celebrate, but to observe, their eyes glued to the swirling nebulae captured by the observatory\\'s most powerful telescope.\\n\\nDr. Anya Sharma, a renowned astrophysicist from India, gripped the edge of her chair, her breath catching in her throat.  \"There,\" she whispered, pointing to a sudden, sharp flicker in the starlight.  \"It\\'s repeating. A signal.\"\\n\\nThe signal, a complex series of pulses, was unlike anything they had ever encountered.  It wasn\\'t random; it was structured, deliberate. As the signal was decoded, a chill swept through the room.  It wasn\\'t a message of peace, but a chilling declaration of war.  \\n\\nAn ominous, synthesized voice echoed through the observatory, its tone devoid of emotion, its words brutally clear: \"You have been observed. Your resources are desired. Prepare for assimilation.\"\\n\\n\\nThe screen flickered, then went dark, leaving the gathered scientists in stunned silence.  The joyful celebrations outside the observatory seemed a distant memory, a naive dream shattered by the cold, hard reality of the message from the stars.  Humanity\\'s unity, forged in the crucible of shared hope and aspiration, was about to be tested by an enemy unlike any it had ever faced. \\n\\n',\n",
       " 'final_story': 'The Unity Festival pulsed with a vibrant energy. Under a sky ablaze with fireworks mimicking constellations, people from every corner of the globe danced, laughed, and sang. It was the culmination of a century of progress, a celebration of humanity\\'s triumph over division. In the heart of this joyous occasion, a hush fell as Dr. Anya Sharma, the world\\'s leading astrophysicist, took to the stage.\\n\\n\"For years,\" she announced, her voice echoing through the massive crowd, \"we\\'ve looked to the stars, searching for signs of life, for connection. Tonight, we\\'ve found it.\"\\n\\nA projector screen ignited, revealing a breathtaking image: a complex, intricate pattern woven into the fabric of the cosmos.\\n\\n\"This,\" Dr. Sharma declared, her eyes shining with awe, \"is a message. A message from another civilization.\"\\n\\nA collective gasp rippled through the crowd. The world held its breath. Was this the dawn of a new era, of interstellar diplomacy and shared knowledge?\\n\\nDr. Sharma continued, translating the complex mathematical code displayed on the screen. \"It\\'s a greeting, a... an invitation.\"\\n\\nShe paused, a flicker of uncertainty crossing her face. \"But... it\\'s also a warning.\"\\n\\nThe celebratory mood evaporated, replaced by a chilling unease.\\n\\nThe translated message, revealed in stark black letters, read:\\n\\n\"We come in peace. We come to reclaim what is rightfully ours.\"\\n\\nA collective shiver ran down the spines of the audience. Anya, her face pale, explained further. The message detailed an ancient connection between Earth and the civilization that sent it, a connection forged through a shared progenitor species. This civilization, however, had long since abandoned Earth, believing it to be unworthy. Now, they were returning, claiming Earth as their own.\\n\\nThe twist was not in the invasion itself, but in its reason. The message was not just a declaration of war, but a claim of ownership. It was not about conquest, but about rediscovering a \"lost\" possession.\\n\\nThe world plunged into chaos. The celebration of unity quickly morphed into an anxious scramble for survival. Global alliances were forged, military strategies were devised, and an unprecedented wave of fear swept across the planet.\\n\\nBut amidst the panic, Anya knew there had to be another way. The message, despite its chilling implications, offered a glimmer of hope:\\n\\n\"We will accept your surrender.\"\\n\\nPerhaps, she thought, there was a way to negotiate, to convince them that Earth was no longer the barren rock they had left behind, but a thriving civilization worthy of respect.\\n\\nThe fate of humanity now rested on Anya\\'s shoulders, on her ability to bridge the gap between two civilizations, separated by time and circumstance, and find a way to coexist. The Unity Festival, once a symbol of hope, had become a stark reminder of the fragility of peace. But Anya refused to give up.  She believed, even in the face of impending doom, that unity could still prevail.\\n\\n\\n\\n'}"
      ]
     },
     "execution_count": 12,
     "metadata": {},
     "output_type": "execute_result"
    }
   ],
   "source": [
    "# Run the graph\n",
    "state = {\"topic\":\"Alien Invasion\"}\n",
    "result = compiled_graph.invoke(state)\n",
    "result"
   ]
  },
  {
   "cell_type": "code",
   "execution_count": 13,
   "id": "6002a816",
   "metadata": {},
   "outputs": [
    {
     "name": "stdout",
     "output_type": "stream",
     "text": [
      "Story\n",
      "While celebrating a global unity festival, humanity's greatest scientific minds discover a message in the stars, not of peace, but of imminent invasion.  \n",
      "\n",
      "Improved Story\n",
      "The Unity Festival pulsed with a vibrant kaleidoscope of life.  Every nation on Earth, from the sun-drenched shores of the Mediterranean to the snow-capped peaks of the Himalayas, had converged upon the sprawling metropolis built on the reclaimed banks of the Mississippi.  A symphony of languages, a tapestry of customs, and a chorus of laughter painted a picture of a world united.  Giant holographic projections of Earth danced in the sky, showcasing the planet's interconnectedness.  \n",
      "\n",
      "In the heart of this joyous chaos, nestled amidst the throngs of revelers, stood the Zenith Observatory – a gleaming monument to humanity's scientific prowess.  Inside, the world's brightest minds, draped in the vibrant attire of their respective cultures, huddled around a massive, pulsating screen.  They were not there to celebrate, but to observe, their eyes glued to the swirling nebulae captured by the observatory's most powerful telescope.\n",
      "\n",
      "Dr. Anya Sharma, a renowned astrophysicist from India, gripped the edge of her chair, her breath catching in her throat.  \"There,\" she whispered, pointing to a sudden, sharp flicker in the starlight.  \"It's repeating. A signal.\"\n",
      "\n",
      "The signal, a complex series of pulses, was unlike anything they had ever encountered.  It wasn't random; it was structured, deliberate. As the signal was decoded, a chill swept through the room.  It wasn't a message of peace, but a chilling declaration of war.  \n",
      "\n",
      "An ominous, synthesized voice echoed through the observatory, its tone devoid of emotion, its words brutally clear: \"You have been observed. Your resources are desired. Prepare for assimilation.\"\n",
      "\n",
      "\n",
      "The screen flickered, then went dark, leaving the gathered scientists in stunned silence.  The joyful celebrations outside the observatory seemed a distant memory, a naive dream shattered by the cold, hard reality of the message from the stars.  Humanity's unity, forged in the crucible of shared hope and aspiration, was about to be tested by an enemy unlike any it had ever faced. \n",
      "\n",
      "\n",
      "Final Story\n",
      "The Unity Festival pulsed with a vibrant energy. Under a sky ablaze with fireworks mimicking constellations, people from every corner of the globe danced, laughed, and sang. It was the culmination of a century of progress, a celebration of humanity's triumph over division. In the heart of this joyous occasion, a hush fell as Dr. Anya Sharma, the world's leading astrophysicist, took to the stage.\n",
      "\n",
      "\"For years,\" she announced, her voice echoing through the massive crowd, \"we've looked to the stars, searching for signs of life, for connection. Tonight, we've found it.\"\n",
      "\n",
      "A projector screen ignited, revealing a breathtaking image: a complex, intricate pattern woven into the fabric of the cosmos.\n",
      "\n",
      "\"This,\" Dr. Sharma declared, her eyes shining with awe, \"is a message. A message from another civilization.\"\n",
      "\n",
      "A collective gasp rippled through the crowd. The world held its breath. Was this the dawn of a new era, of interstellar diplomacy and shared knowledge?\n",
      "\n",
      "Dr. Sharma continued, translating the complex mathematical code displayed on the screen. \"It's a greeting, a... an invitation.\"\n",
      "\n",
      "She paused, a flicker of uncertainty crossing her face. \"But... it's also a warning.\"\n",
      "\n",
      "The celebratory mood evaporated, replaced by a chilling unease.\n",
      "\n",
      "The translated message, revealed in stark black letters, read:\n",
      "\n",
      "\"We come in peace. We come to reclaim what is rightfully ours.\"\n",
      "\n",
      "A collective shiver ran down the spines of the audience. Anya, her face pale, explained further. The message detailed an ancient connection between Earth and the civilization that sent it, a connection forged through a shared progenitor species. This civilization, however, had long since abandoned Earth, believing it to be unworthy. Now, they were returning, claiming Earth as their own.\n",
      "\n",
      "The twist was not in the invasion itself, but in its reason. The message was not just a declaration of war, but a claim of ownership. It was not about conquest, but about rediscovering a \"lost\" possession.\n",
      "\n",
      "The world plunged into chaos. The celebration of unity quickly morphed into an anxious scramble for survival. Global alliances were forged, military strategies were devised, and an unprecedented wave of fear swept across the planet.\n",
      "\n",
      "But amidst the panic, Anya knew there had to be another way. The message, despite its chilling implications, offered a glimmer of hope:\n",
      "\n",
      "\"We will accept your surrender.\"\n",
      "\n",
      "Perhaps, she thought, there was a way to negotiate, to convince them that Earth was no longer the barren rock they had left behind, but a thriving civilization worthy of respect.\n",
      "\n",
      "The fate of humanity now rested on Anya's shoulders, on her ability to bridge the gap between two civilizations, separated by time and circumstance, and find a way to coexist. The Unity Festival, once a symbol of hope, had become a stark reminder of the fragility of peace. But Anya refused to give up.  She believed, even in the face of impending doom, that unity could still prevail.\n",
      "\n",
      "\n",
      "\n",
      "\n"
     ]
    }
   ],
   "source": [
    "print(\"Story\")\n",
    "print(result[\"story\"])\n",
    "print(\"Improved Story\")\n",
    "print(result[\"improved_story\"])\n",
    "print(\"Final Story\")\n",
    "print(result[\"final_story\"])"
   ]
  },
  {
   "cell_type": "code",
   "execution_count": null,
   "id": "12d993be",
   "metadata": {},
   "outputs": [],
   "source": []
  }
 ],
 "metadata": {
  "kernelspec": {
   "display_name": "Python 3",
   "language": "python",
   "name": "python3"
  },
  "language_info": {
   "codemirror_mode": {
    "name": "ipython",
    "version": 3
   },
   "file_extension": ".py",
   "mimetype": "text/x-python",
   "name": "python",
   "nbconvert_exporter": "python",
   "pygments_lexer": "ipython3",
   "version": "3.12.0"
  }
 },
 "nbformat": 4,
 "nbformat_minor": 5
}
