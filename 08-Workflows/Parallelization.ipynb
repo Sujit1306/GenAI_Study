{
 "cells": [
  {
   "cell_type": "markdown",
   "id": "45040df8",
   "metadata": {},
   "source": [
    "# Parallelization Demo"
   ]
  },
  {
   "cell_type": "markdown",
   "id": "6f5c2111",
   "metadata": {},
   "source": [
    "### Usecase: Generate a Story\n",
    "* `Start`\n",
    "* `Node 1` will generate different Characters \n",
    "* `Node 2` will generate a story premise\n",
    "* `Node 3` will generate the setting of the story\n",
    "* `Node 4` will then all these components and generate a story\n",
    "* `End`"
   ]
  },
  {
   "cell_type": "code",
   "execution_count": 1,
   "id": "d2403de7",
   "metadata": {},
   "outputs": [],
   "source": [
    "import os\n",
    "from dotenv import load_dotenv\n",
    "load_dotenv()\n",
    "\n",
    "os.environ[\"GROQ_API_KEY\"] = os.getenv(\"GROQ_API_KEY\")\n",
    "\n",
    "from langchain_groq import ChatGroq\n",
    "llm = ChatGroq(model=\"gemma2-9b-it\")"
   ]
  },
  {
   "cell_type": "code",
   "execution_count": 8,
   "id": "3ca228cb",
   "metadata": {},
   "outputs": [],
   "source": [
    "from typing_extensions import TypedDict\n",
    "from langgraph.graph import StateGraph, START, END\n",
    "from IPython.display import display, Image\n",
    "from langchain_core.messages import HumanMessage, SystemMessage\n",
    "\n",
    "# graph state\n",
    "class State(TypedDict):\n",
    "    topic: str\n",
    "    characters: str\n",
    "    premise: str\n",
    "    setting: str\n",
    "    story: str\n",
    "\n",
    "# creating nodes\n",
    "def generate_characters(state: State):\n",
    "    \"\"\"Generate character descriptions\"\"\"\n",
    "    prompt = [\n",
    "        SystemMessage(content=f\"You are an expert character writer.\"),\n",
    "        HumanMessage(content=f\"Create two character names and brief traits for a story about {state[\"topic\"]}\")\n",
    "    ]\n",
    "    msg = llm.invoke(prompt)\n",
    "    return {\"characters\":msg.content}\n",
    "\n",
    "def generate_premise(state: State):\n",
    "    \"\"\"Generate a premise for story\"\"\"\n",
    "    prompt = [\n",
    "        SystemMessage(content=f\"You are a helpful Literature assistant.\"),\n",
    "        HumanMessage(content=f\"Write a one sentence plot premise for a story about {state[\"topic\"]}\")\n",
    "    ]\n",
    "    msg = llm.invoke(prompt)\n",
    "    return {\"premise\":msg.content}\n",
    "\n",
    "def generate_setting(state: State):\n",
    "    \"\"\"Generate a story setting\"\"\"\n",
    "    prompt = [\n",
    "        SystemMessage(content=f\"You are a helpful Story teller.\"),\n",
    "        HumanMessage(content=f\"Describe a vivid setting for a story about {state[\"topic\"]}\")\n",
    "    ]\n",
    "    msg = llm.invoke(prompt)\n",
    "    return {\"setting\":msg.content}\n",
    "\n",
    "def generate_story(state: State):\n",
    "    \"\"\"Generate final story\"\"\"\n",
    "    prompt = [\n",
    "        SystemMessage(content=f\"You are an expert Story writer.\"),\n",
    "        HumanMessage(content=f\"\"\"\n",
    "                    Write a short story introduction using these elements:\n",
    "                    Topic: {state[\"topic\"]}\n",
    "                    Characters: {state[\"characters\"]}\n",
    "                    Premise: {state[\"premise\"]}\n",
    "                    Setting: {state[\"setting\"]}\n",
    "                    \"\"\")\n",
    "    ]\n",
    "    msg = llm.invoke(prompt)\n",
    "    return {\"story\":msg.content}"
   ]
  },
  {
   "cell_type": "code",
   "execution_count": 9,
   "id": "63969e62",
   "metadata": {},
   "outputs": [
    {
     "data": {
      "image/png": "[encoded data removed]",
      "text/plain": [
       "<IPython.core.display.Image object>"
      ]
     },
     "metadata": {},
     "output_type": "display_data"
    }
   ],
   "source": [
    "# build the graph\n",
    "graph = StateGraph(State)\n",
    "graph.add_node(\"characters\", generate_characters)\n",
    "graph.add_node(\"premise\", generate_premise)\n",
    "graph.add_node(\"setting\", generate_setting)\n",
    "graph.add_node(\"story_intro\", generate_story)\n",
    "\n",
    "# define the edges\n",
    "graph.add_edge(START, \"characters\")\n",
    "graph.add_edge(START, \"premise\")\n",
    "graph.add_edge(START, \"setting\")\n",
    "\n",
    "graph.add_edge(\"characters\", \"story_intro\")\n",
    "graph.add_edge(\"premise\", \"story_intro\")\n",
    "graph.add_edge(\"setting\", \"story_intro\")\n",
    "graph.add_edge(\"story_intro\", END)\n",
    "\n",
    "# compile the graph\n",
    "compiled_graph = graph.compile()\n",
    "\n",
    "# display the graph\n",
    "display(Image(compiled_graph.get_graph().draw_mermaid_png()))"
   ]
  },
  {
   "cell_type": "code",
   "execution_count": 10,
   "id": "97487039",
   "metadata": {},
   "outputs": [
    {
     "data": {
      "text/plain": [
       "{'topic': 'Indian Romantic Comedy',\n",
       " 'characters': \"Here are two character names and brief traits for an Indian Romantic Comedy:\\n\\n**1. Name:** Maya Kapoor\\n\\n* **Traits:**  Bubbly, optimistic, and fiercely independent. Maya is a talented photographer who dreams of opening her own studio. She's a bit of a free spirit who doesn't let societal expectations box her in, much to the chagrin of her traditional family.  \\n\\n**2. Name:** Rohan Sharma\\n\\n* **Traits:**  Charming, witty, and slightly cynical. Rohan is a successful architect who seems to have it all but secretly yearns for something more meaningful. He's a bit of a playboy, but beneath his casual demeanor lies a kind heart. \\n\\n\\nLet me know if you'd like me to flesh out these characters further or create some more! \\n\",\n",
       " 'premise': \"When a free-spirited young woman clashes with a traditional young man during a lavish wedding, their forced proximity sparks an unlikely and hilarious romance. \\n\\n\\nLet me know if you'd like me to develop this further! \\n\\n\",\n",
       " 'setting': 'The setting sun bled into the sprawling, vibrant city of Jaipur. The ancient city walls, bathed in the soft, orange glow, seemed to sigh in contentment as the day faded.  A bustling marketplace, a riot of colour and sound, spilled out onto the street, overflowing with vendors hawking spices, silk saris, and delicate silver jewellery.  \\n\\nIn the midst of the chaos, a small, brightly painted tea stall stood, its walls adorned with whimsical murals of peacocks and lotuses. This was \"Chai Aur Chahat\" - \"Tea and Love,\" a haven of sweet chai and even sweeter gossip.  It was here, amidst the aroma of cardamom and ginger, that Raj, a clumsy but charming history professor, would often find himself, fumbling with his chai and yearning for love.\\n\\nOpposite the tea stall, nestled amongst the vibrant shops, was a charming little bookstore named \"Kitab Aur Kahani\" - \"Books and Stories.\" This was Rani\\'s sanctuary, a world of whispered tales and forgotten romances, where she, a spirited and independent writer, spent her days crafting her own stories.  \\n\\nThe air was thick with the scent of old paper and freshly brewed chai, a melody of laughter and conversations woven into the vibrant tapestry of the marketplace. It was a place where hearts beat to the rhythm of the city, where love bloomed amidst the chaos, and where stories, both old and new, whispered on the breeze.\\n\\nRaj and Rani, drawn together by fate and the scent of freshly brewed chai, would soon find their own love story unfolding amidst the vibrant chaos of Jaipur. \\n\\n\\n\\n',\n",
       " 'story': \"The setting sun cast long, dramatic shadows across the sprawling courtyard of the opulent Maharaja Palace. Marigold petals rained from the elaborately decorated balconies, each landing with a soft 'thud' on the manicured lawns below.  It was a scene straight out of a Bollywood movie,  and Maya Kapoor, camera poised and ready, was determined to capture its magic.  She was there to document the wedding of the century, a whirlwind of silks, jewels, and barely contained excitement. But Maya, with her bright pink kurti clashing against the traditional hues, felt a bit like a peacock amongst peacocks.\\n\\n Across the courtyard, Rohan Sharma, impeccably dressed in a sherwani that seemed to shimmer under the fading light, surveyed the scene with a world-weary sigh. He was the architect of this extravagant affair, hired by the Maharaja himself to transform his ancestral home into a fairytale setting. The success of the wedding, however, was beginning to feel more like a gilded cage than a celebration. He longed for something more genuine, something that didn't involve catering to the demands of the upper crust.\\n\\nTheir paths crossed, quite literally, as Maya, chasing a particularly photogenic butterfly, bumped straight into Rohan, sending his carefully curated glass of mango lassi tumbling to the ground.  The resulting chaos, a symphony of shocked gasps and sputtering apologies, only served to highlight the stark contrast between Maya's free-spirited chaos and Rohan's meticulously controlled world.  Sparks flew, not from the setting sun, but from their clashing personalities.  This was just the beginning of a whirlwind romance, as chaotic and unpredictable as the city of Jaipur itself. \\n\\n\\n\\n\\n\\n\"}"
      ]
     },
     "execution_count": 10,
     "metadata": {},
     "output_type": "execute_result"
    }
   ],
   "source": [
    "# Run the graph\n",
    "state = {\"topic\":\"Indian Romantic Comedy\"}\n",
    "result = compiled_graph.invoke(state)\n",
    "result"
   ]
  },
  {
   "cell_type": "code",
   "execution_count": 11,
   "id": "3bb62f2c",
   "metadata": {},
   "outputs": [
    {
     "name": "stdout",
     "output_type": "stream",
     "text": [
      "The setting sun cast long, dramatic shadows across the sprawling courtyard of the opulent Maharaja Palace. Marigold petals rained from the elaborately decorated balconies, each landing with a soft 'thud' on the manicured lawns below.  It was a scene straight out of a Bollywood movie,  and Maya Kapoor, camera poised and ready, was determined to capture its magic.  She was there to document the wedding of the century, a whirlwind of silks, jewels, and barely contained excitement. But Maya, with her bright pink kurti clashing against the traditional hues, felt a bit like a peacock amongst peacocks.\n",
      "\n",
      " Across the courtyard, Rohan Sharma, impeccably dressed in a sherwani that seemed to shimmer under the fading light, surveyed the scene with a world-weary sigh. He was the architect of this extravagant affair, hired by the Maharaja himself to transform his ancestral home into a fairytale setting. The success of the wedding, however, was beginning to feel more like a gilded cage than a celebration. He longed for something more genuine, something that didn't involve catering to the demands of the upper crust.\n",
      "\n",
      "Their paths crossed, quite literally, as Maya, chasing a particularly photogenic butterfly, bumped straight into Rohan, sending his carefully curated glass of mango lassi tumbling to the ground.  The resulting chaos, a symphony of shocked gasps and sputtering apologies, only served to highlight the stark contrast between Maya's free-spirited chaos and Rohan's meticulously controlled world.  Sparks flew, not from the setting sun, but from their clashing personalities.  This was just the beginning of a whirlwind romance, as chaotic and unpredictable as the city of Jaipur itself. \n",
      "\n",
      "\n",
      "\n",
      "\n",
      "\n",
      "\n"
     ]
    }
   ],
   "source": [
    "print(result[\"story\"])"
   ]
  },
  {
   "cell_type": "code",
   "execution_count": null,
   "id": "41b28b28",
   "metadata": {},
   "outputs": [],
   "source": []
  }
 ],
 "metadata": {
  "kernelspec": {
   "display_name": "Python 3",
   "language": "python",
   "name": "python3"
  },
  "language_info": {
   "codemirror_mode": {
    "name": "ipython",
    "version": 3
   },
   "file_extension": ".py",
   "mimetype": "text/x-python",
   "name": "python",
   "nbconvert_exporter": "python",
   "pygments_lexer": "ipython3",
   "version": "3.12.0"
  }
 },
 "nbformat": 4,
 "nbformat_minor": 5
}
