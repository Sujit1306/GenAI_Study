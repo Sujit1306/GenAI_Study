{
 "cells": [
  {
   "cell_type": "markdown",
   "id": "d4354c64",
   "metadata": {},
   "source": [
    "# Workflows\n",
    "Workflows are super important to implement some of the use cases.<br>\n",
    "When you're designing a workflow, you can follow some specific patterns in order to solve that complex problem.<br>\n"
   ]
  },
  {
   "cell_type": "markdown",
   "id": "c89e82a0",
   "metadata": {},
   "source": [
    "## 1. Prompt Chaining"
   ]
  },
  {
   "cell_type": "markdown",
   "id": "3288bef1",
   "metadata": {},
   "source": [
    "* Prompt chaining is a technique in NLP where `multiple prompts are sequenced together` to guide a model through a `complex task`.\n",
    "\n",
    "* It breaks down the task into smaller, manageable steps, with each step building on previous one.\n",
    "\n",
    "* Improves `accuracy`, `coherence` and `control`.\n"
   ]
  },
  {
   "cell_type": "markdown",
   "id": "082d76ca",
   "metadata": {},
   "source": [
    "### Usecase: Generate a Story\n",
    "* `Start`\n",
    "* `Node 1` will generate a story \n",
    "* Then we will apply a condition \n",
    "* If the story fails, `Node 1` will generate another story and try the condition\n",
    "* If the story passes, it proceeds to further nodes\n",
    "* `Node 2` will improve the story \n",
    "* `Node 3` will polish the story\n",
    "* `End`"
   ]
  },
  {
   "cell_type": "markdown",
   "id": "cc5f69b1",
   "metadata": {},
   "source": []
  }
 ],
 "metadata": {
  "language_info": {
   "name": "python"
  }
 },
 "nbformat": 4,
 "nbformat_minor": 5
}
