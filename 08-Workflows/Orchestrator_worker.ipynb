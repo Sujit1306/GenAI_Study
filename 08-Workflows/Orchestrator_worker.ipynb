{
 "cells": [
  {
   "cell_type": "markdown",
   "id": "298e1173",
   "metadata": {},
   "source": [
    "# Orchestrator - Worker Demo"
   ]
  },
  {
   "cell_type": "markdown",
   "id": "d47c0ff3",
   "metadata": {},
   "source": [
    "### Usecase: Blog Generation\n",
    "* `START`\n",
    "* `Orchestrator` will design entire Report with sections\n",
    "* For every section, it will asign a worker\n",
    "* Dynamically: section 1 to `worker 1`, section 2 to `worker 2` etc.\n",
    "* When all work is done, `Synthesizer` will combine all results\n",
    "* `END`"
   ]
  },
  {
   "cell_type": "code",
   "execution_count": 1,
   "id": "d9c327ce",
   "metadata": {},
   "outputs": [],
   "source": [
    "import os\n",
    "from dotenv import load_dotenv\n",
    "load_dotenv()\n",
    "\n",
    "os.environ[\"GROQ_API_KEY\"] = os.getenv(\"GROQ_API_KEY\")\n",
    "\n",
    "from langchain_groq import ChatGroq\n",
    "llm = ChatGroq(model=\"gemma2-9b-it\")"
   ]
  },
  {
   "cell_type": "code",
   "execution_count": 2,
   "id": "6c52b727",
   "metadata": {},
   "outputs": [],
   "source": [
    "from typing import Annotated, List\n",
    "from pydantic import BaseModel, Field\n",
    "from typing_extensions import Literal, TypedDict\n",
    "from langchain_core.messages import HumanMessage, SystemMessage\n",
    "import operator"
   ]
  },
  {
   "cell_type": "code",
   "execution_count": 4,
   "id": "72888793",
   "metadata": {},
   "outputs": [],
   "source": [
    "# This is the schema we want our LLMs to give output in\n",
    "class section(BaseModel):\n",
    "    name : str = Field(description = \"Name for this section of the report\")\n",
    "    description: str = Field(description = \"Brief overview of the main topics and concepts of this section\")\n",
    "\n",
    "class sections(BaseModel):\n",
    "    sections: List[section] = Field(description = \"Sections of the report\")\n",
    "\n",
    "# Augment the schema with structured output\n",
    "planner = llm.with_structured_output(sections)"
   ]
  },
  {
   "cell_type": "markdown",
   "id": "6e56626b",
   "metadata": {},
   "source": [
    "### Creating workers Dynamically in LangGraph\n",
    "Because Orchestrator-worker workflows are common, LangGraph has `Send API` to support it. <br>\n",
    "It lets you dynamically create worker nodes and send each one a specific input.<br>\n",
    "Each worker has its `own state` and all worker outputs are written to a `shared state key`, accessible to orchestrator graph.<br>\n",
    "Orchestrator then combines all worker outputs and synthesizes them into a `final output`.\n"
   ]
  },
  {
   "cell_type": "code",
   "execution_count": 7,
   "id": "9ea049aa",
   "metadata": {},
   "outputs": [],
   "source": [
    "from langgraph.constants import Send\n",
    "\n",
    "# graph state\n",
    "class State(TypedDict):\n",
    "    topic: str                                          # Report topic \n",
    "    sections: list[section]                             # List of all report sections\n",
    "    completed_sections: Annotated[list, operator.add]   # All workers write to this key in parallel\n",
    "    final_report: str                                   # Final report\n",
    "\n",
    "# worker state\n",
    "class WorkerState(TypedDict):\n",
    "    section: str\n",
    "    completed_sections: Annotated[list, operator.add]"
   ]
  },
  {
   "cell_type": "code",
   "execution_count": 8,
   "id": "7dec79e8",
   "metadata": {},
   "outputs": [],
   "source": [
    "def orchestrator(state: State):\n",
    "    \"\"\"Orchestrator that generates a plan for the report\"\"\"\n",
    "\n",
    "    # Generate Queries\n",
    "    report_sections = planner.invoke(\n",
    "        [\n",
    "            SystemMessage(content = \"Generate a plan for the report.\"),\n",
    "            HumanMessage(content = f\"Here is the report topic: {state[\"topic\"]}\")\n",
    "        ]\n",
    "    )\n",
    "\n",
    "    print(\"Report Sections: \", report_sections)\n",
    "    return {\"sections\": report_sections.sections}\n",
    "    "
   ]
  },
  {
   "cell_type": "code",
   "execution_count": null,
   "id": "6b07a9af",
   "metadata": {},
   "outputs": [],
   "source": [
    "def llm_call(state: WorkerState):\n",
    "    \"\"\"Worker that writes a section of the report\"\"\"\n",
    "\n",
    "    # Generate Section\n",
    "    section = llm.invoke(\n",
    "        [\n",
    "            SystemMessage(content = \"write a report section following the provided name and description. Include no preamble for each section. Use markdown formatting.\"),\n",
    "            HumanMessage(content = f\"here is the section name: {state[\"section\"].name}, and description: {state[\"section\"].description}\"),\n",
    "        ]\n",
    "    )\n",
    "    # write the updates section to completed sections\n",
    "    return {\"completed_sections\":[section.content]}"
   ]
  },
  {
   "cell_type": "code",
   "execution_count": 11,
   "id": "09d683de",
   "metadata": {},
   "outputs": [],
   "source": [
    "# conditional edge function to create llm_call workers that each write a section of the report\n",
    "def assign_workers(state: State):\n",
    "    \"\"\"Assign a worker to each section in the plan\"\"\"\n",
    "\n",
    "# kick off section writing in parallel via Send() API\n",
    "    return [Send(\"llm_call\", {\"section\": s}) for s in state[\"sections\"]]"
   ]
  },
  {
   "cell_type": "code",
   "execution_count": 12,
   "id": "c1250f85",
   "metadata": {},
   "outputs": [],
   "source": [
    "def synthesizer(state: State):\n",
    "    \"\"\"Synthesize full report from the sections\"\"\"\n",
    "\n",
    "    # List of completed sections\n",
    "    completed_sections = state[\"completed_sections\"]\n",
    "\n",
    "    # Format completed section to str to use as context for final sections\n",
    "    completed_report_sections = \"\\n\\n---\\n\\n\".join(completed_sections)\n",
    "\n",
    "    return {\"final_report\": completed_report_sections}"
   ]
  },
  {
   "cell_type": "code",
   "execution_count": 13,
   "id": "72642a0b",
   "metadata": {},
   "outputs": [
    {
     "data": {
      "image/png": "[encoded data removed]",
      "text/plain": [
       "<IPython.core.display.Image object>"
      ]
     },
     "metadata": {},
     "output_type": "display_data"
    }
   ],
   "source": [
    "from langgraph.graph import StateGraph, START, END\n",
    "from IPython.display import display, Image\n",
    "\n",
    "builder = StateGraph(State)\n",
    "\n",
    "builder.add_node(\"orchestrator\", orchestrator)\n",
    "builder.add_node(\"llm_call\", llm_call)\n",
    "builder.add_node(\"synthesizer\", synthesizer)\n",
    "\n",
    "builder.add_edge(START, \"orchestrator\")\n",
    "builder.add_conditional_edges(\"orchestrator\", assign_workers, [\"llm_call\"])\n",
    "builder.add_edge(\"llm_call\", \"synthesizer\")\n",
    "builder.add_edge(\"synthesizer\", END)\n",
    "\n",
    "graph = builder.compile()\n",
    "\n",
    "display(Image(graph.get_graph().draw_mermaid_png()))"
   ]
  },
  {
   "cell_type": "code",
   "execution_count": 14,
   "id": "3b9f9ba0",
   "metadata": {},
   "outputs": [
    {
     "name": "stdout",
     "output_type": "stream",
     "text": [
      "Report Sections:  sections=[section(name='Introduction', description='An overview of deep-sea tourism, its growing popularity, and the unique challenges it presents.'), section(name='Ecological Impact', description='Exploring the potential effects of deep-sea tourism on fragile marine ecosystems and biodiversity.'), section(name='Technological Advancements', description='Highlighting the latest technologies enabling deep-sea exploration and their role in sustainable tourism.'), section(name='Economic Opportunities', description='Examining the economic benefits of deep-sea tourism for coastal communities and developing nations.'), section(name='Ethical Considerations', description='Discussing the ethical dilemmas associated with deep-sea tourism, such as animal welfare and environmental responsibility.'), section(name='Future Prospects', description='Looking ahead at the future of deep-sea tourism, considering its potential for growth, sustainability, and responsible exploration.')]\n"
     ]
    },
    {
     "data": {
      "text/markdown": [
       "## Introduction\n",
       "\n",
       "Deep-sea tourism, a relatively nascent industry, is experiencing a surge in popularity.  The allure of exploring the mysterious and largely unexplored depths of the ocean captivates adventurers and scientists alike. \n",
       "\n",
       "This growing interest, however, presents unique challenges.  The extreme pressure, darkness, and cold of the deep sea require specialized equipment and expertise, making deep-sea tourism inherently risky.  Furthermore, the fragile and delicate nature of deep-sea ecosystems demands responsible and sustainable practices to minimize environmental impact. \n",
       "\n",
       "\n",
       "---\n",
       "\n",
       "## Ecological Impact\n",
       "\n",
       "Deep-sea tourism, while offering unique experiences, presents potential risks to the delicate balance of marine ecosystems. \n",
       "\n",
       "Submersibles and other vessels used in deep-sea tourism can disturb sediment and create noise pollution that can disorient and stress marine life. \n",
       "\n",
       "The introduction of foreign materials, such as sunscreen and waste, can have harmful consequences for deep-sea organisms. \n",
       "\n",
       "Furthermore, direct contact between tourists and marine species, even seemingly harmless interactions, can damage sensitive habitats and disrupt natural behaviors.\n",
       "\n",
       "The potential for invasive species introduction through tourism equipment and ballast water is also a concern. \n",
       "\n",
       "Mitigating these risks requires careful planning, strict regulations, and responsible visitor practices to minimize the ecological footprint of deep-sea tourism and ensure the long-term health of these vulnerable environments. \n",
       "\n",
       "\n",
       "\n",
       "\n",
       "---\n",
       "\n",
       "## Technological Advancements\n",
       "\n",
       "Remotely Operated Vehicles (ROVs) have revolutionized deep-sea exploration, allowing scientists and researchers to observe and interact with marine life in extreme environments without risking human lives. Equipped with high-definition cameras, manipulator arms, and various sensors, ROVs provide real-time data and stunning visuals, enhancing our understanding of the deep ocean and its inhabitants.  \n",
       "\n",
       "Autonomous Underwater Vehicles (AUVs) offer another significant advancement, capable of navigating and collecting data independently.  These sophisticated robots can map vast areas of the seafloor, monitor water quality, and track marine species, contributing to comprehensive environmental assessments crucial for sustainable tourism planning. \n",
       "\n",
       "Advanced sonar technology plays a vital role in deep-sea mapping and navigation.  High-resolution sonar systems generate detailed images of the seabed, revealing underwater topography, geological features, and potential sites of interest for tourists.  \n",
       "\n",
       "Underwater communication systems have improved significantly, enabling real-time data transfer and communication between surface vessels, ROVs, and AUVs. This enhances coordination and safety during deep-sea exploration and ensures that tourists have access to reliable and timely information. \n",
       "\n",
       "The development of bioluminescent sensors and biomimicry technologies offers exciting possibilities for sustainable tourism.  Bioluminescent sensors can illuminate the depths, reducing the need for harmful artificial lighting that disrupts marine life. Biomimicry-inspired designs, such as underwater habitats and transportation systems, minimize environmental impact and offer unique and immersive experiences for tourists.\n",
       "\n",
       "\n",
       "\n",
       "\n",
       "---\n",
       "\n",
       "## Economic Opportunities\n",
       "\n",
       "Deep-sea tourism presents a significant opportunity to stimulate economic growth in coastal communities and developing nations. \n",
       "\n",
       "**Job Creation:** The industry can create a wide range of jobs, from tour guides and marine biologists to boat operators, maintenance staff, and hospitality workers. This can provide much-needed employment opportunities in areas with limited economic diversification.\n",
       "\n",
       "**Revenue Generation:**  Deep-sea tourism can generate substantial revenue through ticket sales, equipment rentals, and ancillary services like accommodation, dining, and souvenirs. This revenue can be reinvested in local infrastructure, education, and healthcare.\n",
       "\n",
       "**Diversification of Economies:**  By offering a unique and high-value tourism product, deep-sea tourism can help diversify local economies, reducing reliance on traditional industries like fishing or agriculture, which can be vulnerable to natural disasters or market fluctuations.\n",
       "\n",
       "**Community Empowerment:**  Local communities can be actively involved in the development and operation of deep-sea tourism ventures, giving them ownership and control over their resources and economic benefits.\n",
       "\n",
       "**Boosting Local Businesses:**  The influx of tourists can benefit local businesses, including restaurants, shops, and transportation services, leading to increased economic activity in the region.\n",
       "\n",
       "\n",
       "It is crucial to note that the realization of these economic benefits depends on responsible and sustainable development practices.  Careful planning, environmental protection, and equitable distribution of profits are essential to ensure that deep-sea tourism contributes to long-term prosperity for coastal communities and developing nations.\n",
       "\n",
       "\n",
       "---\n",
       "\n",
       "## Ethical Considerations\n",
       "\n",
       "Deep-sea tourism presents several ethical dilemmas that require careful consideration.  \n",
       "\n",
       "**Animal Welfare:**\n",
       "\n",
       "The potential impact of tourism on deep-sea ecosystems and their inhabitants is a major concern.  While regulations exist to minimize disturbance, the presence of vessels, submersibles, and human observers can still stress and displace marine life. \n",
       "\n",
       "* **Disturbance and Habitat Degradation:**  The physical presence of tourists and equipment can disrupt delicate deep-sea habitats, potentially damaging fragile ecosystems and affecting the organisms that rely on them.\n",
       "* **Behavioral Change:**  Animals may alter their natural behaviors in response to human presence, such as avoiding feeding grounds or altering migration patterns. This can have cascading effects on the entire ecosystem.\n",
       "* **Noise Pollution:**  The noise generated by submersibles and other equipment can travel long distances underwater, interfering with marine animal communication, navigation, and feeding behaviors.\n",
       "\n",
       "**Environmental Responsibility:**\n",
       "\n",
       "Deep-sea tourism also raises concerns about the environmental footprint of the industry.\n",
       "\n",
       "* **Waste Management:**  Disposal of waste from vessels and submersibles poses a risk to deep-sea environments.  Proper waste management systems are crucial to prevent pollution.\n",
       "* **Carbon Emissions:**  The transportation of tourists and equipment contributes to greenhouse gas emissions, exacerbating climate change, which already poses significant threats to deep-sea ecosystems.\n",
       "* **Introduction of Invasive Species:**  Unintentional introduction of non-native species through ballast water or equipment can have devastating consequences for deep-sea biodiversity.\n",
       "\n",
       "\n",
       "Balancing the potential benefits of deep-sea tourism with the ethical considerations is essential. Implementing strict regulations, promoting responsible tourism practices, and investing in research to understand the impacts are crucial steps towards ensuring the long-term sustainability of these fragile ecosystems.  \n",
       "\n",
       "\n",
       "---\n",
       "\n",
       "## Future Prospects\n",
       "\n",
       "Deep-sea tourism holds immense potential for growth, driven by increasing public interest in exploring the unknown and the allure of unique marine experiences. Technological advancements, such as improved submersibles and underwater robotics, will further enhance accessibility and safety, making exploration more feasible and appealing.  \n",
       "\n",
       "However, this burgeoning industry faces significant challenges related to sustainability and responsible exploration. \n",
       "\n",
       "* **Environmental Impact:** Minimizing disturbance to fragile deep-sea ecosystems is crucial. Careful planning, strict regulations, and the adoption of eco-friendly practices, such as minimizing noise pollution and waste generation, are essential to ensure the long-term health of these environments. \n",
       "* **Conservation:** Balancing tourism with the need for conservation requires careful management. Establishing protected areas, monitoring visitor impact, and supporting research initiatives will be vital for safeguarding deep-sea biodiversity.\n",
       "* **Ethical Considerations:**  Ensuring the ethical treatment of marine life and the preservation of cultural heritage sites are paramount.  \n",
       "\n",
       "Responsible tourism practices, including education and awareness campaigns, will be key to fostering a sense of stewardship and promoting sustainable exploration of the deep sea. By addressing these challenges proactively, deep-sea tourism can evolve into a responsible and sustainable industry that brings both economic benefits and scientific discoveries while preserving the wonders of the deep ocean for future generations. \n"
      ],
      "text/plain": [
       "<IPython.core.display.Markdown object>"
      ]
     },
     "execution_count": 14,
     "metadata": {},
     "output_type": "execute_result"
    }
   ],
   "source": [
    "from IPython.display import Markdown\n",
    "\n",
    "state = {\"topic\":\"Deep Sea Tourism\"}\n",
    "result = graph.invoke(state)\n",
    "Markdown(result[\"final_report\"])"
   ]
  },
  {
   "cell_type": "code",
   "execution_count": null,
   "id": "f3cc545e",
   "metadata": {},
   "outputs": [],
   "source": []
  }
 ],
 "metadata": {
  "kernelspec": {
   "display_name": "Python 3",
   "language": "python",
   "name": "python3"
  },
  "language_info": {
   "codemirror_mode": {
    "name": "ipython",
    "version": 3
   },
   "file_extension": ".py",
   "mimetype": "text/x-python",
   "name": "python",
   "nbconvert_exporter": "python",
   "pygments_lexer": "ipython3",
   "version": "3.12.0"
  }
 },
 "nbformat": 4,
 "nbformat_minor": 5
}
