{
 "cells": [
  {
   "cell_type": "markdown",
   "id": "954e1e27",
   "metadata": {},
   "source": [
    "# Pydantic Basics\n",
    "Creating and using Models <br>\n",
    "\n",
    "<ul>\n",
    "    <li>Foundation of <b>Data Validation</b> in Python</li>\n",
    "    <li>Validate data at Runtime</li>\n",
    "</ul>"
   ]
  },
  {
   "cell_type": "code",
   "execution_count": 2,
   "id": "6ad20c5f",
   "metadata": {},
   "outputs": [],
   "source": [
    "from pydantic import BaseModel"
   ]
  },
  {
   "cell_type": "code",
   "execution_count": 3,
   "id": "6cc43258",
   "metadata": {},
   "outputs": [
    {
     "name": "stdout",
     "output_type": "stream",
     "text": [
      "name='Sujit' age=21 city='Dharwad'\n"
     ]
    }
   ],
   "source": [
    "class person(BaseModel):\n",
    "    name: str\n",
    "    age: int\n",
    "    city: str\n",
    "\n",
    "P1 = person(name=\"Sujit\", age=\"21\", city=\"Dharwad\")\n",
    "print(P1)"
   ]
  },
  {
   "cell_type": "markdown",
   "id": "20d61a6d",
   "metadata": {},
   "source": [
    "### Model with Optional Fields:"
   ]
  },
  {
   "cell_type": "code",
   "execution_count": 5,
   "id": "fe1d4f1b",
   "metadata": {},
   "outputs": [],
   "source": [
    "from typing import Optional"
   ]
  },
  {
   "cell_type": "code",
   "execution_count": 7,
   "id": "7c045447",
   "metadata": {},
   "outputs": [
    {
     "name": "stdout",
     "output_type": "stream",
     "text": [
      "uid=210010051 name='Sujit' cpi=6.22 backlogs=None\n"
     ]
    }
   ],
   "source": [
    "class student(BaseModel):\n",
    "    uid: int\n",
    "    name: str\n",
    "    cpi: float\n",
    "    backlogs: Optional[str] = None      #Optional field with default value None\n",
    "\n",
    "S1 = student(uid=\"210010051\", name=\"Sujit\", cpi=\"6.22\")\n",
    "print(S1)"
   ]
  },
  {
   "cell_type": "markdown",
   "id": "bc5f5f4f",
   "metadata": {},
   "source": [
    "### Model with List as field:"
   ]
  },
  {
   "cell_type": "code",
   "execution_count": 9,
   "id": "f67dbb5f",
   "metadata": {},
   "outputs": [],
   "source": [
    "from typing import List"
   ]
  },
  {
   "cell_type": "code",
   "execution_count": 10,
   "id": "ba2d8c5f",
   "metadata": {},
   "outputs": [
    {
     "name": "stdout",
     "output_type": "stream",
     "text": [
      "room_number='A013' students=['Sujit', 'Nikhil', 'Dharma'] capacity=30\n"
     ]
    }
   ],
   "source": [
    "class classroom(BaseModel):\n",
    "    room_number: str\n",
    "    students: List[str]     #List of strings\n",
    "    capacity: int\n",
    "\n",
    "C1 = classroom(room_number=\"A013\", students=[\"Sujit\", \"Nikhil\", \"Dharma\"], capacity=30)\n",
    "print(C1)"
   ]
  },
  {
   "cell_type": "markdown",
   "id": "2f255e2c",
   "metadata": {},
   "source": [
    "### Using try and except:"
   ]
  },
  {
   "cell_type": "code",
   "execution_count": 12,
   "id": "1c6caf9c",
   "metadata": {},
   "outputs": [
    {
     "name": "stdout",
     "output_type": "stream",
     "text": [
      "1 validation error for classroom\n",
      "students.1\n",
      "  Input should be a valid string [type=string_type, input_value=39, input_type=int]\n",
      "    For further information visit https://errors.pydantic.dev/2.11/v/string_type\n"
     ]
    }
   ],
   "source": [
    "try:\n",
    "    invalid_entry = classroom(room_number=\"A014\", students=[\"Amaan\", 39], capacity=25)\n",
    "except ValueError as e:\n",
    "    print(e)"
   ]
  },
  {
   "cell_type": "markdown",
   "id": "bcfe1679",
   "metadata": {},
   "source": [
    "### Complex structure with nested models:"
   ]
  },
  {
   "cell_type": "code",
   "execution_count": 13,
   "id": "82854274",
   "metadata": {},
   "outputs": [
    {
     "name": "stdout",
     "output_type": "stream",
     "text": [
      "customer_id=2134 name='Hriday' address=address(street='PB Road', city='Dharwad', zip_code=588001)\n"
     ]
    }
   ],
   "source": [
    "from pydantic import BaseModel\n",
    "\n",
    "class address(BaseModel):\n",
    "    street: str\n",
    "    city: str\n",
    "    zip_code: int\n",
    "\n",
    "class customer(BaseModel):\n",
    "    customer_id: int\n",
    "    name: str\n",
    "    address: address        # Nested Model\n",
    "\n",
    "# Creating a customer with nested address\n",
    "Cus1 = customer(\n",
    "    customer_id = \"2134\",\n",
    "    name = \"Hriday\",\n",
    "    address = {\"street\": \"PB Road\", \"city\": \"Dharwad\", \"zip_code\": \"588001\" }\n",
    ")\n",
    "print(Cus1)"
   ]
  },
  {
   "cell_type": "markdown",
   "id": "5aaaf397",
   "metadata": {},
   "source": [
    "### Pydantic Fields: Customization and constraints"
   ]
  },
  {
   "cell_type": "code",
   "execution_count": 14,
   "id": "1d9666ad",
   "metadata": {},
   "outputs": [],
   "source": [
    "from pydantic import BaseModel, Field"
   ]
  },
  {
   "cell_type": "code",
   "execution_count": 15,
   "id": "8c22150a",
   "metadata": {},
   "outputs": [],
   "source": [
    "class Item(BaseModel):\n",
    "    name: str= Field(min_length=3, max_length=30)\n",
    "    price: float= Field(gt=0, lt=1000)\n",
    "    quantity: int= Field(ge=0)"
   ]
  },
  {
   "cell_type": "code",
   "execution_count": 16,
   "id": "8ba015ff",
   "metadata": {},
   "outputs": [
    {
     "name": "stdout",
     "output_type": "stream",
     "text": [
      "name='Silver Ring' price=450.0 quantity=12\n"
     ]
    }
   ],
   "source": [
    "# valid instance\n",
    "I1 = Item(name= \"Silver Ring\", price= 450, quantity= 12)\n",
    "print(I1)"
   ]
  },
  {
   "cell_type": "code",
   "execution_count": 18,
   "id": "34ec0279",
   "metadata": {},
   "outputs": [
    {
     "name": "stdout",
     "output_type": "stream",
     "text": [
      "1 validation error for Item\n",
      "price\n",
      "  Input should be less than 1000 [type=less_than, input_value=1500, input_type=int]\n",
      "    For further information visit https://errors.pydantic.dev/2.11/v/less_than\n"
     ]
    }
   ],
   "source": [
    "# invalid instance\n",
    "try:\n",
    "    I2 = Item(name= \"Gold Chain\", price= 1500, quantity= 1)\n",
    "except ValueError as e:\n",
    "    print(e)\n"
   ]
  },
  {
   "cell_type": "markdown",
   "id": "b5e5f8fa",
   "metadata": {},
   "source": [
    "### A Model with Field Customization, Constraints and Default values"
   ]
  },
  {
   "cell_type": "code",
   "execution_count": 20,
   "id": "e9a26d42",
   "metadata": {},
   "outputs": [],
   "source": [
    "from pydantic import BaseModel, Field\n",
    "from typing import Optional\n",
    "import random"
   ]
  },
  {
   "cell_type": "code",
   "execution_count": 27,
   "id": "508c6ec4",
   "metadata": {},
   "outputs": [
    {
     "name": "stdout",
     "output_type": "stream",
     "text": [
      "name='Yashwanth' username='user408761' email='user@example.com' age=18\n",
      "name='Sunay Patil' username='user282387' email='210010052@iitdh.ac.in' age=22\n"
     ]
    }
   ],
   "source": [
    "class user(BaseModel):\n",
    "    name: str= Field(min_length=9, max_length=50, description= \"Name of the user\")\n",
    "    username: str = Field(\n",
    "        default_factory=lambda: \"user\" + str(random.randint(100000, 999999)),\n",
    "        min_length=6,\n",
    "        max_length=20,\n",
    "        description=\"Unique username of the user\"\n",
    "    )\n",
    "    email: str= Field(default= \"user@example.com\", description= \"Email of the user\")\n",
    "    age: int= Field(default= 18, description= \"Age of the user\")\n",
    "\n",
    "U1 = user(name= \"Yashwanth\")\n",
    "print(U1)\n",
    "\n",
    "U2 = user(name= \"Sunay Patil\", email= \"210010052@iitdh.ac.in\", age= \"22\")\n",
    "print(U2)"
   ]
  },
  {
   "cell_type": "code",
   "execution_count": 30,
   "id": "6b2b9f9b",
   "metadata": {},
   "outputs": [
    {
     "name": "stdout",
     "output_type": "stream",
     "text": [
      "{'properties': {'name': {'description': 'Name of the user', 'maxLength': 50, 'minLength': 9, 'title': 'Name', 'type': 'string'}, 'username': {'description': 'Unique username of the user', 'maxLength': 20, 'minLength': 6, 'title': 'Username', 'type': 'string'}, 'email': {'default': 'user@example.com', 'description': 'Email of the user', 'title': 'Email', 'type': 'string'}, 'age': {'default': 18, 'description': 'Age of the user', 'title': 'Age', 'type': 'integer'}}, 'required': ['name'], 'title': 'user', 'type': 'object'}\n"
     ]
    }
   ],
   "source": [
    "print(user.model_json_schema())"
   ]
  }
 ],
 "metadata": {
  "kernelspec": {
   "display_name": "Python 3",
   "language": "python",
   "name": "python3"
  },
  "language_info": {
   "codemirror_mode": {
    "name": "ipython",
    "version": 3
   },
   "file_extension": ".py",
   "mimetype": "text/x-python",
   "name": "python",
   "nbconvert_exporter": "python",
   "pygments_lexer": "ipython3",
   "version": "3.12.0"
  }
 },
 "nbformat": 4,
 "nbformat_minor": 5
}
